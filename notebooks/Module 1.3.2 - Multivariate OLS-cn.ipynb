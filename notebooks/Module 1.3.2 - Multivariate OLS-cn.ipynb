{
  "cells": [
    {
      "cell_type": "markdown",
      "metadata": {},
      "source": [
        "# Introduction to Quantitative Finance\n",
        "\n",
        "# 量化金融导论\n",
        "\n",
        "Copyright (c) 2019 Python Charmers Pty Ltd, Australia, <https://pythoncharmers.com>. All rights reserved.\n",
        "\n",
        "版权所有 (c) 2019 Python Charmers Pty Ltd, 澳大利亚, <https://pythoncharmers.com>。保留所有权利。\n",
        "\n",
        "<img src=\"img/python_charmers_logo.png\" width=\"300\" alt=\"Python Charmers Logo\">\n",
        "\n",
        "Published under the Creative Commons Attribution-NonCommercial 4.0 International (CC BY-NC 4.0) license. See `LICENSE.md` for details.\n",
        "\n",
        "根据知识共享署名-非商业性使用 4.0 国际 (CC BY-NC 4.0) 许可证发布。详情请参阅 `LICENSE.md`。\n",
        "\n",
        "Sponsored by Tibra Global Services, <https://tibra.com>\n",
        "\n",
        "由 Tibra Global Services 赞助，<https://tibra.com>\n",
        "\n",
        "<img src=\"img/tibra_logo.png\" width=\"300\" alt=\"Tibra Logo\">\n",
        "\n",
        "\n",
        "## Module 1.3: Ordinary Least Squares\n",
        "\n",
        "## 模块 1.3: 普通最小二乘法\n",
        "\n",
        "### 1.3.2 Multivariate OLS\n",
        "\n",
        "In the previous module, we looked at the Ordinary Least Squares (OLS) method for solving Linear Regression problems of the form:\n",
        "\n",
        "在之前的模块中，我们研究了用于解决线性回归问题的普通最小二乘法（OLS）方法，其形式为：\n",
        "\n",
        "$ Y = X\\beta + \\boldsymbol{u}$\n",
        "\n",
        "Where $Y$ is the variable we are attempting to predict (the dependent variable), $X$ is our independent variable (or multiple variables, as we will see in the next notebook), $\\beta$ is the parameters we are trying to learn, and $u$ is the error of our model, as we can often not predict data perfectly.\n",
        "\n",
        "其中，$Y$ 是我们试图预测的变量（因变量），$X$ 是我们的自变量（或多个变量，正如我们将在下一个笔记本中看到的），$\\beta$ 是我们试图学习的参数，$u$ 是我们模型的误差，因为我们通常无法完美地预测数据。\n",
        "\n",
        "In that previous module, we had just a single input variable (and added another for the constant). Most models have many, many more, including in some cases combinations of features (such as multiplying two feature values together). Multivariate OLS allows this. For instance, we might try and predict a stock price by taking the stock price of several competitors as input.\n",
        "\n",
        "在之前的模块中，我们只有一个输入变量（并添加了另一个用于常数）。大多数模型有许多更多的变量，包括在某些情况下特征的组合（例如将两个特征值相乘）。多元OLS允许这样做。例如，我们可能会尝试通过将几个竞争对手的股票价格作为输入来预测股票价格。\n",
        "\n",
        "The actual equation for OLS doesn't change. Instead, our understanding of the components ($Y$, $X$, $\\beta$ and $u$) does. Rather than be single vectors or single values, they are instead matrices and vectors.\n",
        "\n",
        "OLS 的实际方程并没有改变。相反，我们对各个组成部分（$Y$、$X$、$\\beta$ 和 $u$）的理解发生了变化。它们不再是单个向量或单个值，而是矩阵和向量。\n",
        "\n",
        "For those unfamiliar with matrix algebra, we will take a quick detour through this topic, before linking it back to Multivariate OLS at the end of this module.\n",
        "\n",
        "对于那些不熟悉矩阵代数的读者，我们将快速浏览一下这个主题，然后在本模块的最后将其与多元OLS联系起来。\n"
      ]
    },
    {
      "cell_type": "code",
      "execution_count": 1,
      "metadata": {},
      "outputs": [],
      "source": [
        "%run setup.ipy"
      ]
    },
    {
      "cell_type": "markdown",
      "metadata": {},
      "source": [
        "### Matrix Algebra\n",
        "\n",
        "### 矩阵代数\n",
        "\n",
        "Matrices are used for a very wide range of applications. They are rectangular collections of numbers, and follow several rules on multiplying, adding, dividing and other actions. There are a few differences from algebra in more \"standard\" mathematics, for instance $A \\times B \\neq B \\times A$ in most cases.\n",
        "\n",
        "矩阵被用于非常广泛的应用领域。它们是数字的矩形集合，并且在乘法、加法、除法和其他操作中遵循一些规则。与更“标准”的数学中的代数相比，有一些不同之处，例如在大多数情况下 $A \\times B \\neq B \\times A$。\n",
        "\n",
        "In matrix algebra, single values still exist, known as *scalars*:\n",
        "\n",
        "在矩阵代数中，仍然存在单个值，称为*标量*：\n",
        "\n",
        "Mathematically: $a = 1$.\n",
        "\n",
        "In code:\n",
        "\n",
        "在代码中：\n"
      ]
    },
    {
      "cell_type": "code",
      "execution_count": 2,
      "metadata": {},
      "outputs": [],
      "source": [
        "# 定义一个变量a并赋值为1\n",
        "a = 1"
      ]
    },
    {
      "cell_type": "markdown",
      "metadata": {},
      "source": [
        "On notation, as it is important going forward, a scalar is almost always written as a standard lowercase letter (specifically, not bold, as we will see soon).\n",
        "\n",
        "关于符号表示，由于它在后续内容中非常重要，标量几乎总是用标准的小写字母表示（具体来说，不加粗，我们很快就会看到）。\n",
        "\n",
        "For an ordered list of values, denoted a *vector* in matrix algebra, we use a bold lowercase letter. We can't bold our variable names in Python, so we will just continue to use lowercase letters. If you want to distinguish, some use an underscore: `_u`\n",
        "\n",
        "对于有序的值列表，在矩阵代数中称为*向量*，我们使用粗体小写字母。在 Python 中我们无法将变量名加粗，因此我们将继续使用小写字母。如果你想区分，有些人会使用下划线：`_u`\n",
        "\n",
        "Mathematically: $\\boldsymbol{u} = [0.1, 0.3, 4.6]$\n",
        "\n",
        "In code, for the NumPy library:\n",
        "\n",
        "在代码中，对于 NumPy 库：\n"
      ]
    },
    {
      "cell_type": "code",
      "execution_count": 3,
      "metadata": {},
      "outputs": [],
      "source": [
        "# 导入numpy库并重命名为np\n",
        "import numpy as np\n",
        "\n",
        "# 创建一个一维数组u，包含三个浮点数元素[0.1, 0.3, 4.6]\n",
        "u = np.array([0.1, 0.3, 4.6])"
      ]
    },
    {
      "cell_type": "markdown",
      "metadata": {},
      "source": [
        "For rectangular groups of numbers, known as a **matrix**, we use an uppercase letter:\n",
        "\n",
        "对于由数字组成的矩形组，称为**矩阵**，我们使用大写字母：\n",
        "\n",
        "Mathematically:\n",
        "\n",
        "$ X = \\begin{bmatrix}\n",
        "1 & 2 \\\\\n",
        "3 & 4 \\\\\n",
        "5 & 6 \n",
        "\\end{bmatrix}  $\n",
        "\n",
        "\n",
        "In code:\n",
        "\n",
        "在代码中：\n"
      ]
    },
    {
      "cell_type": "code",
      "execution_count": 4,
      "metadata": {},
      "outputs": [],
      "source": [
        "# 创建一个2维数组X,包含3行2列的数据\n",
        "X = np.array([\n",
        "    [1, 2],\n",
        "    [3, 4],\n",
        "    [5, 6]\n",
        "])"
      ]
    },
    {
      "cell_type": "markdown",
      "metadata": {},
      "source": [
        "In NumPy, the word *array* is used, as it can represent both a single vector or a matrix, or even higher-order data! The key distinction is the `shape` and `ndims`:\n",
        "\n",
        "在 NumPy 中，使用 *array* 这个词，因为它既可以表示单个向量或矩阵，甚至可以表示更高阶的数据！关键的区别在于 `shape` 和 `ndims`：\n"
      ]
    },
    {
      "cell_type": "code",
      "execution_count": 5,
      "metadata": {},
      "outputs": [
        {
          "data": {
            "text/plain": [
              "(3,)"
            ]
          },
          "execution_count": 5,
          "metadata": {},
          "output_type": "execute_result"
        }
      ],
      "source": [
        "# 获取数组u的形状(维度大小)\n",
        "u.shape"
      ]
    },
    {
      "cell_type": "code",
      "execution_count": 6,
      "metadata": {},
      "outputs": [
        {
          "data": {
            "text/plain": [
              "1"
            ]
          },
          "execution_count": 6,
          "metadata": {},
          "output_type": "execute_result"
        }
      ],
      "source": [
        "# 获取数组u的维度数\n",
        "u.ndim"
      ]
    },
    {
      "cell_type": "code",
      "execution_count": 7,
      "metadata": {},
      "outputs": [
        {
          "data": {
            "text/plain": [
              "(3, 2)"
            ]
          },
          "execution_count": 7,
          "metadata": {},
          "output_type": "execute_result"
        }
      ],
      "source": [
        "# 获取数组X的形状(维度大小)\n",
        "X.shape"
      ]
    },
    {
      "cell_type": "code",
      "execution_count": 8,
      "metadata": {},
      "outputs": [
        {
          "data": {
            "text/plain": [
              "2"
            ]
          },
          "execution_count": 8,
          "metadata": {},
          "output_type": "execute_result"
        }
      ],
      "source": [
        "# 获取数组X的维度数量\n",
        "X.ndim"
      ]
    },
    {
      "cell_type": "markdown",
      "metadata": {},
      "source": [
        "Here we can see that $\\boldsymbol{u}$ has one dimension (`u.ndim`), and has a shape indicating it has 3 values in that one dimension.\n",
        "\n",
        "在这里我们可以看到，$\\boldsymbol{u}$ 有一个维度（`u.ndim`），并且其形状表明它在该维度上有 3 个值。\n",
        "\n",
        "In contrast, $X$ has two dimensions (`X.ndim`), it has 3 rows, and each row has 2 columns. There are six values total:\n",
        "\n",
        "相比之下，$X$ 有两个维度（`X.ndim`），它有 3 行，每行有 2 列。总共有六个值：\n"
      ]
    },
    {
      "cell_type": "code",
      "execution_count": 9,
      "metadata": {},
      "outputs": [
        {
          "data": {
            "text/plain": [
              "6"
            ]
          },
          "execution_count": 9,
          "metadata": {},
          "output_type": "execute_result"
        }
      ],
      "source": [
        "# 获取数组X中元素的总个数\n",
        "X.size"
      ]
    },
    {
      "cell_type": "markdown",
      "metadata": {},
      "source": [
        "#### Exercises\n",
        "\n",
        "#### 练习\n",
        "\n",
        "1. Create an array representing the following matrix:\n",
        "\n",
        "1. 创建一个表示以下矩阵的数组：\n",
        "    $ \\begin{bmatrix}\n",
        "    10 & 20 & 30 \\\\\n",
        "    40 & 50 & 60 \n",
        "    \\end{bmatrix}  $\n",
        "2. In the Linear Regression Model, does the value of $\\beta$ represent a matrix or vector? Hint: Look up the greek alphabet and determine if it is an uppercase or lowercase letter.\n",
        "\n",
        "2. 在线性回归模型中，$\\beta$ 的值代表矩阵还是向量？提示：查阅希腊字母表，确定它是大写字母还是小写字母。\n"
      ]
    },
    {
      "cell_type": "code",
      "execution_count": 10,
      "metadata": {},
      "outputs": [],
      "source": [
        "# 创建一个2行3列的二维数组，第一行是[10,20,30]，第二行是[40,50,60]\n",
        "A = np.array([[10,20,30],[40,50,60]])"
      ]
    },
    {
      "cell_type": "markdown",
      "metadata": {},
      "source": [
        "Beta represents a one-dimensional array or vector.\n",
        "\n",
        "Beta 表示一维数组或向量。\n"
      ]
    },
    {
      "cell_type": "markdown",
      "metadata": {},
      "source": [
        "*For solutions, see `solutions/an_array.py`*\n",
        "\n",
        "*有关解决方案，请参见 `solutions/an_array.py`*\n"
      ]
    },
    {
      "cell_type": "markdown",
      "metadata": {},
      "source": [
        "### Working with matrices\n",
        "\n",
        "### 矩阵操作\n",
        "\n",
        "Matrix algebra follows different rules to normal algebra, but it is internally consistent and produces a wide range of benefits. First, a bit more terminology:\n",
        "\n",
        "矩阵代数遵循与普通代数不同的规则，但它在内部是一致的，并产生了广泛的好处。首先，再介绍一些术语：\n",
        "\n",
        "$ \\begin{bmatrix}\n",
        "a_{1, 1} & a_{1, 2} & a_{1, 3} \\\\\n",
        "a_{2, 1} & a_{2, 2} & a_{2, 3} \n",
        "\\end{bmatrix}  $\n",
        "\n",
        "In this matrix, we use the subscripts identify the position of the values. Consider this matrix:\n",
        "\n",
        "在这个矩阵中，我们使用下标来标识值的位置。考虑以下矩阵：\n",
        "\n",
        "$ X = \\begin{bmatrix}\n",
        "1 & 2 \\\\\n",
        "3 & 4 \\\\\n",
        "5 & 6 \n",
        "\\end{bmatrix}  $\n",
        "\n",
        "Here, the value $5$ is in the third row and first position, so it's position is $(3, 1)$. Let's look at this in code:\n",
        "\n",
        "在这里，值 $5$ 位于第三行第一列，因此它的位置是 $(3, 1)$。让我们在代码中看一下：\n"
      ]
    },
    {
      "cell_type": "code",
      "execution_count": 11,
      "metadata": {},
      "outputs": [
        {
          "data": {
            "text/plain": [
              "5"
            ]
          },
          "execution_count": 11,
          "metadata": {},
          "output_type": "execute_result"
        }
      ],
      "source": [
        "# 获取二维数组X中第3行第1列的元素(索引从0开始)\n",
        "X[2, 0]  # Huh!?"
      ]
    },
    {
      "cell_type": "markdown",
      "metadata": {},
      "source": [
        "While the numbering doesn't matter for any of the math we will see in the future, just keep in mind this general pattern:\n",
        "\n",
        "虽然编号对我们将来要看到的任何数学内容都不重要，但请记住这个一般模式：\n",
        "\n",
        "*In mathematics, we start counting from 1. In Python (and most programming languages), we start counting from zero.*\n",
        "\n",
        "在数学中，我们从1开始计数。在Python（以及大多数编程语言）中，我们从0开始计数。\n",
        "\n",
        "This can trip up careful examination of the code. Luckily, as you get more familiar working with matrices, you worry less about accessing individual values inside the matrix, and more about how the matrices fit together.\n",
        "\n",
        "这可能会在仔细检查代码时造成困扰。幸运的是，随着你对矩阵操作的熟悉，你会越来越少担心访问矩阵中的单个值，而更多地关注矩阵如何组合在一起。\n",
        "\n",
        "Next, let's look at the most basic operations in matrix algebra, between a scalar and a matrix or vector. Multiplying a matrix or a vector by a scalar simply does that operation on every element inside the matrix/vector, known as an *elementwise* operation:\n",
        "\n",
        "接下来，让我们看看矩阵代数中最基本的操作，即标量与矩阵或向量之间的操作。将矩阵或向量乘以标量，简单地对矩阵/向量中的每个元素执行该操作，这被称为*逐元素*操作。\n"
      ]
    },
    {
      "cell_type": "code",
      "execution_count": 12,
      "metadata": {},
      "outputs": [
        {
          "data": {
            "text/plain": [
              "array([[ 2,  4],\n",
              "       [ 6,  8],\n",
              "       [10, 12]])"
            ]
          },
          "execution_count": 12,
          "metadata": {},
          "output_type": "execute_result"
        }
      ],
      "source": [
        "# 将数组 X 中的每个元素乘以 2\n",
        "X * 2  # Multiplies every value inside X by 2"
      ]
    },
    {
      "cell_type": "code",
      "execution_count": 13,
      "metadata": {},
      "outputs": [
        {
          "data": {
            "text/plain": [
              "array([[4, 5],\n",
              "       [6, 7],\n",
              "       [8, 9]])"
            ]
          },
          "execution_count": 13,
          "metadata": {},
          "output_type": "execute_result"
        }
      ],
      "source": [
        "# 对矩阵X中的每个元素都加3\n",
        "X + 3  # Adds 3 to every value inside X"
      ]
    },
    {
      "cell_type": "code",
      "execution_count": 14,
      "metadata": {},
      "outputs": [
        {
          "data": {
            "text/plain": [
              "array([[0.1, 0.2],\n",
              "       [0.3, 0.4],\n",
              "       [0.5, 0.6]])"
            ]
          },
          "execution_count": 14,
          "metadata": {},
          "output_type": "execute_result"
        }
      ],
      "source": [
        "# 将数组 X 中的每个元素除以 10\n",
        "X / 10"
      ]
    },
    {
      "cell_type": "code",
      "execution_count": 15,
      "metadata": {},
      "outputs": [
        {
          "data": {
            "text/plain": [
              "array([[-99, -98],\n",
              "       [-97, -96],\n",
              "       [-95, -94]])"
            ]
          },
          "execution_count": 15,
          "metadata": {},
          "output_type": "execute_result"
        }
      ],
      "source": [
        "# 对数组X中的每个元素减去100\n",
        "X - 100"
      ]
    },
    {
      "cell_type": "markdown",
      "metadata": {},
      "source": [
        "Note that the shape of the matrix doesn't change (we will see this happen next) when doing operations with scalars like this.\n",
        "\n",
        "注意，当像这样与标量进行运算时，矩阵的形状不会改变（我们接下来会看到这一点）。\n",
        "\n",
        "The most impactful matrix algebra method is known as the *dot product*:\n",
        "\n",
        "最有影响力的矩阵代数方法被称为*点积*：\n"
      ]
    },
    {
      "cell_type": "code",
      "execution_count": 16,
      "metadata": {},
      "outputs": [],
      "source": [
        "# 创建一个2x3的矩阵A\n",
        "A = np.array([[1, 2, 3],\n",
        "              [4, 5, 6]])\n",
        "# 创建一个3x2的矩阵B\n",
        "B = np.array([[10, 20],\n",
        "              [30, 40],\n",
        "              [50, 60]])"
      ]
    },
    {
      "cell_type": "code",
      "execution_count": 17,
      "metadata": {},
      "outputs": [
        {
          "data": {
            "text/plain": [
              "array([[220, 280],\n",
              "       [490, 640]])"
            ]
          },
          "execution_count": 17,
          "metadata": {},
          "output_type": "execute_result"
        }
      ],
      "source": [
        "# 计算矩阵A和B的点积。如果使用Python 3.5+版本，可以使用 @ 运算符代替dot()方法\n",
        "A.dot(B)  # If you are using Python 3.5+, try: A @ B"
      ]
    },
    {
      "cell_type": "code",
      "execution_count": 18,
      "metadata": {},
      "outputs": [
        {
          "data": {
            "text/plain": [
              "array([[220, 280],\n",
              "       [490, 640]])"
            ]
          },
          "execution_count": 18,
          "metadata": {},
          "output_type": "execute_result"
        }
      ],
      "source": [
        "# 使用矩阵乘法运算符 @ 计算矩阵 A 和 B 的点积\n",
        "A@B"
      ]
    },
    {
      "cell_type": "markdown",
      "metadata": {},
      "source": [
        "The dot product has a key requirement. The \"inner dimensions\" must match. In the above examine, we are computing the dot product of $A$ and $B$. The order is important. $A$ has a shape of 2 by 3, and $B$ has a shape of 3 by 2. The \"inner values\", i.e. 3, match, so we can compute the dot product.\n",
        "\n",
        "点积有一个关键要求。\"内部维度\"必须匹配。在上面的例子中，我们正在计算 $A$ 和 $B$ 的点积。顺序很重要。$A$ 的形状是 2 乘 3，$B$ 的形状是 3 乘 2。\"内部值\"，即 3，匹配，所以我们可以计算点积。\n",
        "\n",
        "This operation, in contrast, doesn't work, because $C$ is of shape 4 by 3, and the inner dimension doesn't match:\n",
        "\n",
        "这个操作，相比之下，无法进行，因为 $C$ 的形状是 4 乘 3，内部维度不匹配：\n"
      ]
    },
    {
      "cell_type": "code",
      "execution_count": 19,
      "metadata": {},
      "outputs": [
        {
          "name": "stdout",
          "output_type": "stream",
          "text": [
            "Could not compute dot product of matrices. Error was:\n",
            "shapes (2,3) and (4,3) not aligned: 3 (dim 1) != 4 (dim 0)\n"
          ]
        }
      ],
      "source": [
        "# 尝试计算矩阵点积，但由于维度不匹配会抛出异常\n",
        "try:\n",
        "    # 创建一个包含0-11的数组并重塑为4x3矩阵\n",
        "    C = np.arange(12).reshape(4, 3)\n",
        "    # 尝试计算矩阵A和C的点积，但由于维度不匹配会失败\n",
        "    A.dot(C)\n",
        "except ValueError as e:\n",
        "    # 打印错误信息\n",
        "    print(\"Could not compute dot product of matrices. Error was:\")\n",
        "    print(e)"
      ]
    },
    {
      "cell_type": "markdown",
      "metadata": {},
      "source": [
        "In a dot product, the resulting matrix will be the size of the outer dimensions. In our previous (working) example, $AB$, the outer dimensions were both 2, so the resulting value was a 2 by 2 matrix.\n",
        "\n",
        "在点积中，结果矩阵的大小将是外部维度的大小。在我们之前的（有效的）例子中，$AB$，外部维度都是2，因此结果值是一个2乘2的矩阵。\n",
        "\n",
        "The values of the dot product are the *sum of the products* from the original two matrices, from the row of the first matrix and the column of the second matrix. In other words, for position (i, j) in the dot product, we get the ith row from the first matrix, and the jth column of the second matrix. For our example $AB$, and for position (2, 1) of the dot product, the second row of $A$ is $[4, 5, 6]$ and the first column of $B$ is $[10, 30, 50]$. We then sum the products of the individual values:\n",
        "\n",
        "点积的值是来自原始两个矩阵的*乘积之和*，即第一个矩阵的行与第二个矩阵的列的乘积之和。换句话说，对于点积中的位置 (i, j)，我们从第一个矩阵中获取第 i 行，从第二个矩阵中获取第 j 列。以我们的例子 $AB$ 为例，对于点积的位置 (2, 1)，$A$ 的第二行是 $[4, 5, 6]$，$B$ 的第一列是 $[10, 30, 50]$。然后我们将各个值的乘积相加：\n",
        "\n",
        "$result = 4 \\times 10 + 5 \\times 30 + 6 \\times 50 = 490$\n",
        "\n",
        "We repeat this process for every row/column combination, resulting in the dot product matrix, obtaining the result we saw above.\n",
        "\n",
        "我们对每一行/列组合重复这个过程，最终得到点积矩阵，得到我们上面看到的结果。\n",
        "\n",
        "When we compute the dot product including a vector, we need to make the distinction between a *row vector* and a *column vector*. In short, a *row vector* can be thought of as a matrix with one row, and a *column vector* as a matrix with one column. From here, the rules are the same as above (i.e. the inner dimensions must match and so on, just some of those dimension values are 1s).\n",
        "\n",
        "当我们计算包含向量的点积时，我们需要区分*行向量*和*列向量*。简而言之，*行向量*可以被视为只有一行的矩阵，而*列向量*可以被视为只有一列的矩阵。从这里开始，规则与上述相同（即内部维度必须匹配，依此类推，只是其中一些维度值为1）。\n"
      ]
    },
    {
      "cell_type": "code",
      "execution_count": 20,
      "metadata": {},
      "outputs": [
        {
          "data": {
            "text/plain": [
              "(1, 3)"
            ]
          },
          "execution_count": 20,
          "metadata": {},
          "output_type": "execute_result"
        }
      ],
      "source": [
        "# 创建一个2维数组V1,值为[[10, 20, 30]]。注意使用双层方括号来创建2维数组\n",
        "V1 = np.array([[10, 20, 30]])  # Note the double brackets, which create a two dimensional array\n",
        "# 查看V1数组的形状\n",
        "V1.shape"
      ]
    },
    {
      "cell_type": "code",
      "execution_count": 21,
      "metadata": {},
      "outputs": [
        {
          "data": {
            "text/plain": [
              "(3, 2)"
            ]
          },
          "execution_count": 21,
          "metadata": {},
          "output_type": "execute_result"
        }
      ],
      "source": [
        "# 获取数组B的形状维度\n",
        "B.shape"
      ]
    },
    {
      "cell_type": "code",
      "execution_count": 22,
      "metadata": {},
      "outputs": [
        {
          "data": {
            "text/plain": [
              "array([[2200, 2800]])"
            ]
          },
          "execution_count": 22,
          "metadata": {},
          "output_type": "execute_result"
        }
      ],
      "source": [
        "# 计算矩阵 V1 和矩阵 B 的点积\n",
        "V1.dot(B)"
      ]
    },
    {
      "cell_type": "code",
      "execution_count": 23,
      "metadata": {},
      "outputs": [
        {
          "data": {
            "text/plain": [
              "array([[2200, 2800]])"
            ]
          },
          "execution_count": 23,
          "metadata": {},
          "output_type": "execute_result"
        }
      ],
      "source": [
        "# 使用矩阵乘法计算V1和B的乘积，等同于V1.dot(B)\n",
        "np.matmul(V1,B)"
      ]
    },
    {
      "cell_type": "code",
      "execution_count": 24,
      "metadata": {},
      "outputs": [
        {
          "data": {
            "text/plain": [
              "array([[10],\n",
              "       [20],\n",
              "       [30]])"
            ]
          },
          "execution_count": 24,
          "metadata": {},
          "output_type": "execute_result"
        }
      ],
      "source": [
        "# 将矩阵 V1 转置，即行列互换\n",
        "V1.transpose()"
      ]
    },
    {
      "cell_type": "markdown",
      "metadata": {},
      "source": [
        "#### Exercises\n",
        "\n",
        "#### 练习\n",
        "\n",
        "1. Create a column vector `V2` such that the value `B.dot(V2)` can be computed. \n",
        "\n",
        "1. 创建一个列向量 `V2`，使得可以计算 `B.dot(V2)` 的值。\n",
        "2. What is the dot product when all values in `V2` are ones?\n",
        "\n",
        "2. 当 `V2` 中的所有值都为 1 时，点积是多少？\n",
        "3. You can transpose any NumPy array with two dimensions or more by calling `X.transpose()` or `X.T`. What does this function do? Hint: Look at the shape of the array\n",
        "\n",
        "3. 你可以通过调用 `X.transpose()` 或 `X.T` 来转置任何具有两个或更多维度的 NumPy 数组。这个函数的作用是什么？提示：查看数组的形状。\n"
      ]
    },
    {
      "cell_type": "code",
      "execution_count": 25,
      "metadata": {},
      "outputs": [
        {
          "name": "stdout",
          "output_type": "stream",
          "text": [
            "The dot product is the sum of the rows of B when V2 is a column vector of ones. Transposing reverses the dimensions.\n"
          ]
        }
      ],
      "source": [
        "# 创建一个2x1的列向量,值都为1\n",
        "V2 = np.array([[1], [1]])\n",
        "# 计算矩阵B和列向量V2的点积\n",
        "B.dot(V2)\n",
        "# 打印说明:当V2是全1的列向量时,点积结果是B的每一行元素之和。转置会反转维度。\n",
        "print(\"The dot product is the sum of the rows of B when V2 is a column vector of ones. Transposing reverses the dimensions.\")"
      ]
    },
    {
      "cell_type": "markdown",
      "metadata": {},
      "source": [
        "*For solutions, see `solutions/matrix_products.py`*\n",
        "\n",
        "*有关解决方案，请参见 `solutions/matrix_products.py`*\n"
      ]
    },
    {
      "cell_type": "markdown",
      "metadata": {},
      "source": [
        "### Matrix algebra terminology and properties\n",
        "\n",
        "### 矩阵代数术语和性质\n",
        "\n",
        "There are quite a few bits of terminology that are important to know before going forward:\n",
        "\n",
        "在继续之前，有一些术语非常重要，需要了解：\n",
        "\n",
        "* **square matrix**: A matrix where the number of rows is equal to the number of columns\n",
        "\n",
        "* **方阵**: 行数与列数相等的矩阵\n",
        "* **diagonal matrix**: A square matrix, where only values on the diagonal are non-zero and all other values are zero. That is, for value in position (i, j), it is zero if $i\\neq j$, and *may be non-zero* only if $i=j$\n",
        "\n",
        "* **对角矩阵**: 一个方阵，其中只有对角线上的值是非零的，其他所有值都是零。也就是说，对于位置 (i, j) 上的值，如果 $i\\neq j$，则为零，只有在 $i=j$ 时*可能非零*。\n",
        "* **identity matrix**: A diagonal matrix where *all* diagonal elements are 1. It is denoted as $I$, and usually the size is implied by the context (i.e. if you are computing the dot product $XI$, then $I$ will be a square matrix with the size of the second dimension of $X$).\n",
        "\n",
        "* **单位矩阵**：一个对角矩阵，其中*所有*对角线元素均为1。它用$I$表示，通常其大小由上下文决定（例如，如果你正在计算点积$XI$，那么$I$将是一个与$X$的第二维度大小相同的方阵）。\n",
        "* **scalar matrix**: A diagonal matrix where *all* diagonal elements are some scalar value. Its size too can often be implied by the context.\n",
        "\n",
        "* **标量矩阵**：一种对角矩阵，其中*所有*对角线元素都是某个标量值。其大小通常也可以从上下文中推断出来。\n",
        "* **transpose**: rotating a matrix 90°, denoted by a quote symbol. That is, the transpose of $A$ is $A'$, and it has values such that $A_{i, j} = A'_{j, i}$. The transpose of the transpose of a matrix is equal to the original matrix, i.e. $A'' = A$.\n",
        "\n",
        "* **转置**：将矩阵旋转90°，用引号符号表示。即，矩阵 $A$ 的转置为 $A'$，其值满足 $A_{i, j} = A'_{j, i}$。矩阵的转置的转置等于原矩阵，即 $A'' = A$。\n",
        "* **symmetric matrix**: A matrix that is equal to its transpose.\n",
        "\n",
        "* **对称矩阵**: 一个矩阵等于其转置矩阵。\n",
        "* **null matrix/vector**: A matrix/vector where all values are 0. Its size is often implied from the context.\n",
        "\n",
        "* **零矩阵/向量**: 所有值都为0的矩阵/向量。其大小通常由上下文推断。\n"
      ]
    },
    {
      "cell_type": "markdown",
      "metadata": {},
      "source": [
        "#### Exercises\n",
        "\n",
        "#### 练习\n",
        "\n",
        "1. Use the `np.arange` and `np.reshape` functions to create a square matrix\n",
        "\n",
        "1. 使用 `np.arange` 和 `np.reshape` 函数创建一个方阵\n",
        "2. Use the `np.diag` function to create a diagonal matrix\n",
        "\n",
        "2. 使用 `np.diag` 函数创建一个对角矩阵\n",
        "3. Use the `np.eye` function to create an identity matrix\n",
        "4. Create a scalar matrix\n",
        "\n",
        "4. 创建一个标量矩阵\n",
        "5. Use the `np.zeros` function to create a null matrix of size 4 by 5\n",
        "\n",
        "5. 使用 `np.zeros` 函数创建一个大小为 4 行 5 列的零矩阵\n"
      ]
    },
    {
      "cell_type": "code",
      "execution_count": 26,
      "metadata": {},
      "outputs": [
        {
          "name": "stdout",
          "output_type": "stream",
          "text": [
            "[[0 1 2]\n",
            " [3 4 5]\n",
            " [6 7 8]]\n",
            "[[3 0 0 0]\n",
            " [0 3 0 0]\n",
            " [0 0 4 0]\n",
            " [0 0 0 5]]\n",
            "[[1. 0. 0.]\n",
            " [0. 1. 0.]\n",
            " [0. 0. 1.]]\n",
            "[[ 0  1  2]\n",
            " [ 3  4  5]\n",
            " [ 6  7  8]\n",
            " [ 9 10 11]]\n",
            "[[0. 0. 0. 0. 0.]\n",
            " [0. 0. 0. 0. 0.]\n",
            " [0. 0. 0. 0. 0.]\n",
            " [0. 0. 0. 0. 0.]]\n"
          ]
        }
      ],
      "source": [
        "# 创建一个3x3的方阵，值从0到8\n",
        "SQ = np.arange(9).reshape([3,3])\n",
        "print(SQ)\n",
        "\n",
        "# 创建一个对角矩阵，对角线上的值为[3,3,4,5]\n",
        "DG = np.diag([3,3,4,5])\n",
        "print(DG)\n",
        "\n",
        "# 创建一个3x3的单位矩阵(对角线为1，其他位置为0)\n",
        "I = np.eye(3)\n",
        "print(I)\n",
        "\n",
        "# 将单位矩阵的所有元素乘以9\n",
        "SC = I*9\n",
        "print(C)\n",
        "\n",
        "# 创建一个4x5的全零矩阵\n",
        "Z = np.zeros([4,5])\n",
        "print(Z)"
      ]
    },
    {
      "cell_type": "markdown",
      "metadata": {},
      "source": [
        "*For solutions, see `solutions/matrix_terminology.py`*\n",
        "\n",
        "*有关解决方案，请参见 `solutions/matrix_terminology.py`*\n"
      ]
    },
    {
      "cell_type": "markdown",
      "metadata": {},
      "source": [
        "### Matrix inversion\n",
        "\n",
        "### 矩阵求逆\n",
        "\n",
        "The inverse of a matrix ($A$) is a matrix ($A^{-1}$) satisfying the equation $A^{-1}A = AA^{-1} = I$, remembering that $I$ is the identity matrix, a square matrix with all ones on the diagonal, and zeros elsewhere.\n",
        "\n",
        "矩阵的逆（$A$）是一个满足方程 $A^{-1}A = AA^{-1} = I$ 的矩阵（$A^{-1}$），记住 $I$ 是单位矩阵，一个对角线全为1，其余部分全为0的方阵。\n",
        "\n",
        "If $A$ is a matrix of size $(n, m)$, then $I$ must be of size $(n, n)$. This is due to the dot product, meaning the inverse must be of size $(m, n)$ to compute the dot product in the first place. However, the inverse can only be computed for square matrices. The size of $A$ in this process will be $(n, n)$, so the inverse must also be $(n, n)$.\n",
        "\n",
        "如果 $A$ 是一个大小为 $(n, m)$ 的矩阵，那么 $I$ 必须是大小为 $(n, n)$ 的矩阵。这是由于点积的原因，意味着逆矩阵必须首先具有 $(m, n)$ 的大小才能计算点积。然而，逆矩阵只能为方阵计算。在此过程中，$A$ 的大小将是 $(n, n)$，因此逆矩阵也必须是 $(n, n)$ 的大小。\n",
        "\n",
        "Not every square matrix has an inverse. Looking at how to compute the inverse of a matrix will take us a little too far off topic for now. To investigate this further, start with this website from Wolfram: http://mathworld.wolfram.com/MatrixInverse.html\n",
        "\n",
        "并非每个方阵都有逆矩阵。目前来看，讨论如何计算矩阵的逆会让我们偏离主题太远。要进一步研究这个问题，可以从Wolfram的这个网站开始：http://mathworld.wolfram.com/MatrixInverse.html\n",
        "\n",
        "We can compute the inverse using the `np.linalg.inv` function.\n",
        "\n",
        "我们可以使用 `np.linalg.inv` 函数来计算逆矩阵。\n"
      ]
    },
    {
      "cell_type": "code",
      "execution_count": 27,
      "metadata": {},
      "outputs": [],
      "source": [
        "# 计算矩阵A和B的点积,结果存储在矩阵D中(D是一个方阵)\n",
        "D = A.dot(B)  # Note: D is square"
      ]
    },
    {
      "cell_type": "code",
      "execution_count": 28,
      "metadata": {},
      "outputs": [],
      "source": [
        "# 使用numpy的线性代数函数计算矩阵D的逆矩阵\n",
        "D_inverse = np.linalg.inv(D)"
      ]
    },
    {
      "cell_type": "code",
      "execution_count": 29,
      "metadata": {},
      "outputs": [
        {
          "data": {
            "text/plain": [
              "array([[ 0.17777778, -0.07777778],\n",
              "       [-0.13611111,  0.06111111]])"
            ]
          },
          "execution_count": 29,
          "metadata": {},
          "output_type": "execute_result"
        }
      ],
      "source": [
        "# 输出矩阵D的逆矩阵\n",
        "D_inverse"
      ]
    },
    {
      "cell_type": "code",
      "execution_count": 30,
      "metadata": {},
      "outputs": [
        {
          "data": {
            "text/plain": [
              "array([[ 1.00000000e+00, -1.66533454e-15],\n",
              "       [-7.10542736e-15,  1.00000000e+00]])"
            ]
          },
          "execution_count": 30,
          "metadata": {},
          "output_type": "execute_result"
        }
      ],
      "source": [
        "# 计算矩阵 D 和其逆矩阵 D_inverse 的点积,理论上应该得到单位矩阵\n",
        "D.dot(D_inverse)"
      ]
    },
    {
      "cell_type": "code",
      "execution_count": 31,
      "metadata": {},
      "outputs": [
        {
          "data": {
            "text/plain": [
              "array([[False, False],\n",
              "       [False, False]])"
            ]
          },
          "execution_count": 31,
          "metadata": {},
          "output_type": "execute_result"
        }
      ],
      "source": [
        "# 由于计算机浮点数计算的特性，矩阵与其逆矩阵相乘的结果与单位矩阵非常接近但并不完全相等\n",
        "D.dot(D_inverse) == np.eye(2)"
      ]
    },
    {
      "cell_type": "code",
      "execution_count": 32,
      "metadata": {},
      "outputs": [
        {
          "data": {
            "text/plain": [
              "True"
            ]
          },
          "execution_count": 32,
          "metadata": {},
          "output_type": "execute_result"
        }
      ],
      "source": [
        "# 这个函数可以帮助我们比较两个矩阵是否近似相等\n",
        "np.allclose(D.dot(D_inverse), np.eye(2))"
      ]
    },
    {
      "cell_type": "markdown",
      "metadata": {},
      "source": [
        "### Multivariate OLS derivation\n",
        "\n",
        "### 多元OLS推导\n",
        "\n",
        "Now that we have an understanding of matrix algebra, we can review our model for the Linear Regression model to incorporate multiple values. That said, what does our input data actually look like?\n",
        "\n",
        "既然我们已经理解了矩阵代数，我们可以回顾一下线性回归模型，以纳入多个值。那么，我们的输入数据实际上是什么样子的呢？\n",
        "\n",
        "We often use $X$ as our set of independent variables. It is a carefully constructed matrix, with size $n$ by $k$, where $n$ is the number of samples, and $k$ is the number of measurements *per sample*. It is critically important that samples and measurement types are aligned. That is, all values for row $i$ must correspond to the same sample $i$, and all values in column $j$ must correspond to the same measurement type for each sample. Therefore, the value in $X_{i, j}$ is measurement type $j$ for sample $i$.\n",
        "\n",
        "我们通常使用 $X$ 作为我们的自变量集合。它是一个精心构建的矩阵，大小为 $n$ 乘以 $k$，其中 $n$ 是样本数量，$k$ 是每个样本的测量数量。样本和测量类型的对齐至关重要。也就是说，行 $i$ 中的所有值必须对应于同一个样本 $i$，而列 $j$ 中的所有值必须对应于每个样本的相同测量类型。因此，$X_{i, j}$ 中的值是样本 $i$ 的测量类型 $j$。\n",
        "\n",
        "As an example, a sample could be a given day. A measurement type could be \"closing price of IBM\". Therefore, the corresponding value would be the closing price of IBM on that given day. Another measurement for that day could be \"number of trades for MSFT\". Another could be temperature. These multiple measurements of the same sample would appear in the same row. Each column would be the same *type* of measurement, for multiple samples.\n",
        "\n",
        "翻译结果:\n",
        "例如，一个样本可以是某一天。一个测量类型可以是“IBM的收盘价”。因此，对应的值将是该天IBM的收盘价。该天的另一个测量可以是“MSFT的交易数量”。另一个可以是温度。这些同一样本的多个测量将出现在同一行中。每一列将是相同类型的测量，针对多个样本。\n",
        "\n",
        "Additionally, it helps the Linear Regression model significantly to add a bias to the model. To do this, simply have one of the \"measurements\" (usually the first) simply always return the scalar 1. That makes your first column in $X$ just ones, and then the actual measurements take up the rest of the columns. To visualise why this is important, consider the following two models:\n",
        "\n",
        "此外，向线性回归模型添加偏置项可以显著提升模型的效果。为此，只需让其中一个“测量值”（通常是第一个）始终返回标量1。这样，矩阵$X$的第一列就全是1，而实际的测量值则占据其余列。为了理解为什么这样做很重要，可以考虑以下两个模型：\n"
      ]
    },
    {
      "cell_type": "code",
      "execution_count": 33,
      "metadata": {},
      "outputs": [],
      "source": [
        "# 创建一个从-100到100的等差数列,共1000个点\n",
        "x = np.linspace(-100, 100, 1000)"
      ]
    },
    {
      "cell_type": "code",
      "execution_count": 34,
      "metadata": {},
      "outputs": [
        {
          "data": {
            "text/plain": [
              "[<matplotlib.lines.Line2D at 0x7fe08edcbb60>]"
            ]
          },
          "execution_count": 34,
          "metadata": {},
          "output_type": "execute_result"
        },
        {
          "data": {
            "image/png": "[encoded data removed]",
            "text/plain": [
              "<Figure size 640x480 with 1 Axes>"
            ]
          },
          "metadata": {},
          "output_type": "display_data"
        }
      ],
      "source": [
        "# 不包含截距项的线性方程\n",
        "gradient = 3  # 设置斜率为3\n",
        "y1 = x * gradient  # 计算y值，y = 3x\n",
        "\n",
        "# 用红色绘制坐标轴\n",
        "plt.plot(x, np.zeros(len(x)), 'r-', alpha=0.5)  # 绘制x轴，alpha=0.5表示半透明\n",
        "plt.plot(np.zeros(len(y1)), y1, 'r-', alpha=0.5)  # 绘制y轴，alpha=0.5表示半透明\n",
        "\n",
        "# 用蓝色绘制直线y=3x\n",
        "plt.plot(x, y1, 'b-')"
      ]
    },
    {
      "cell_type": "markdown",
      "metadata": {},
      "source": [
        "In the above plot, we can change the gradient, but the line must go through the origin (try it!). If we add a bias, we can then have lines that do not go through the origin:\n",
        "\n",
        "在上面的图中，我们可以改变梯度，但直线必须经过原点（试试看！）。如果我们添加一个偏置，就可以得到不经过原点的直线：\n"
      ]
    },
    {
      "cell_type": "code",
      "execution_count": 35,
      "metadata": {},
      "outputs": [
        {
          "data": {
            "text/plain": [
              "[<matplotlib.lines.Line2D at 0x7fe086ca9490>]"
            ]
          },
          "execution_count": 35,
          "metadata": {},
          "output_type": "execute_result"
        },
        {
          "data": {
            "image/png": "[encoded data removed]",
            "text/plain": [
              "<Figure size 640x480 with 1 Axes>"
            ]
          },
          "metadata": {},
          "output_type": "display_data"
        }
      ],
      "source": [
        "# 定义直线的斜率为3\n",
        "gradient = 3\n",
        "# 定义直线的截距为60\n",
        "bias = 60\n",
        "\n",
        "# 计算直线方程 y = 3x + 60\n",
        "y2 = gradient * x + bias\n",
        "\n",
        "# Plot the origin axes in red\n",
        "plt.plot(x, np.zeros(len(x)), 'r-', alpha=0.5)\n",
        "plt.plot(np.zeros(len(y2)), y2, 'r-', alpha=0.5)\n",
        "\n",
        "# Plot the data in blue\n",
        "plt.plot(x, y2, 'b-')"
      ]
    },
    {
      "cell_type": "markdown",
      "metadata": {},
      "source": [
        "This result is true too of higher-dimensional data. This gives our model much more predictive power, simply by adding ones to our matrix! The $\\beta$ values for this constant column are learned in the same way that the other variables.\n",
        "\n",
        "这个结果对于高维数据也是成立的。通过简单地在矩阵中添加一列1，我们的模型获得了更强的预测能力！这个常数列的$\\beta$值与其他变量的学习方式相同。\n",
        "\n",
        "Now that we have the format for $X$, let's look at the shape of the other parts of the Linear Model. As a reminder, we have denoted the shape of $X$ as an $n$ by $k$ matrix, where $n$ is the number of samples and $k$ is the number of measurements (also called \"features\").\n",
        "\n",
        "现在我们已经了解了 $X$ 的格式，让我们来看看线性模型的其他部分的形状。提醒一下，我们将 $X$ 的形状表示为 $n$ 乘 $k$ 的矩阵，其中 $n$ 是样本数量，$k$ 是测量数量（也称为“特征”）。\n",
        "\n",
        "* $\\boldsymbol{y}$ is a column vector with shape $n$ by 1. It is the predicted value, for each sample.\n",
        "* $\\beta$ is a column vector with shape $k$ by 1. It is the value we multiply each measurement by, i.e. each measurement's \"weight\"\n",
        "* $\\boldsymbol{u}$ is the error term for the prediction of each sample. It therefore has shape $n$ by 1.\n",
        "\n",
        "Using this information and our new knowledge of matrix algebra, we can derive the OLS Estimator for multivariate OLS, where $X$ contains multiple measurements:\n",
        "\n",
        "利用这些信息和我们新学到的矩阵代数知识，我们可以推导出多元OLS的OLS估计量，其中$X$包含多个测量值：\n"
      ]
    },
    {
      "cell_type": "markdown",
      "metadata": {},
      "source": [
        "$$\n",
        "\\begin{align*}\n",
        "u'u & = (y - Xb)'(y - Xb) \\\\\n",
        "    & = y'y - y'Xb - b'X'y + b'X'Xb \\\\\n",
        "    & = y'y - 2b'X'y + b'X'Xb\n",
        "\\end{align*}\n",
        "$$\n",
        "\n",
        "\n",
        "Setting $\\frac{ \\partial(\\boldsymbol{u'}\\boldsymbol{u})}{ \\partial\\beta} = 0$ yields:\n",
        "\n",
        "$$\n",
        "\\begin{align}\n",
        "0 &= -2X'y + 2X'Xb \\\\\n",
        "b &= (X'X)^{-1}X'y\n",
        "\\end{align}\n",
        "$$"
      ]
    },
    {
      "cell_type": "markdown",
      "metadata": {},
      "source": [
        "Let us now have a look at how to do multivariate OLS within code, in the `statsmodels` package, using two interfaces, the functional and the formula interface.\n",
        "\n",
        "现在让我们来看看如何在代码中使用 `statsmodels` 包进行多元 OLS，使用两种接口：函数式接口和公式接口。\n"
      ]
    },
    {
      "cell_type": "code",
      "execution_count": 36,
      "metadata": {},
      "outputs": [],
      "source": [
        "# 首先,从 Quandl 获取数据 - 利率、通货膨胀率和澳元汇率"
      ]
    },
    {
      "cell_type": "code",
      "execution_count": 40,
      "metadata": {},
      "outputs": [
        {
          "name": "stderr",
          "output_type": "stream",
          "text": [
            "[*********************100%***********************]  1 of 1 completed\n",
            "[*********************100%***********************]  1 of 1 completed\n",
            "[*********************100%***********************]  1 of 1 completed"
          ]
        },
        {
          "name": "stdout",
          "output_type": "stream",
          "text": [
            "数据集大小: (3920, 3)\n",
            "\n",
            "数据集前5行:\n",
            "Ticker        GOVT.AX  AUDUSD=X     ILB.AX\n",
            "Date                                      \n",
            "2010-01-01  18.900673  0.898473  85.899384\n",
            "2010-01-04  18.900673  0.912492  85.899384\n",
            "2010-01-05  18.900673  0.911826  85.899384\n",
            "2010-01-06  18.900673  0.920471  85.899384\n",
            "2010-01-07  18.900673  0.917768  85.899384\n",
            "\n",
            "数据集中的缺失值:\n",
            "Ticker\n",
            "GOVT.AX     0\n",
            "AUDUSD=X    0\n",
            "ILB.AX      0\n",
            "dtype: int64\n"
          ]
        },
        {
          "name": "stderr",
          "output_type": "stream",
          "text": [
            "\n",
            "/tmp/ipykernel_58026/798281063.py:58: FutureWarning: DataFrame.fillna with 'method' is deprecated and will raise in a future version. Use obj.ffill() or obj.bfill() instead.\n",
            "  data = data.fillna(method='ffill')\n",
            "/tmp/ipykernel_58026/798281063.py:60: FutureWarning: DataFrame.fillna with 'method' is deprecated and will raise in a future version. Use obj.ffill() or obj.bfill() instead.\n",
            "  data = data.fillna(method='bfill')\n"
          ]
        }
      ],
      "source": [
        "# # 导入 quandl 库，用于获取金融数据\n",
        "# import quandl\n",
        "\n",
        "# # 从 quandl 获取澳大利亚储备银行的利率数据\n",
        "# interest_rates = quandl.get(\"RBA/F13_FOOIRATCR\")\n",
        "# interest_rates = interest_rates[interest_rates.columns[0]]  # Extract the first column, whatever it is called\n",
        "# interest_rates.name = \"InterestRate\"  # Rename, as the original had a long name. Hint: don't use spaces or special chars\n",
        "\n",
        "# 导入所需库\n",
        "import yfinance as yf\n",
        "import pandas as pd\n",
        "import numpy as np\n",
        "\n",
        "# 获取澳大利亚国债收益率ETF作为利率替代指标\n",
        "# 使用澳大利亚政府债券ETF (GOVT.AX)和iShares Treasury ETF (IAF.AX)作为备选\n",
        "try:\n",
        "    interest_proxy = yf.download('GOVT.AX', start='2010-01-01')['Close']\n",
        "except:\n",
        "    try:\n",
        "        interest_proxy = yf.download('IAF.AX', start='2010-01-01')['Close']\n",
        "    except:\n",
        "        # 如果ETF数据不可用，使用澳大利亚10年期国债收益率\n",
        "        interest_proxy = yf.download('^ATVL10', start='2010-01-01')['Close']\n",
        "interest_proxy.name = 'InterestRate'\n",
        "interest_rates = interest_proxy\n",
        "interest_rates.name = 'InterestRate'\n",
        "\n",
        "# 获取澳元兑美元汇率数据\n",
        "# 尝试多个汇率数据源\n",
        "try:\n",
        "    audusd = yf.download('AUDUSD=X', start='2010-01-01')['Close']\n",
        "except:\n",
        "    try:\n",
        "        audusd = yf.download('AUD=X', start='2010-01-01')['Close']\n",
        "    except:\n",
        "        # 如果直接汇率不可用，使用澳元ETF (FXA)\n",
        "        audusd = yf.download('FXA', start='2010-01-01')['Close']\n",
        "audusd.name = 'AUDUSD'\n",
        "\n",
        "# 获取澳大利亚通胀率的替代指标\n",
        "# 使用多个通胀相关ETF作为替代\n",
        "try:\n",
        "    inflation_proxy = yf.download('ILB.AX', start='2010-01-01')['Close']\n",
        "except:\n",
        "    try:\n",
        "        # 使用澳大利亚消费者必需品ETF作为通胀替代指标\n",
        "        inflation_proxy = yf.download('EZA', start='2010-01-01')['Close']\n",
        "    except:\n",
        "        # 使用全球通胀挂钩债券ETF\n",
        "        inflation_proxy = yf.download('GTIP', start='2010-01-01')['Close']\n",
        "inflation_proxy.name = 'Inflation'\n",
        "\n",
        "# 将数据合并到一个DataFrame中\n",
        "data = pd.concat([interest_proxy, audusd, inflation_proxy], axis=1)\n",
        "\n",
        "# 处理缺失值\n",
        "# 1. 首先使用前向填充\n",
        "data = data.fillna(method='ffill')\n",
        "# 2. 然后使用后向填充处理开始的缺失值\n",
        "data = data.fillna(method='bfill')\n",
        "\n",
        "print(\"数据集大小:\", data.shape)\n",
        "print(\"\\n数据集前5行:\")\n",
        "print(data.head())\n",
        "print(\"\\n数据集中的缺失值:\")\n",
        "print(data.isnull().sum())"
      ]
    },
    {
      "cell_type": "code",
      "execution_count": 41,
      "metadata": {},
      "outputs": [
        {
          "data": {
            "text/html": [
              "<div>\n",
              "<style scoped>\n",
              "    .dataframe tbody tr th:only-of-type {\n",
              "        vertical-align: middle;\n",
              "    }\n",
              "\n",
              "    .dataframe tbody tr th {\n",
              "        vertical-align: top;\n",
              "    }\n",
              "\n",
              "    .dataframe thead th {\n",
              "        text-align: right;\n",
              "    }\n",
              "</style>\n",
              "<table border=\"1\" class=\"dataframe\">\n",
              "  <thead>\n",
              "    <tr style=\"text-align: right;\">\n",
              "      <th>Ticker</th>\n",
              "      <th>GOVT.AX</th>\n",
              "    </tr>\n",
              "    <tr>\n",
              "      <th>Date</th>\n",
              "      <th></th>\n",
              "    </tr>\n",
              "  </thead>\n",
              "  <tbody>\n",
              "    <tr>\n",
              "      <th>2012-07-27</th>\n",
              "      <td>18.900673</td>\n",
              "    </tr>\n",
              "    <tr>\n",
              "      <th>2012-07-30</th>\n",
              "      <td>18.802050</td>\n",
              "    </tr>\n",
              "    <tr>\n",
              "      <th>2012-07-31</th>\n",
              "      <td>18.821093</td>\n",
              "    </tr>\n",
              "    <tr>\n",
              "      <th>2012-08-01</th>\n",
              "      <td>18.802271</td>\n",
              "    </tr>\n",
              "    <tr>\n",
              "      <th>2012-08-02</th>\n",
              "      <td>18.776155</td>\n",
              "    </tr>\n",
              "  </tbody>\n",
              "</table>\n",
              "</div>"
            ],
            "text/plain": [
              "Ticker        GOVT.AX\n",
              "Date                 \n",
              "2012-07-27  18.900673\n",
              "2012-07-30  18.802050\n",
              "2012-07-31  18.821093\n",
              "2012-08-01  18.802271\n",
              "2012-08-02  18.776155"
            ]
          },
          "execution_count": 41,
          "metadata": {},
          "output_type": "execute_result"
        }
      ],
      "source": [
        "# 显示利率数据的前5行\n",
        "interest_rates.head()"
      ]
    },
    {
      "cell_type": "code",
      "execution_count": 42,
      "metadata": {},
      "outputs": [
        {
          "ename": "NameError",
          "evalue": "name 'quandl' is not defined",
          "output_type": "error",
          "traceback": [
            "\u001b[0;31m---------------------------------------------------------------------------\u001b[0m",
            "\u001b[0;31mNameError\u001b[0m                                 Traceback (most recent call last)",
            "Cell \u001b[0;32mIn[42], line 2\u001b[0m\n\u001b[1;32m      1\u001b[0m \u001b[38;5;66;03m# 从Quandl获取澳大利亚通货膨胀率数据\u001b[39;00m\n\u001b[0;32m----> 2\u001b[0m inflation \u001b[38;5;241m=\u001b[39m \u001b[43mquandl\u001b[49m\u001b[38;5;241m.\u001b[39mget(\u001b[38;5;124m\"\u001b[39m\u001b[38;5;124mRBA/G01_GCPIAGSAQP\u001b[39m\u001b[38;5;124m\"\u001b[39m)\n\u001b[1;32m      3\u001b[0m \u001b[38;5;66;03m# 将数据列名重命名为'Inflation'\u001b[39;00m\n\u001b[1;32m      4\u001b[0m inflation\u001b[38;5;241m.\u001b[39mcolumns \u001b[38;5;241m=\u001b[39m [\u001b[38;5;124m'\u001b[39m\u001b[38;5;124mInflation\u001b[39m\u001b[38;5;124m'\u001b[39m]\n",
            "\u001b[0;31mNameError\u001b[0m: name 'quandl' is not defined"
          ]
        }
      ],
      "source": [
        "# 从Quandl获取澳大利亚通货膨胀率数据\n",
        "inflation = quandl.get(\"RBA/G01_GCPIAGSAQP\")\n",
        "# 将数据列名重命名为'Inflation'\n",
        "inflation.columns = ['Inflation']"
      ]
    },
    {
      "cell_type": "code",
      "execution_count": 97,
      "metadata": {},
      "outputs": [],
      "source": [
        "# 使用 iloc 索引方式获取第一列数据,这是获取第一列的另一种方法\n",
        "inflation = inflation.iloc[:, 0]  # Another way to achieve the same \"get the first column\""
      ]
    },
    {
      "cell_type": "code",
      "execution_count": 98,
      "metadata": {},
      "outputs": [
        {
          "data": {
            "text/plain": [
              "Date\n",
              "1982-06-30    2.5\n",
              "1982-09-30    3.5\n",
              "1982-12-31    2.7\n",
              "1983-03-31    2.4\n",
              "1983-06-30    2.2\n",
              "Name: Inflation, dtype: float64"
            ]
          },
          "execution_count": 98,
          "metadata": {},
          "output_type": "execute_result"
        }
      ],
      "source": [
        "# 显示通货膨胀数据的前5行\n",
        "inflation.head()"
      ]
    },
    {
      "cell_type": "code",
      "execution_count": 100,
      "metadata": {},
      "outputs": [],
      "source": [
        "# 从 Quandl 获取澳元兑美元汇率数据\n",
        "au_dollar = quandl.get(\"BUNDESBANK/BBEX3_M_AUD_USD_CM_AC_A01\")['Value']\n",
        "# 将数据列名重命名为 AUDUSD\n",
        "au_dollar.name = \"AUDUSD\""
      ]
    },
    {
      "cell_type": "code",
      "execution_count": 101,
      "metadata": {},
      "outputs": [
        {
          "data": {
            "text/plain": [
              "Date\n",
              "1974-01-31    1.4875\n",
              "1974-02-28    1.4875\n",
              "1974-03-31    1.4875\n",
              "1974-04-30    1.4875\n",
              "1974-05-31    1.4875\n",
              "Name: AUDUSD, dtype: float64"
            ]
          },
          "execution_count": 101,
          "metadata": {},
          "output_type": "execute_result"
        }
      ],
      "source": [
        "# 展示澳元汇率数据的前5行\n",
        "au_dollar.head()"
      ]
    },
    {
      "cell_type": "code",
      "execution_count": 104,
      "metadata": {},
      "outputs": [],
      "source": [
        "# 将多个数据序列合并在一起创建数据集"
      ]
    },
    {
      "cell_type": "code",
      "execution_count": 104,
      "metadata": {},
      "outputs": [],
      "source": [
        "# 使用pd.concat()函数将利率、通货膨胀率和澳元汇率三个数据序列按列(axis=1)合并成一个DataFrame数据框\n",
        "data = pd.concat([interest_rates, inflation, au_dollar], axis=1)  # Combines multiple series into a DataFrame"
      ]
    },
    {
      "cell_type": "code",
      "execution_count": 105,
      "metadata": {},
      "outputs": [
        {
          "data": {
            "text/plain": [
              "125"
            ]
          },
          "execution_count": 105,
          "metadata": {},
          "output_type": "execute_result"
        }
      ],
      "source": [
        "# 删除数据集中的所有缺失值(NA)，直接在原数据上修改\n",
        "data.dropna(inplace=True)\n",
        "# 获取处理后的数据集长度\n",
        "len(data)"
      ]
    },
    {
      "cell_type": "code",
      "execution_count": 106,
      "metadata": {},
      "outputs": [
        {
          "data": {
            "text/html": [
              "<div>\n",
              "<style scoped>\n",
              "    .dataframe tbody tr th:only-of-type {\n",
              "        vertical-align: middle;\n",
              "    }\n",
              "\n",
              "    .dataframe tbody tr th {\n",
              "        vertical-align: top;\n",
              "    }\n",
              "\n",
              "    .dataframe thead th {\n",
              "        text-align: right;\n",
              "    }\n",
              "</style>\n",
              "<table border=\"1\" class=\"dataframe\">\n",
              "  <thead>\n",
              "    <tr style=\"text-align: right;\">\n",
              "      <th></th>\n",
              "      <th>InterestRate</th>\n",
              "      <th>Inflation</th>\n",
              "      <th>AUDUSD</th>\n",
              "    </tr>\n",
              "    <tr>\n",
              "      <th>Date</th>\n",
              "      <th></th>\n",
              "      <th></th>\n",
              "      <th></th>\n",
              "    </tr>\n",
              "  </thead>\n",
              "  <tbody>\n",
              "    <tr>\n",
              "      <td>1990-03-31</td>\n",
              "      <td>16.5</td>\n",
              "      <td>1.6</td>\n",
              "      <td>0.7542</td>\n",
              "    </tr>\n",
              "    <tr>\n",
              "      <td>1990-06-30</td>\n",
              "      <td>15.0</td>\n",
              "      <td>1.8</td>\n",
              "      <td>0.7890</td>\n",
              "    </tr>\n",
              "    <tr>\n",
              "      <td>1990-09-30</td>\n",
              "      <td>14.0</td>\n",
              "      <td>0.9</td>\n",
              "      <td>0.8265</td>\n",
              "    </tr>\n",
              "    <tr>\n",
              "      <td>1990-12-31</td>\n",
              "      <td>12.0</td>\n",
              "      <td>2.4</td>\n",
              "      <td>0.7733</td>\n",
              "    </tr>\n",
              "    <tr>\n",
              "      <td>1991-03-31</td>\n",
              "      <td>12.0</td>\n",
              "      <td>-0.2</td>\n",
              "      <td>0.7752</td>\n",
              "    </tr>\n",
              "  </tbody>\n",
              "</table>\n",
              "</div>"
            ],
            "text/plain": [
              "            InterestRate  Inflation  AUDUSD\n",
              "Date                                       \n",
              "1990-03-31          16.5        1.6  0.7542\n",
              "1990-06-30          15.0        1.8  0.7890\n",
              "1990-09-30          14.0        0.9  0.8265\n",
              "1990-12-31          12.0        2.4  0.7733\n",
              "1991-03-31          12.0       -0.2  0.7752"
            ]
          },
          "execution_count": 106,
          "metadata": {},
          "output_type": "execute_result"
        }
      ],
      "source": [
        "# 显示数据集的前5行数据\n",
        "data.head()"
      ]
    },
    {
      "cell_type": "code",
      "execution_count": 107,
      "metadata": {},
      "outputs": [],
      "source": [
        "# 使用利率和美元汇率来预测通货膨胀率\n",
        "# Using the interest rate and USD conversion to predict Inflation\n",
        "X = data[[\"InterestRate\", \"AUDUSD\"]]  # 选取利率和澳元兑美元汇率作为特征变量\n",
        "y = data['Inflation']  # 选取通货膨胀率作为目标变量"
      ]
    },
    {
      "cell_type": "code",
      "execution_count": 108,
      "metadata": {},
      "outputs": [
        {
          "name": "stderr",
          "output_type": "stream",
          "text": [
            "C:\\Users\\marin\\Anaconda3\\lib\\site-packages\\numpy\\core\\fromnumeric.py:2389: FutureWarning: Method .ptp is deprecated and will be removed in a future version. Use numpy.ptp instead.\n",
            "  return ptp(axis=axis, out=out, **kwargs)\n"
          ]
        }
      ],
      "source": [
        "# 导入statsmodels统计建模库\n",
        "import statsmodels.api as sm\n",
        "# Nice helper function from statsmodels for adding a bias/constant\n",
        "# 使用statsmodels的辅助函数为特征矩阵X添加一个常数列(偏置项)\n",
        "X = sm.add_constant(X)"
      ]
    },
    {
      "cell_type": "code",
      "execution_count": 109,
      "metadata": {},
      "outputs": [
        {
          "data": {
            "text/html": [
              "<div>\n",
              "<style scoped>\n",
              "    .dataframe tbody tr th:only-of-type {\n",
              "        vertical-align: middle;\n",
              "    }\n",
              "\n",
              "    .dataframe tbody tr th {\n",
              "        vertical-align: top;\n",
              "    }\n",
              "\n",
              "    .dataframe thead th {\n",
              "        text-align: right;\n",
              "    }\n",
              "</style>\n",
              "<table border=\"1\" class=\"dataframe\">\n",
              "  <thead>\n",
              "    <tr style=\"text-align: right;\">\n",
              "      <th></th>\n",
              "      <th>const</th>\n",
              "      <th>InterestRate</th>\n",
              "      <th>AUDUSD</th>\n",
              "    </tr>\n",
              "    <tr>\n",
              "      <th>Date</th>\n",
              "      <th></th>\n",
              "      <th></th>\n",
              "      <th></th>\n",
              "    </tr>\n",
              "  </thead>\n",
              "  <tbody>\n",
              "    <tr>\n",
              "      <td>1990-03-31</td>\n",
              "      <td>1.0</td>\n",
              "      <td>16.5</td>\n",
              "      <td>0.7542</td>\n",
              "    </tr>\n",
              "    <tr>\n",
              "      <td>1990-06-30</td>\n",
              "      <td>1.0</td>\n",
              "      <td>15.0</td>\n",
              "      <td>0.7890</td>\n",
              "    </tr>\n",
              "    <tr>\n",
              "      <td>1990-09-30</td>\n",
              "      <td>1.0</td>\n",
              "      <td>14.0</td>\n",
              "      <td>0.8265</td>\n",
              "    </tr>\n",
              "    <tr>\n",
              "      <td>1990-12-31</td>\n",
              "      <td>1.0</td>\n",
              "      <td>12.0</td>\n",
              "      <td>0.7733</td>\n",
              "    </tr>\n",
              "    <tr>\n",
              "      <td>1991-03-31</td>\n",
              "      <td>1.0</td>\n",
              "      <td>12.0</td>\n",
              "      <td>0.7752</td>\n",
              "    </tr>\n",
              "  </tbody>\n",
              "</table>\n",
              "</div>"
            ],
            "text/plain": [
              "            const  InterestRate  AUDUSD\n",
              "Date                                   \n",
              "1990-03-31    1.0          16.5  0.7542\n",
              "1990-06-30    1.0          15.0  0.7890\n",
              "1990-09-30    1.0          14.0  0.8265\n",
              "1990-12-31    1.0          12.0  0.7733\n",
              "1991-03-31    1.0          12.0  0.7752"
            ]
          },
          "execution_count": 109,
          "metadata": {},
          "output_type": "execute_result"
        }
      ],
      "source": [
        "# 显示数据集X的前5行数据\n",
        "X.head()"
      ]
    },
    {
      "cell_type": "code",
      "execution_count": 110,
      "metadata": {},
      "outputs": [
        {
          "data": {
            "text/html": [
              "<table class=\"simpletable\">\n",
              "<caption>OLS Regression Results</caption>\n",
              "<tr>\n",
              "  <th>Dep. Variable:</th>        <td>Inflation</td>    <th>  R-squared:         </th> <td>   0.102</td>\n",
              "</tr>\n",
              "<tr>\n",
              "  <th>Model:</th>                   <td>OLS</td>       <th>  Adj. R-squared:    </th> <td>   0.087</td>\n",
              "</tr>\n",
              "<tr>\n",
              "  <th>Method:</th>             <td>Least Squares</td>  <th>  F-statistic:       </th> <td>   6.929</td>\n",
              "</tr>\n",
              "<tr>\n",
              "  <th>Date:</th>             <td>Tue, 15 Feb 2022</td> <th>  Prob (F-statistic):</th>  <td>0.00141</td>\n",
              "</tr>\n",
              "<tr>\n",
              "  <th>Time:</th>                 <td>15:22:00</td>     <th>  Log-Likelihood:    </th> <td> -100.11</td>\n",
              "</tr>\n",
              "<tr>\n",
              "  <th>No. Observations:</th>      <td>   125</td>      <th>  AIC:               </th> <td>   206.2</td>\n",
              "</tr>\n",
              "<tr>\n",
              "  <th>Df Residuals:</th>          <td>   122</td>      <th>  BIC:               </th> <td>   214.7</td>\n",
              "</tr>\n",
              "<tr>\n",
              "  <th>Df Model:</th>              <td>     2</td>      <th>                     </th>     <td> </td>   \n",
              "</tr>\n",
              "<tr>\n",
              "  <th>Covariance Type:</th>      <td>nonrobust</td>    <th>                     </th>     <td> </td>   \n",
              "</tr>\n",
              "</table>\n",
              "<table class=\"simpletable\">\n",
              "<tr>\n",
              "        <td></td>          <th>coef</th>     <th>std err</th>      <th>t</th>      <th>P>|t|</th>  <th>[0.025</th>    <th>0.975]</th>  \n",
              "</tr>\n",
              "<tr>\n",
              "  <th>const</th>        <td>    0.2446</td> <td>    0.308</td> <td>    0.794</td> <td> 0.429</td> <td>   -0.365</td> <td>    0.855</td>\n",
              "</tr>\n",
              "<tr>\n",
              "  <th>InterestRate</th> <td>    0.0646</td> <td>    0.017</td> <td>    3.720</td> <td> 0.000</td> <td>    0.030</td> <td>    0.099</td>\n",
              "</tr>\n",
              "<tr>\n",
              "  <th>AUDUSD</th>       <td>    0.0730</td> <td>    0.385</td> <td>    0.190</td> <td> 0.850</td> <td>   -0.688</td> <td>    0.834</td>\n",
              "</tr>\n",
              "</table>\n",
              "<table class=\"simpletable\">\n",
              "<tr>\n",
              "  <th>Omnibus:</th>       <td>49.562</td> <th>  Durbin-Watson:     </th> <td>   1.909</td>\n",
              "</tr>\n",
              "<tr>\n",
              "  <th>Prob(Omnibus):</th> <td> 0.000</td> <th>  Jarque-Bera (JB):  </th> <td> 455.460</td>\n",
              "</tr>\n",
              "<tr>\n",
              "  <th>Skew:</th>          <td> 0.997</td> <th>  Prob(JB):          </th> <td>1.25e-99</td>\n",
              "</tr>\n",
              "<tr>\n",
              "  <th>Kurtosis:</th>      <td>12.136</td> <th>  Cond. No.          </th> <td>    56.6</td>\n",
              "</tr>\n",
              "</table><br/><br/>Warnings:<br/>[1] Standard Errors assume that the covariance matrix of the errors is correctly specified."
            ],
            "text/plain": [
              "<class 'statsmodels.iolib.summary.Summary'>\n",
              "\"\"\"\n",
              "                            OLS Regression Results                            \n",
              "==============================================================================\n",
              "Dep. Variable:              Inflation   R-squared:                       0.102\n",
              "Model:                            OLS   Adj. R-squared:                  0.087\n",
              "Method:                 Least Squares   F-statistic:                     6.929\n",
              "Date:                Tue, 15 Feb 2022   Prob (F-statistic):            0.00141\n",
              "Time:                        15:22:00   Log-Likelihood:                -100.11\n",
              "No. Observations:                 125   AIC:                             206.2\n",
              "Df Residuals:                     122   BIC:                             214.7\n",
              "Df Model:                           2                                         \n",
              "Covariance Type:            nonrobust                                         \n",
              "================================================================================\n",
              "                   coef    std err          t      P>|t|      [0.025      0.975]\n",
              "--------------------------------------------------------------------------------\n",
              "const            0.2446      0.308      0.794      0.429      -0.365       0.855\n",
              "InterestRate     0.0646      0.017      3.720      0.000       0.030       0.099\n",
              "AUDUSD           0.0730      0.385      0.190      0.850      -0.688       0.834\n",
              "==============================================================================\n",
              "Omnibus:                       49.562   Durbin-Watson:                   1.909\n",
              "Prob(Omnibus):                  0.000   Jarque-Bera (JB):              455.460\n",
              "Skew:                           0.997   Prob(JB):                     1.25e-99\n",
              "Kurtosis:                      12.136   Cond. No.                         56.6\n",
              "==============================================================================\n",
              "\n",
              "Warnings:\n",
              "[1] Standard Errors assume that the covariance matrix of the errors is correctly specified.\n",
              "\"\"\""
            ]
          },
          "execution_count": 110,
          "metadata": {},
          "output_type": "execute_result"
        }
      ],
      "source": [
        "# 拟合一个普通最小二乘(OLS)模型并获取摘要\n",
        "est = sm.OLS(y, X).fit()\n",
        "\n",
        "est.summary()"
      ]
    },
    {
      "cell_type": "markdown",
      "metadata": {},
      "source": [
        "We'll come back to what these values mean in the next notebook.\n",
        "\n",
        "我们将在下一个笔记本中回到这些值的含义。\n"
      ]
    },
    {
      "cell_type": "code",
      "execution_count": 111,
      "metadata": {},
      "outputs": [],
      "source": [
        "# 使用模型预测通货膨胀率\n",
        "y_pred = est.predict(X)\n",
        "# 设置预测结果的名称为\"PredictedInflation\"\n",
        "y_pred.name = \"PredictedInflation\""
      ]
    },
    {
      "cell_type": "code",
      "execution_count": 112,
      "metadata": {},
      "outputs": [
        {
          "data": {
            "text/plain": [
              "<matplotlib.axes._subplots.AxesSubplot at 0x1ce421e13c8>"
            ]
          },
          "execution_count": 112,
          "metadata": {},
          "output_type": "execute_result"
        },
        {
          "data": {
            "image/png": "[encoded data removed]",
            "text/plain": [
              "<Figure size 432x288 with 1 Axes>"
            ]
          },
          "metadata": {
            "needs_background": "light"
          },
          "output_type": "display_data"
        }
      ],
      "source": [
        "# 将实际通货膨胀率y和预测的通货膨胀率y_pred在同一张图上进行对比绘制\n",
        "pd.concat([y, y_pred], axis=1).plot()"
      ]
    },
    {
      "cell_type": "markdown",
      "metadata": {},
      "source": [
        "Our OLS model is able to roughly model the general trend of the inflation!\n",
        "\n",
        "我们的 OLS 模型能够大致模拟通货膨胀的总体趋势！\n",
        "\n",
        "<div class=\"alert alert-warning\">\n",
        "    Don't get too excited about the quality of that prediction! We are currently overfitting that data, so we haven't determined the actual predictive power of the model. In short, to evaluate your model you must evaluate using data the model hasn't seen before.\n",
        "\n",
        "不要对预测的质量过于兴奋！我们目前正在过度拟合这些数据，因此尚未确定模型的实际预测能力。简而言之，要评估你的模型，你必须使用模型之前未见过的数据进行评估。\n",
        "</div>"
      ]
    },
    {
      "cell_type": "markdown",
      "metadata": {},
      "source": [
        "#### Exercises\n",
        "\n",
        "Perform a more robust evaluation of the model by following these steps:\n",
        "\n",
        "执行以下步骤以对模型进行更稳健的评估：\n",
        "\n",
        "1. Split your input data (the `data` variable) into two-thirds training and one-third testing.\n",
        "\n",
        "1. 将输入数据（`data` 变量）分成三分之二的训练数据和三分之一的测试数据。\n",
        "2. Fit the model *only* on the training data\n",
        "\n",
        "2. 仅使用训练数据拟合模型\n",
        "3. Predict the testing data and evaluate the results.\n",
        "\n",
        "3. 预测测试数据并评估结果。\n"
      ]
    },
    {
      "cell_type": "code",
      "execution_count": 118,
      "metadata": {},
      "outputs": [
        {
          "data": {
            "text/plain": [
              "<matplotlib.axes._subplots.AxesSubplot at 0x1ce42ab0608>"
            ]
          },
          "execution_count": 118,
          "metadata": {},
          "output_type": "execute_result"
        },
        {
          "data": {
            "image/png": "[encoded data removed]",
            "text/plain": [
              "<Figure size 432x288 with 1 Axes>"
            ]
          },
          "metadata": {
            "needs_background": "light"
          },
          "output_type": "display_data"
        }
      ],
      "source": [
        "# 从sklearn导入训练集测试集分割函数\n",
        "from sklearn.model_selection import train_test_split\n",
        "\n",
        "# 将数据集分割为训练集和测试集,测试集占30%,随机种子为25\n",
        "training_data, testing_data = train_test_split(data, test_size=0.3, random_state=25)\n",
        "\n",
        "# 使用训练集数据拟合OLS模型,使用利率和澳元汇率预测通货膨胀率\n",
        "est_mod = sm.OLS(training_data['Inflation'], training_data[[\"InterestRate\", \"AUDUSD\"]]).fit()\n",
        "\n",
        "# 输出模型统计摘要\n",
        "est_mod.summary()\n",
        "\n",
        "# 使用训练好的模型对测试集数据进行预测\n",
        "test_pred = est_mod.predict(testing_data[[\"InterestRate\", \"AUDUSD\"]])\n",
        "# 设置预测结果的名称\n",
        "test_pred.name = \"TestDataPredictedInflation\"\n",
        "\n",
        "# 将测试集的实际通货膨胀率和预测值绘制在同一张图上进行对比\n",
        "pd.concat([testing_data['Inflation'], test_pred], axis=1).plot()"
      ]
    },
    {
      "cell_type": "markdown",
      "metadata": {},
      "source": [
        "*For solutions, see `solutions/ols_train_test.py`*\n",
        "\n",
        "*有关解决方案，请参见 `solutions/ols_train_test.py`*\n"
      ]
    },
    {
      "cell_type": "markdown",
      "metadata": {},
      "source": [
        "### Using the Formula interface\n",
        "\n",
        "### 使用公式接口\n",
        "\n",
        "The second method of performing multivariate OLS using statsmodels is using the formula interface. It is faster to develop using the formula interface, but has it's own mini \"R-like\" language to learn to create the formulas. That said, it automatically does things like expand multiplied variables, adds constants and can perform basic computations (try calling `np.log` inside the formula!).\n",
        "\n",
        "使用 statsmodels 进行多元 OLS 的第二种方法是使用公式接口。使用公式接口开发速度更快，但需要学习一种类似 R 的小型语言来创建公式。也就是说，它会自动执行诸如扩展乘法变量、添加常数以及执行基本计算的操作（尝试在公式中调用 `np.log`！）。\n",
        "\n",
        "The Formula interface is likely better for most development needs. However if you need fine grained control over the variables, you may need to drop back to the previous object-oriented interface.\n",
        "\n",
        "公式接口可能更适合大多数开发需求。然而，如果您需要对变量进行细粒度的控制，您可能需要回到之前的面向对象接口。\n"
      ]
    },
    {
      "cell_type": "code",
      "execution_count": 119,
      "metadata": {},
      "outputs": [],
      "source": [
        "# 导入statsmodels的公式API模块\n",
        "import statsmodels.formula.api as smf\n",
        "# 使用公式语法创建并拟合OLS模型，预测通货膨胀率与利率和澳元汇率的关系\n",
        "est = smf.ols(formula='Inflation ~ InterestRate + AUDUSD', data=data).fit()  # Adds the constant for us"
      ]
    },
    {
      "cell_type": "code",
      "execution_count": 120,
      "metadata": {},
      "outputs": [
        {
          "data": {
            "text/plain": [
              "<matplotlib.axes._subplots.AxesSubplot at 0x1ce42b86f48>"
            ]
          },
          "execution_count": 120,
          "metadata": {},
          "output_type": "execute_result"
        },
        {
          "data": {
            "image/png": "[encoded data removed]",
            "text/plain": [
              "<Figure size 432x288 with 1 Axes>"
            ]
          },
          "metadata": {
            "needs_background": "light"
          },
          "output_type": "display_data"
        }
      ],
      "source": [
        "# 使用模型预测通货膨胀率\n",
        "y_pred = est.predict(X)\n",
        "# 设置预测结果的名称为\"PredictedInflation\"\n",
        "y_pred.name = \"PredictedInflation\"\n",
        "# 将实际通货膨胀率和预测的通货膨胀率数据合并并绘制图表\n",
        "pd.concat([y, y_pred], axis=1).plot()"
      ]
    },
    {
      "cell_type": "markdown",
      "metadata": {},
      "source": [
        "Using this method, we can also more easily modify the formula, for instance, to incorporate a new feature which is the interaction between Interest Rate and AUD/USD:\n",
        "\n",
        "使用这种方法，我们还可以更轻松地修改公式，例如，加入一个新特征，即利率与澳元/美元之间的相互作用：\n"
      ]
    },
    {
      "cell_type": "code",
      "execution_count": 121,
      "metadata": {},
      "outputs": [],
      "source": [
        "# 导入statsmodels库的formula API\n",
        "import statsmodels.formula.api as smf\n",
        "# 使用OLS(普通最小二乘法)拟合模型，公式包含通货膨胀率、利率、澳元汇率及其交互项\n",
        "est = smf.ols(formula='Inflation ~ InterestRate + AUDUSD + (InterestRate * AUDUSD)', \n",
        "              data=data).fit()  # Does the constant for us"
      ]
    },
    {
      "cell_type": "code",
      "execution_count": 122,
      "metadata": {},
      "outputs": [
        {
          "data": {
            "text/plain": [
              "<matplotlib.axes._subplots.AxesSubplot at 0x1ce42c42a08>"
            ]
          },
          "execution_count": 122,
          "metadata": {},
          "output_type": "execute_result"
        },
        {
          "data": {
            "image/png": "[encoded data removed]",
            "text/plain": [
              "<Figure size 432x288 with 1 Axes>"
            ]
          },
          "metadata": {
            "needs_background": "light"
          },
          "output_type": "display_data"
        }
      ],
      "source": [
        "# 使用模型预测通货膨胀率\n",
        "y_pred = est.predict(X)\n",
        "# 设置预测结果的列名为\"PredictedInflation\"\n",
        "y_pred.name = \"PredictedInflation\"\n",
        "# 将实际通货膨胀率和预测值合并并绘制图表进行对比\n",
        "pd.concat([y, y_pred], axis=1).plot()"
      ]
    },
    {
      "cell_type": "markdown",
      "metadata": {},
      "source": [
        "#### Exercises\n",
        "\n",
        "1. Perform the same train/test split that we did for the previous exercises\n",
        "\n",
        "1. 执行与之前练习相同的训练/测试集划分\n",
        "2. Review the documentation for the formula API: https://www.statsmodels.org/dev/example_formulas.html\n",
        "\n",
        "2. 查看公式 API 的文档：https://www.statsmodels.org/dev/example_formulas.html\n",
        "3. Try a few different combinations of the input parameters to get better predictive power.\n",
        "\n",
        "3. 尝试几种不同的输入参数组合，以提高预测能力。\n"
      ]
    },
    {
      "cell_type": "code",
      "execution_count": 123,
      "metadata": {},
      "outputs": [
        {
          "data": {
            "text/plain": [
              "<matplotlib.axes._subplots.AxesSubplot at 0x1ce42d2c5c8>"
            ]
          },
          "execution_count": 123,
          "metadata": {},
          "output_type": "execute_result"
        },
        {
          "data": {
            "image/png": "[encoded data removed]",
            "text/plain": [
              "<Figure size 432x288 with 1 Axes>"
            ]
          },
          "metadata": {
            "needs_background": "light"
          },
          "output_type": "display_data"
        }
      ],
      "source": [
        "# 将数据集分成训练集和测试集,测试集占30%,设置随机种子为25\n",
        "training_data, testing_data = train_test_split(data, test_size=0.3, random_state=25)\n",
        "\n",
        "# 使用OLS拟合模型,公式包含利率、澳元汇率及其交互项\n",
        "est_mod2 = smf.ols(formula='Inflation ~ InterestRate + AUDUSD + (InterestRate * AUDUSD)', \n",
        "              data=data).fit() \n",
        "\n",
        "# 输出模型摘要统计信息\n",
        "est_mod2.summary()\n",
        "\n",
        "# 使用测试集数据进行通货膨胀率预测\n",
        "test_pred2 = est_mod2.predict(testing_data[[\"InterestRate\", \"AUDUSD\"]])\n",
        "test_pred2.name = \"Test2DataPredictedInflation\"\n",
        "\n",
        "# 将实际通货膨胀率和预测值在同一图表中绘制对比\n",
        "pd.concat([testing_data['Inflation'], test_pred2], axis=1).plot()"
      ]
    },
    {
      "cell_type": "markdown",
      "metadata": {},
      "source": [
        "*For solutions, see `solutions/statsmodels_formula_ols.py`*\n",
        "\n",
        "*有关解决方案，请参见 `solutions/statsmodels_formula_ols.py`*\n"
      ]
    }
  ],
  "metadata": {
    "kernelspec": {
      "display_name": "quant_finance",
      "language": "python",
      "name": "python3"
    },
    "language_info": {
      "codemirror_mode": {
        "name": "ipython",
        "version": 3
      },
      "file_extension": ".py",
      "mimetype": "text/x-python",
      "name": "python",
      "nbconvert_exporter": "python",
      "pygments_lexer": "ipython3",
      "version": "3.12.3"
    }
  },
  "nbformat": 4,
  "nbformat_minor": 2
}
