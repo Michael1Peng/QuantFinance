{
  "cells": [
    {
      "cell_type": "markdown",
      "metadata": {},
      "source": [
        "# Introduction to Quantitative Finance\n",
        "\n",
        "# 量化金融导论\n",
        "\n",
        "Copyright (c) 2019 Python Charmers Pty Ltd, Australia, <https://pythoncharmers.com>. All rights reserved.\n",
        "\n",
        "版权 (c) 2019 Python Charmers Pty Ltd, 澳大利亚, <https://pythoncharmers.com>。保留所有权利。\n",
        "\n",
        "<img src=\"img/python_charmers_logo.png\" width=\"300\" alt=\"Python Charmers Logo\">\n",
        "\n",
        "Published under the Creative Commons Attribution-NonCommercial 4.0 International (CC BY-NC 4.0) license. See `LICENSE.md` for details.\n",
        "\n",
        "根据知识共享署名-非商业性使用 4.0 国际 (CC BY-NC 4.0) 许可证发布。详情请参阅 `LICENSE.md`。\n",
        "\n",
        "Sponsored by Tibra Global Services, <https://tibra.com>\n",
        "\n",
        "由 Tibra Global Services 赞助，<https://tibra.com>\n",
        "\n",
        "<img src=\"img/tibra_logo.png\" width=\"300\" alt=\"Tibra Logo\">\n",
        "\n",
        "\n",
        "## Module 1.2: Covariance and Correlation\n",
        "\n",
        "## 模块 1.2: 协方差与相关性\n",
        "\n",
        "### 1.2.2 Correlation\n",
        "\n",
        "### 1.2.2 相关性\n",
        "\n",
        "\n",
        "In the last module, we saw the covariance of two variables, defined as\n",
        "\n",
        "在上一个模块中，我们看到了两个变量的协方差，定义为\n",
        "\n",
        "$cov(X,Y) = E[(X-E[X])(Y-E[Y])]$\n",
        "\n",
        "Which reduces to the easier-to-compute form as:\n",
        "\n",
        "这简化为更容易计算的形式：\n",
        "\n",
        "$cov(X,Y) = E[XY] - E[X]E[Y]$\n",
        "\n",
        "The covariance is a useful metric, but has a dimensionality problem.\n",
        "\n",
        "协方差是一个有用的度量指标，但它存在维度问题。\n",
        "That is, if we have two random variables $X$ and $Y$, where $X$ is a person's height in cm, and $Y$ is a person's \n",
        "\n",
        "也就是说，如果我们有两个随机变量 $X$ 和 $Y$，其中 $X$ 是一个人的身高（以厘米为单位），$Y$ 是一个人的体重（以千克为单位），那么协方差的单位是 $cmkg$，这并不是大多数人熟悉和直观理解的单位。例如，5cmkg 的协方差意味着什么？\n",
        "weight in kilograms, the resulting covariance has units of $cmkg$, which is not a unit most people have experience and an intuition about. For example, what does a covariance of 5cmkg mean?\n",
        "\n",
        "体重以千克为单位，得到的协方差的单位为 $cmkg$，这不是大多数人熟悉和直观理解的单位。例如，5cmkg 的协方差意味着什么？\n",
        "\n",
        "To fix this, we can normalise the covariance, and obtain the correlation. This gives a bounded range between -1 and 1, and more represents the degree that two variables move together, independent of the scale of the values.\n",
        "\n",
        "为了解决这个问题，我们可以对协方差进行归一化，得到相关性。这给出了一个介于-1和1之间的有界范围，并且更能代表两个变量一起移动的程度，与数值的尺度无关。\n",
        "\n",
        "For instance, let's setup two sets of data:\n",
        "\n",
        "例如，让我们设置两组数据：\n"
      ]
    },
    {
      "cell_type": "code",
      "execution_count": 25,
      "metadata": {},
      "outputs": [],
      "source": [
        "%run setup.ipy"
      ]
    },
    {
      "cell_type": "code",
      "execution_count": 26,
      "metadata": {},
      "outputs": [],
      "source": [
        "# 身高数据(单位:厘米)\n",
        "X = np.array([188.53675454, 184.70654578, 151.09735791, 164.36483092,\n",
        "       168.26683755, 164.16100367, 192.05069779, 165.76617936,\n",
        "       168.06909493, 188.90621868, 174.92165251, 153.59884988,\n",
        "       175.2229729 , 191.1264832 , 173.65462449, 174.29709269,\n",
        "       174.42391046, 148.76843808, 195.88238234, 177.81542544])"
      ]
    },
    {
      "cell_type": "code",
      "execution_count": 27,
      "metadata": {},
      "outputs": [],
      "source": [
        "# 体重数据,单位为千克\n",
        "Y = np.array([ 97.16635985,  66.56711927,  78.46545355,  82.73956732,\n",
        "        50.27365043,  71.2523942 , 110.05660504,  63.83136855,\n",
        "        54.91020919,  82.22492553,  91.159724  ,  63.59812684,\n",
        "        53.32374706,  63.87788126,  92.49811908,  57.29296249,\n",
        "        87.04770013,  46.03189333,  59.9751531 ,  84.22532972])"
      ]
    },
    {
      "cell_type": "code",
      "execution_count": 28,
      "metadata": {},
      "outputs": [
        {
          "data": {
            "text/plain": [
              "87.38932004789447"
            ]
          },
          "execution_count": 28,
          "metadata": {},
          "output_type": "execute_result"
        }
      ],
      "source": [
        "# 计算身高(X)和体重(Y)的协方差，[0,1]表示取协方差矩阵中的第一行第二列元素\n",
        "np.cov(X, Y)[0, 1]  # For the reason we need to sub-index, see the previous module."
      ]
    },
    {
      "cell_type": "markdown",
      "metadata": {},
      "source": [
        "This covariance is positive, so we know that as X changes, Y changes in the same direction. The value itself is nearly meaningless to us here, and one should be careful to try and interpret it.\n",
        "\n",
        "这个协方差是正的，所以我们知道当 X 变化时，Y 也会朝相同的方向变化。这个值本身在这里对我们几乎没有意义，我们应该小心尝试解释它。\n",
        "\n",
        "Correlation can be computed a couple of different ways, but the most useful (and most common) for us here is to derive it from the covariance. \n",
        "\n",
        "相关性可以通过几种不同的方式计算，但对我们来说，最有用（也最常见）的方法是从协方差中推导出来。\n",
        "\n",
        "As the covariance is:\n",
        "\n",
        "$cov(X,Y) = E[(X-E[X])(Y-E[Y])]$\n",
        "\n",
        "The correlation is a normalisation of this value:\n",
        "\n",
        "相关性是这个值的归一化：\n",
        "\n",
        "$corr(X,Y) = \\frac{cov(X, Y)}{\\sigma_X \\sigma_Y}$\n",
        "\n",
        "Which is:\n",
        "\n",
        "$corr(X, Y) = \\frac{E[(X-E[X])(Y-E[Y])]}{\\sigma_X \\sigma_Y}$\n",
        "\n",
        "As both $\\sigma_X$ and $\\sigma_Y$ have the same dimension as the original $X$ and $Y$, the value $\\sigma_X \\sigma_Y$ has the same dimension as the covariance. In our previous example, the standard deviation of $X$ is about 29.3cm and the standard deviation of $Y$ is about 58.65kg, so the value $\\sigma_X \\sigma_Y$ is approximately 1720 cmkg. This unit cancels out the unit of the covariance term (the numerator in the fraction), giving a dimensionless value.\n",
        "\n",
        "由于 $\\sigma_X$ 和 $\\sigma_Y$ 与原始的 $X$ 和 $Y$ 具有相同的维度，因此 $\\sigma_X \\sigma_Y$ 的值与协方差具有相同的维度。在我们之前的例子中，$X$ 的标准差约为 29.3 厘米，$Y$ 的标准差约为 58.65 千克，因此 $\\sigma_X \\sigma_Y$ 的值约为 1720 厘米千克。这个单位抵消了协方差项（分数的分子）的单位，从而得到一个无量纲的值。\n"
      ]
    },
    {
      "cell_type": "markdown",
      "metadata": {},
      "source": [
        "#### Exercises\n",
        "\n",
        "#### 练习\n",
        "\n",
        "For each of the next three questions, work out the answer using three techniques:\n",
        "\n",
        "对于接下来的三个问题，使用以下三种方法找出答案：\n",
        "\n",
        "* Intuitively guess the answer\n",
        "\n",
        "* 直观地猜测答案\n",
        "* Write some code to estimate the answer (for instance, create a random variable `X = np.random.randn...`)\n",
        "\n",
        "* 编写一些代码来估计答案（例如，创建一个随机变量 `X = np.random.randn...`）\n",
        "* Solve mathematically \n",
        "\n",
        "Find the following three values:\n",
        "\n",
        "找到以下三个值：\n",
        "\n",
        "1. What is the correlation of a variable with itself?\n",
        "\n",
        "1. 一个变量与自身的相关性是多少？\n",
        "2. What is the correlation of the negation of a variable with itself?\n",
        "\n",
        "2. 一个变量的否定与自身的相关性是什么？\n",
        "3. What is the correlation of a randomly-chosen variable with another randomly-chosen variable?\n",
        "\n",
        "3. 随机选择的变量与另一个随机选择的变量之间的相关性是多少？\n"
      ]
    },
    {
      "cell_type": "code",
      "execution_count": 29,
      "metadata": {},
      "outputs": [
        {
          "name": "stdout",
          "output_type": "stream",
          "text": [
            "The correlation of something with itself is 1 intuitively, i.e. perfect correlation.\n",
            "1.0\n"
          ]
        }
      ],
      "source": [
        "# 演示自相关性质\n",
        "print(\"The correlation of something with itself is 1 intuitively, i.e. perfect correlation.\")\n",
        "\n",
        "# 生成一个1x10的随机数组\n",
        "vals = np.random.rand(1, 10)\n",
        "# 计算vals与自身的相关系数矩阵\n",
        "correl = np.corrcoef(vals,vals)\n",
        "\n",
        "# 打印相关系数矩阵的第一个元素(自相关系数)\n",
        "print(correl[0,0])"
      ]
    },
    {
      "cell_type": "markdown",
      "metadata": {},
      "source": [
        "corr(x,x) = E(X-E[X])^2/var(x)\n",
        "\n",
        "Since E(X-E(X))^2 = var(x), corr(x,x) = 1"
      ]
    },
    {
      "cell_type": "code",
      "execution_count": 30,
      "metadata": {},
      "outputs": [
        {
          "name": "stdout",
          "output_type": "stream",
          "text": [
            "Intuitively the answer is -1.\n",
            "-1.0\n"
          ]
        }
      ],
      "source": [
        "# 打印提示信息,说明直觉上完全负相关的相关系数是-1\n",
        "print(\"Intuitively the answer is -1.\")\n",
        "\n",
        "# 计算vals与其负值的相关系数,np.negative(vals)将vals中的值变为负数\n",
        "# 取[0,1]是因为corrcoef返回相关系数矩阵,我们需要两个变量间的相关系数\n",
        "print(np.corrcoef(vals,np.negative(vals))[0,1])"
      ]
    },
    {
      "cell_type": "markdown",
      "metadata": {},
      "source": [
        "###### (3)\n",
        "$corr(X, Y) = \\frac{E[(X-E[X])(Y-E[Y])]}{\\sigma_X \\sigma_Y}$"
      ]
    },
    {
      "cell_type": "markdown",
      "metadata": {},
      "source": [
        "### What the correlation tells us\n",
        "\n",
        "### 相关性告诉我们什么\n",
        "\n",
        "The correlation is a measure, similar to the covariance, except that it is easier to intuitively grasp. A correlation of 1 is a perfect correlation - $X$ increases exactly as $Y$ increases. Here is an example:\n",
        "\n",
        "相关性是一种度量，类似于协方差，但它更容易直观理解。相关性为1表示完全相关——$X$ 的增加与 $Y$ 的增加完全一致。以下是一个例子：\n"
      ]
    },
    {
      "cell_type": "code",
      "execution_count": 31,
      "metadata": {},
      "outputs": [
        {
          "data": {
            "text/plain": [
              "0.9999999999999999"
            ]
          },
          "execution_count": 31,
          "metadata": {},
          "output_type": "execute_result"
        }
      ],
      "source": [
        "# 生成10个随机数值\n",
        "X = np.random.random(10)  # 10 random values\n",
        "# 将X中的每个值加2得到Y1\n",
        "Y1 = X + 2\n",
        "# 计算X和Y1的相关系数矩阵,并返回第0行第1列的值(即X和Y1的相关系数)\n",
        "np.corrcoef(X, Y1)[0, 1]"
      ]
    },
    {
      "cell_type": "markdown",
      "metadata": {},
      "source": [
        "Here, even though $X$ and $Y1$ have different scales, they \"move together\" perfectly. A correlation of -1 is the minimum, and represents a perfect negation:\n",
        "\n",
        "在这里，尽管 $X$ 和 $Y1$ 的尺度不同，它们完美地“一起移动”。-1 的相关性是最小值，表示完全的反向关系：\n"
      ]
    },
    {
      "cell_type": "code",
      "execution_count": 32,
      "metadata": {},
      "outputs": [],
      "source": [
        "# 将 X 乘以 -5 得到一个与 X 完全负相关的数组\n",
        "\n",
        "Y2 = -X * 5"
      ]
    },
    {
      "cell_type": "code",
      "execution_count": 33,
      "metadata": {},
      "outputs": [
        {
          "data": {
            "text/plain": [
              "-1.0"
            ]
          },
          "execution_count": 33,
          "metadata": {},
          "output_type": "execute_result"
        }
      ],
      "source": [
        "# 计算 X 和 Y2 的相关系数矩阵，并返回第一行第二列的值（即两个变量间的相关系数）\n",
        "# 由于 Y2 = -X * 5，所以这里会得到 -1，表示完全负相关\n",
        "np.corrcoef(X, Y2)[0, 1]"
      ]
    },
    {
      "cell_type": "markdown",
      "metadata": {},
      "source": [
        "Again, different scales, but the correlation simply tells us about how they move together. To get a visual sense of this, let's graph those values:\n",
        "\n",
        "再次强调，虽然尺度不同，但相关性仅仅告诉我们它们是如何一起变动的。为了直观地理解这一点，让我们将这些值绘制成图表：\n"
      ]
    },
    {
      "cell_type": "code",
      "execution_count": 34,
      "metadata": {},
      "outputs": [
        {
          "data": {
            "text/plain": [
              "[<matplotlib.lines.Line2D at 0x7f45c9c3ba10>]"
            ]
          },
          "execution_count": 34,
          "metadata": {},
          "output_type": "execute_result"
        },
        {
          "data": {
            "image/png": "[encoded data removed]",
            "text/plain": [
              "<Figure size 640x480 with 1 Axes>"
            ]
          },
          "metadata": {},
          "output_type": "display_data"
        }
      ],
      "source": [
        "# 使用蓝色星号标记绘制 X 和 Y1 的散点图\n",
        "\n",
        "plt.plot(X, Y1, \"*\", color='blue')"
      ]
    },
    {
      "cell_type": "code",
      "execution_count": 35,
      "metadata": {},
      "outputs": [
        {
          "data": {
            "text/plain": [
              "[<matplotlib.lines.Line2D at 0x7f45c9f73740>]"
            ]
          },
          "execution_count": 35,
          "metadata": {},
          "output_type": "execute_result"
        },
        {
          "data": {
            "image/png": "[encoded data removed]",
            "text/plain": [
              "<Figure size 640x480 with 1 Axes>"
            ]
          },
          "metadata": {},
          "output_type": "display_data"
        }
      ],
      "source": [
        "# 使用橙色星号标记绘制X和Y2的散点图\n",
        "\n",
        "plt.plot(X, Y2, \"*\", color='orange')"
      ]
    },
    {
      "cell_type": "markdown",
      "metadata": {},
      "source": [
        "### Correlation does not imply causation\n",
        "\n",
        "### 相关性并不意味着因果关系\n",
        "\n",
        "Any discussion about correlation must include the above disclaimer. If two variables $X$ and $Y$ have a strong (or even perfect) correlation, this does not imply that $X$ causes $Y$. To see this simply, note that there is no \"order\" in the equation, and:\n",
        "\n",
        "任何关于相关性的讨论都必须包含上述免责声明。如果两个变量 $X$ 和 $Y$ 具有强（甚至完美）相关性，这并不意味着 $X$ 导致 $Y$。要简单地理解这一点，请注意方程中没有“顺序”，并且：\n",
        "\n",
        "$corr(X, Y) = \\frac{E[(X-E[X])(Y-E[Y])]}{\\sigma_X \\sigma_Y}$\n",
        "\n",
        "this is equal to:\n",
        "\n",
        "这等于：\n",
        "\n",
        "$corr(Y, X) = \\frac{E[(Y-E[Y])(X-E[X])]}{\\sigma_Y \\sigma_X}$\n",
        "\n",
        "At the very least, even *if* there is a causation between $X$ and $Y$ (and we still haven't shown that), we do not know whether $X$ causes $Y$, or if $Y$ causes $X$!\n",
        "\n",
        "至少，即使 $X$ 和 $Y$ 之间存在因果关系（我们还没有证明这一点），我们也不知道是 $X$ 导致 $Y$，还是 $Y$ 导致 $X$！\n",
        "\n",
        "\n",
        "There are two main reasons why you get a strong correlation, without having a causation either way.\n",
        "\n",
        "有两种主要原因会导致你得到强相关性，而没有因果关系。\n",
        "\n",
        "1. There is an underlying factor, let's call it $Z$, that causes both $X$ and $Y$. This may be true even if we do not know, or can't directly measure the values of $Z$. Then $Z$ causes $X$ and $Z$ causes $Y$, and therefore both $X$ and $Y$ \"move together\".\n",
        "\n",
        "1. 存在一个潜在的因素，我们称之为 $Z$，它同时导致 $X$ 和 $Y$。即使我们不知道或无法直接测量 $Z$ 的值，这也可能是真的。因此，$Z$ 导致 $X$，$Z$ 也导致 $Y$，所以 $X$ 和 $Y$ 会“一起移动”。\n",
        "2. You simply get \"unlucky\" and the two values *just happen* to have a high correlation, even though they aren't related.\n",
        "\n",
        "2. 你只是“不走运”，这两个值*恰好*具有高度相关性，尽管它们并不相关。\n",
        "\n",
        "Let's have a look at both of these in more detail.\n",
        "\n",
        "让我们更详细地看看这两种情况。\n"
      ]
    },
    {
      "cell_type": "markdown",
      "metadata": {},
      "source": [
        "### Underlying factors\n",
        "\n",
        "### 潜在因素\n",
        "\n",
        "There may be an underlying factor that causes both $X$ and $Y$. A common example here is the following two variables that have a high correlation:\n",
        "\n",
        "可能存在一个潜在因素同时导致 $X$ 和 $Y$。这里的一个常见例子是两个具有高相关性的变量：\n",
        "\n",
        "1. Ice cream sales\n",
        "\n",
        "1. 冰淇淋销量\n",
        "2. Deaths by drowning\n",
        "\n",
        "Measuring these two variables indicates a high correlation, so what is going on here? Selling more ice cream does not cause drownings, nor does people drowning sell more ice creams (one would hope). Instead, there is an underlying factor - the weather. If it is hot, ice creams sell more, and people go swimming more, leading to more drownings.\n",
        "\n",
        "测量这两个变量显示出高度相关性，那么这里发生了什么？卖更多的冰淇淋并不会导致溺水，溺水也不会导致卖更多的冰淇淋（希望如此）。相反，这里有一个潜在的因素——天气。如果天气炎热，冰淇淋销量会增加，人们也会更多地游泳，从而导致更多的溺水事件。\n",
        "\n",
        "In time series data, this is particularly troublesome. For instance, due to inflation, *most things increase in price over time*. Therefore, if you plot the price of two commodities over time, you are likely to get a positive correlation, even if there is no causation between them! More abstractly, if you plot two S&P 500 companies, you are plotting two *successful* companies, and therefore they would correlate strongly simply because they must have been *somewhat successful* to be a top 500 company. This is a form of \"survival bias\".\n",
        "\n",
        "在时间序列数据中，这尤其麻烦。例如，由于通货膨胀，*大多数东西的价格会随着时间的推移而上涨*。因此，如果你绘制两种商品随时间变化的价格，你很可能会得到一个正相关关系，即使它们之间没有因果关系！更抽象地说，如果你绘制两家标普500公司的数据，你实际上是在绘制两家*成功的*公司，因此它们会强烈相关，仅仅因为它们必须*在某种程度上成功*才能成为前500强公司。这是一种“生存偏差”的形式。\n",
        "\n",
        "For example, here is the correlation between gold and wheat prices:\n",
        "\n",
        "例如，以下是黄金和小麦价格之间的相关性：\n"
      ]
    },
    {
      "cell_type": "code",
      "execution_count": 36,
      "metadata": {},
      "outputs": [
        {
          "name": "stderr",
          "output_type": "stream",
          "text": [
            "2025-01-12 14:01:29,048 - INFO - 开始获取黄金期货价格数据...\n",
            "2025-01-12 14:01:29,206 - INFO - 成功获取黄金价格数据，共 4020 个交易日\n"
          ]
        }
      ],
      "source": [
        "# 导入所需的库\n",
        "import yfinance as yf\n",
        "import logging\n",
        "from datetime import datetime\n",
        "import pandas as pd\n",
        "\n",
        "# 配置日志\n",
        "logging.basicConfig(\n",
        "    level=logging.INFO,\n",
        "    format='%(asctime)s - %(levelname)s - %(message)s',\n",
        "    handlers=[logging.StreamHandler()]\n",
        ")\n",
        "logger = logging.getLogger(__name__)\n",
        "\n",
        "# 获取黄金期货价格数据\n",
        "logger.info(\"开始获取黄金期货价格数据...\")\n",
        "gold = yf.Ticker(\"GC=F\")\n",
        "gold_price = gold.history(start='2005-01-01', end='2020-12-31')['Close']\n",
        "logger.info(f\"成功获取黄金价格数据，共 {len(gold_price)} 个交易日\")"
      ]
    },
    {
      "cell_type": "code",
      "execution_count": 37,
      "metadata": {},
      "outputs": [
        {
          "data": {
            "text/plain": [
              "Date\n",
              "2005-01-03 00:00:00-05:00    428.700012\n",
              "2005-01-04 00:00:00-05:00    428.500000\n",
              "2005-01-05 00:00:00-05:00    426.600006\n",
              "2005-01-06 00:00:00-05:00    421.000000\n",
              "2005-01-07 00:00:00-05:00    418.899994\n",
              "Name: Close, dtype: float64"
            ]
          },
          "execution_count": 37,
          "metadata": {},
          "output_type": "execute_result"
        }
      ],
      "source": [
        "# 显示黄金价格数据的前5行记录\n",
        "\n",
        "gold_price.head()"
      ]
    },
    {
      "cell_type": "code",
      "execution_count": 38,
      "metadata": {},
      "outputs": [],
      "source": [
        "# 从 Quandl 获取小麦期货的最后价格数据\n",
        "wheat_futures = yf.Ticker(\"ZB=F\").history(start='2005-01-01', end='2020-12-31')['Close']"
      ]
    },
    {
      "cell_type": "code",
      "execution_count": 39,
      "metadata": {},
      "outputs": [
        {
          "data": {
            "text/plain": [
              "Date\n",
              "2005-01-03 00:00:00-05:00    112.531303\n",
              "2005-01-04 00:00:00-05:00    111.781303\n",
              "2005-01-05 00:00:00-05:00    112.062500\n",
              "2005-01-06 00:00:00-05:00    112.093803\n",
              "2005-01-07 00:00:00-05:00    112.093803\n",
              "Name: Close, dtype: float64"
            ]
          },
          "execution_count": 39,
          "metadata": {},
          "output_type": "execute_result"
        }
      ],
      "source": [
        "# 显示小麦期货价格数据的前5行记录\n",
        "\n",
        "wheat_futures.head()"
      ]
    },
    {
      "cell_type": "code",
      "execution_count": 40,
      "metadata": {},
      "outputs": [
        {
          "data": {
            "text/html": [
              "<div>\n",
              "<style scoped>\n",
              "    .dataframe tbody tr th:only-of-type {\n",
              "        vertical-align: middle;\n",
              "    }\n",
              "\n",
              "    .dataframe tbody tr th {\n",
              "        vertical-align: top;\n",
              "    }\n",
              "\n",
              "    .dataframe thead th {\n",
              "        text-align: right;\n",
              "    }\n",
              "</style>\n",
              "<table border=\"1\" class=\"dataframe\">\n",
              "  <thead>\n",
              "    <tr style=\"text-align: right;\">\n",
              "      <th></th>\n",
              "      <th>gold</th>\n",
              "      <th>wheat</th>\n",
              "    </tr>\n",
              "    <tr>\n",
              "      <th>Date</th>\n",
              "      <th></th>\n",
              "      <th></th>\n",
              "    </tr>\n",
              "  </thead>\n",
              "  <tbody>\n",
              "    <tr>\n",
              "      <th>2005-01-03 00:00:00-05:00</th>\n",
              "      <td>428.700012</td>\n",
              "      <td>112.531303</td>\n",
              "    </tr>\n",
              "    <tr>\n",
              "      <th>2005-01-04 00:00:00-05:00</th>\n",
              "      <td>428.500000</td>\n",
              "      <td>111.781303</td>\n",
              "    </tr>\n",
              "    <tr>\n",
              "      <th>2005-01-05 00:00:00-05:00</th>\n",
              "      <td>426.600006</td>\n",
              "      <td>112.062500</td>\n",
              "    </tr>\n",
              "    <tr>\n",
              "      <th>2005-01-06 00:00:00-05:00</th>\n",
              "      <td>421.000000</td>\n",
              "      <td>112.093803</td>\n",
              "    </tr>\n",
              "    <tr>\n",
              "      <th>2005-01-07 00:00:00-05:00</th>\n",
              "      <td>418.899994</td>\n",
              "      <td>112.093803</td>\n",
              "    </tr>\n",
              "  </tbody>\n",
              "</table>\n",
              "</div>"
            ],
            "text/plain": [
              "                                 gold       wheat\n",
              "Date                                             \n",
              "2005-01-03 00:00:00-05:00  428.700012  112.531303\n",
              "2005-01-04 00:00:00-05:00  428.500000  111.781303\n",
              "2005-01-05 00:00:00-05:00  426.600006  112.062500\n",
              "2005-01-06 00:00:00-05:00  421.000000  112.093803\n",
              "2005-01-07 00:00:00-05:00  418.899994  112.093803"
            ]
          },
          "execution_count": 40,
          "metadata": {},
          "output_type": "execute_result"
        }
      ],
      "source": [
        "# 创建包含黄金和小麦期货价格的数据框\n",
        "prices = pd.DataFrame({\"gold\": gold_price, \"wheat\": wheat_futures})\n",
        "# 删除包含缺失值的行(即同时缺少黄金和小麦数据的行)\n",
        "prices.dropna(inplace=True)  # Drop rows where we don't have both gold and wheat\n",
        "# 显示数据框的前5行\n",
        "prices.head()"
      ]
    },
    {
      "cell_type": "code",
      "execution_count": 41,
      "metadata": {},
      "outputs": [
        {
          "data": {
            "text/plain": [
              "<Axes: xlabel='Date'>"
            ]
          },
          "execution_count": 41,
          "metadata": {},
          "output_type": "execute_result"
        },
        {
          "data": {
            "image/png": "[encoded data removed]",
            "text/plain": [
              "<Figure size 640x480 with 1 Axes>"
            ]
          },
          "metadata": {},
          "output_type": "display_data"
        }
      ],
      "source": [
        "# 绘制黄金价格和小麦期货价格的时间序列图\n",
        "\n",
        "prices.plot()"
      ]
    },
    {
      "cell_type": "code",
      "execution_count": 42,
      "metadata": {},
      "outputs": [
        {
          "data": {
            "text/html": [
              "<div>\n",
              "<style scoped>\n",
              "    .dataframe tbody tr th:only-of-type {\n",
              "        vertical-align: middle;\n",
              "    }\n",
              "\n",
              "    .dataframe tbody tr th {\n",
              "        vertical-align: top;\n",
              "    }\n",
              "\n",
              "    .dataframe thead th {\n",
              "        text-align: right;\n",
              "    }\n",
              "</style>\n",
              "<table border=\"1\" class=\"dataframe\">\n",
              "  <thead>\n",
              "    <tr style=\"text-align: right;\">\n",
              "      <th></th>\n",
              "      <th>gold</th>\n",
              "      <th>wheat</th>\n",
              "    </tr>\n",
              "  </thead>\n",
              "  <tbody>\n",
              "    <tr>\n",
              "      <th>gold</th>\n",
              "      <td>1.000000</td>\n",
              "      <td>0.740327</td>\n",
              "    </tr>\n",
              "    <tr>\n",
              "      <th>wheat</th>\n",
              "      <td>0.740327</td>\n",
              "      <td>1.000000</td>\n",
              "    </tr>\n",
              "  </tbody>\n",
              "</table>\n",
              "</div>"
            ],
            "text/plain": [
              "           gold     wheat\n",
              "gold   1.000000  0.740327\n",
              "wheat  0.740327  1.000000"
            ]
          },
          "execution_count": 42,
          "metadata": {},
          "output_type": "execute_result"
        }
      ],
      "source": [
        "# 计算gold和wheat两列之间的相关系数矩阵\n",
        "prices.corr()"
      ]
    },
    {
      "cell_type": "markdown",
      "metadata": {},
      "source": [
        "Here, the correlation between wheat and gold is a positive correlation. However, there is no impactful causation here - the price of gold would not directly affect the price of wheat. Gold is more reliant on economic factors, such as an unstable market may drive people to buy gold as a safer investment. Wheat is more reliant on factors like weather, which determine supply. To oversimplify, good weather causes more supply, leading to reduced prices.\n",
        "\n",
        "这里，小麦和黄金之间的相关性是正相关的。然而，这里没有显著因果关系——黄金的价格不会直接影响小麦的价格。黄金更依赖于经济因素，例如不稳定的市场可能会促使人们购买黄金作为更安全的投资。小麦更依赖于天气等因素，这些因素决定了供应量。简而言之，好天气会导致供应增加，从而导致价格下降。\n",
        "\n",
        "There *are* underlying factors that affect both. Financial markets do affect both prices, as does other factors like international instability. However, the main factor is simply inflation.\n",
        "\n",
        "确实存在影响两者的潜在因素。金融市场确实会影响两者的价格，国际不稳定等其他因素也是如此。然而，主要因素仅仅是通货膨胀。\n",
        "\n",
        "We will cover, in great detail, how to determine correlation in time series. The short and simple version, however, is simply to *detrend* the data. In other words, look for the underlying trend and remove it from the data. Then compute the correlation between the detrended data.\n",
        "\n",
        "我们将详细讨论如何在时间序列中确定相关性。然而，简短且简单的版本是简单地*去趋势*数据。换句话说，寻找潜在趋势并将其从数据中移除。然后计算去趋势数据之间的相关性。\n",
        "\n",
        "A simple detrending concept is to fit a linear model (i.e. $y= ax + b$) and then subtract the model's predicted value from the actual value. This leaves over the residue, or error, of the model, and we compute the correlation of those. A strong correlation in that case is much more significant (although, still not a causation).\n",
        "\n",
        "一个简单的去趋势概念是拟合一个线性模型（即 $y= ax + b$），然后从实际值中减去模型的预测值。这会留下模型的残差或误差，我们计算这些残差的相关性。在这种情况下，强相关性更为显著（尽管仍然不是因果关系）。\n"
      ]
    },
    {
      "cell_type": "markdown",
      "metadata": {},
      "source": [
        "#### Exercise\n",
        "\n",
        "#### 练习\n",
        "\n",
        "Remove the trend from the wheat and gold data above, and compute the correlation of the detrended data.\n",
        "\n",
        "去除小麦和黄金数据中的趋势，并计算去趋势后的数据的相关性。\n",
        "\n",
        "A good function to use is `scipy.signal.detrend`, although if you have a preferred means of computing a linear model from data (for instance, using statsmodels), feel free to use that.\n",
        "\n",
        "一个好的函数是 `scipy.signal.detrend`，不过如果你有偏好的计算线性模型的方法（例如使用 statsmodels），也可以随意使用。\n"
      ]
    },
    {
      "cell_type": "code",
      "execution_count": 43,
      "metadata": {},
      "outputs": [
        {
          "data": {
            "text/html": [
              "<div>\n",
              "<style scoped>\n",
              "    .dataframe tbody tr th:only-of-type {\n",
              "        vertical-align: middle;\n",
              "    }\n",
              "\n",
              "    .dataframe tbody tr th {\n",
              "        vertical-align: top;\n",
              "    }\n",
              "\n",
              "    .dataframe thead th {\n",
              "        text-align: right;\n",
              "    }\n",
              "</style>\n",
              "<table border=\"1\" class=\"dataframe\">\n",
              "  <thead>\n",
              "    <tr style=\"text-align: right;\">\n",
              "      <th></th>\n",
              "      <th>gold_detrended</th>\n",
              "      <th>wheat_detrended</th>\n",
              "    </tr>\n",
              "  </thead>\n",
              "  <tbody>\n",
              "    <tr>\n",
              "      <th>gold_detrended</th>\n",
              "      <td>1.000000</td>\n",
              "      <td>0.279448</td>\n",
              "    </tr>\n",
              "    <tr>\n",
              "      <th>wheat_detrended</th>\n",
              "      <td>0.279448</td>\n",
              "      <td>1.000000</td>\n",
              "    </tr>\n",
              "  </tbody>\n",
              "</table>\n",
              "</div>"
            ],
            "text/plain": [
              "                 gold_detrended  wheat_detrended\n",
              "gold_detrended         1.000000         0.279448\n",
              "wheat_detrended        0.279448         1.000000"
            ]
          },
          "execution_count": 43,
          "metadata": {},
          "output_type": "execute_result"
        },
        {
          "data": {
            "image/png": "[encoded data removed]",
            "text/plain": [
              "<Figure size 640x480 with 1 Axes>"
            ]
          },
          "metadata": {},
          "output_type": "display_data"
        }
      ],
      "source": [
        "# 从scipy.signal导入detrend函数用于去除数据趋势\n",
        "from scipy.signal import detrend\n",
        "\n",
        "# 对金价数据进行去趋势处理并保存到新列'gold_detrended'\n",
        "prices['gold_detrended'] = detrend(prices['gold'])\n",
        "# 对小麦期货价格数据进行去趋势处理并保存到新列'wheat_detrended'\n",
        "prices['wheat_detrended'] = detrend(prices['wheat'])\n",
        "# 绘制去趋势后的金价和小麦期货价格数据\n",
        "prices[['gold_detrended', 'wheat_detrended']].plot()\n",
        "\n",
        "# 计算去趋势后的金价和小麦期货价格之间的相关系数\n",
        "prices[['gold_detrended', 'wheat_detrended']].corr()"
      ]
    },
    {
      "cell_type": "markdown",
      "metadata": {},
      "source": [
        "*For solutions, see `solutions/detrending.py`*\n",
        "\n",
        "*有关解决方案，请参见 `solutions/detrending.py`*\n"
      ]
    },
    {
      "cell_type": "markdown",
      "metadata": {},
      "source": [
        "### Random correlation\n",
        "\n",
        "### 随机相关性\n",
        "\n",
        "While generally unlikely in a single experiment, two variables may be correlated for no reason other than *random chance*. This is less likely with larger datasets.\n",
        "\n",
        "虽然在单个实验中通常不太可能，但两个变量可能会仅仅因为*随机机会*而相关。在较大的数据集中，这种情况发生的可能性较小。\n",
        "\n",
        "However, one factor that *increases* the chance of getting a randomly high correlation is the large number of experiments that we run on a daily instance. Consider a machine learning algorithm that compares dozens of lag periods across thousands of stocks. *At least some* of these will have high correlations that are meaningless and produce no actionable outcome.\n",
        "\n",
        "然而，一个*增加*随机高相关性机会的因素是我们在日常实例中运行的大量实验。考虑一个机器学习算法，它在数千只股票中比较几十个滞后周期。*至少有一些*这些相关性将是毫无意义的，并且不会产生可操作的结果。\n",
        "\n",
        "To show this in action, here is a simple experiment, performed once. We create two random sets of data, and compute the correlation. If it is above 0.8, we say we \"found a high correlation\". It is unlikely that the following cell actually does so. Most of the time (for a very high value of \"most\") you will get a correlation close to zero.\n",
        "\n",
        "为了展示这一点，这里有一个简单的实验，只执行一次。我们创建两组随机数据，并计算它们的相关性。如果相关性高于0.8，我们就说“发现了高相关性”。接下来的单元格实际上不太可能做到这一点。大多数时候（对于“大多数”来说，这个值非常高），你会得到一个接近零的相关性。\n"
      ]
    },
    {
      "cell_type": "code",
      "execution_count": 44,
      "metadata": {},
      "outputs": [
        {
          "name": "stdout",
          "output_type": "stream",
          "text": [
            "Correlation is: -0.3474121805770821\n",
            "Did not find a high correlation\n"
          ]
        }
      ],
      "source": [
        "# 设置数据点数量为20\n",
        "n_datapoints = 20\n",
        "# 生成20个随机数作为x值\n",
        "x_random = np.random.random(n_datapoints)\n",
        "# 生成20个随机数作为y值\n",
        "y_random = np.random.random(n_datapoints)\n",
        "\n",
        "# 计算x和y之间的相关系数\n",
        "corr = np.corrcoef(x_random, y_random)[0, 1]\n",
        "\n",
        "# 打印相关系数\n",
        "print(\"Correlation is:\", corr)\n",
        "# 判断是否存在高相关性(相关系数>0.8)\n",
        "if corr > 0.8:\n",
        "    print(\"Found a high correlation\")\n",
        "else:\n",
        "    print(\"Did not find a high correlation\")"
      ]
    },
    {
      "cell_type": "markdown",
      "metadata": {},
      "source": [
        "In practice, we never run just one experiment, and a new factor to consider in running experiments with computers is the appeal of being able to run *millions* of experiments:\n",
        "\n",
        "在实践中，我们从不只运行一个实验，而在使用计算机进行实验时，一个新的考虑因素是能够运行*数百万*次实验的吸引力：\n"
      ]
    },
    {
      "cell_type": "code",
      "execution_count": 45,
      "metadata": {},
      "outputs": [],
      "source": [
        "# 定义一个实验函数，默认生成20个数据点\n",
        "def run_experiment(n_datapoints=20):\n",
        "    # 注意这里的数据都是随机生成的\n",
        "    # 生成n_datapoints个随机数作为x值\n",
        "    x_random = np.random.random(n_datapoints)\n",
        "    # 生成n_datapoints个随机数作为y值\n",
        "    y_random = np.random.random(n_datapoints)\n",
        "    # 计算x和y之间的相关系数矩阵，并取[0,1]位置的值(即它们的相关系数)\n",
        "    corr = np.corrcoef(x_random, y_random)[0,1]\n",
        "    # 返回布尔值：相关系数是否大于0.8\n",
        "    return corr > 0.8"
      ]
    },
    {
      "cell_type": "code",
      "execution_count": 46,
      "metadata": {},
      "outputs": [
        {
          "name": "stdout",
          "output_type": "stream",
          "text": [
            "Found a correlation on experiment 74794!\n",
            "Finished running experiments\n"
          ]
        }
      ],
      "source": [
        "# 设置实验次数为100000次(可以改为10000次,但运行时间会较长)\n",
        "n_experiments = 100000  # Change to 10000, but this will take a while to run\n",
        "\n",
        "# 循环运行实验,如果发现相关性大于0.8就打印出当前实验次数\n",
        "for i in range(n_experiments):\n",
        "    if run_experiment():\n",
        "        print(\"Found a correlation on experiment {}!\".format(i))\n",
        "print(\"Finished running experiments\")"
      ]
    },
    {
      "cell_type": "markdown",
      "metadata": {},
      "source": [
        "#### Exercises\n",
        "\n",
        "#### 练习\n",
        "\n",
        "There are two factors that affect how many of these *false positive* results we get - in other words, correlations that just happen to be high by chance. The two factors are:\n",
        "\n",
        "影响我们获得这些*假阳性*结果数量的因素有两个——换句话说，就是那些偶然情况下相关性较高的因素。这两个因素是：\n",
        "\n",
        "1) How much data you have\n",
        "\n",
        "1) 你有多少数据\n",
        "2) The level at which a correlation is considered \"high\", i.e. the 0.8 in the above code.\n",
        "\n",
        "2) 相关性被认为是“高”的水平，即上述代码中的 0.8。\n",
        "\n",
        "Plot the relationship between these two factors, and the percentage of false positives in running your experiments. Note you might need a log scale on one or both of your axis to properly visualise the results.\n",
        "\n",
        "绘制这两个因素与实验中假阳性百分比之间的关系图。请注意，你可能需要在一个或两个轴上使用对数刻度来正确可视化结果。\n",
        "\n",
        "Use `np.logspace` to produce a log scale for the number of datapoints.\n",
        "\n",
        "使用 `np.logspace` 生成数据点数量的对数刻度。\n",
        "\n",
        "Write a snippet of code that generates a graph showing the relationship between how many data points you have, and the percentage of false positives (FP) you get. Generate another graph showing the relationship between the \"high\" correlation level and the FP rate.\n",
        "\n",
        "编写一段代码，生成一个图表，显示你拥有的数据点数量与假阳性（FP）百分比之间的关系。再生成另一个图表，显示“高”相关水平与FP率之间的关系。\n",
        "\n",
        "**Hint - writing better code**\n",
        "\n",
        "**提示 - 编写更好的代码**\n",
        "\n",
        "To make your code more manageable and easier to read, encapsulate your behaviour into functions. In other words, take your code, and write small functions that do that one thing. Have the function accept different parameters that you can pass. As an example, if we wanted to run two sets of experiments of different sizes, we can do this:\n",
        "\n",
        "为了使你的代码更易于管理和阅读，将你的行为封装到函数中。换句话说，将你的代码分解成小的函数，每个函数只做一件事。让函数接受不同的参数，以便你可以传递这些参数。例如，如果我们想运行两组不同规模的实验，可以这样做：\n",
        "\n",
        "```\n",
        "for i in range(10000):\n",
        "    run_experiment()\n",
        "    \n",
        "for j in range(1000):\n",
        "    run_experiment()\n",
        "\n",
        "```\n",
        "\n",
        "or, you can parameterise the number of experiments and pass that as a function:\n",
        "\n",
        "或者，你可以将实验次数参数化，并将其作为函数传递：\n",
        "\n",
        "```\n",
        "def run_many_experiments(n_experiments):\n",
        "    for i in range(n_experiments):\n",
        "        run_experiment()\n",
        "        \n",
        "run_many_experiments(100000)\n",
        "run_many_experiments(1000)\n",
        "```\n",
        "\n",
        "The second case results in less duplicated code (duplicate code can cause bugs), and is easier to manage. You take the complexity of \"running multiple experiments\", and hide/encapsulate that into the function `run_many_experiments`. This hides the complexity for later users of your code.\n",
        "\n",
        "第二种情况减少了重复代码（重复代码可能导致错误），并且更易于管理。你将“运行多个实验”的复杂性隐藏/封装到函数 `run_many_experiments` 中。这为后续使用你的代码的用户隐藏了复杂性。\n",
        "\n",
        "**Hint** This code, may take a while to compute when completed. You can estimate this by using the following profiling code to test how long *one* iteration takes, and then use that to estimate how long the full process will take.\n",
        "\n",
        "**提示** 这段代码在完成时可能需要一些时间来计算。你可以使用以下的分析代码来测试*一次*迭代需要多长时间，然后用它来估计整个过程需要多长时间。\n"
      ]
    },
    {
      "cell_type": "code",
      "execution_count": 47,
      "metadata": {},
      "outputs": [
        {
          "name": "stdout",
          "output_type": "stream",
          "text": [
            "50.1 ms ± 7.84 μs per loop (mean ± std. dev. of 7 runs, 10 loops each)\n"
          ]
        }
      ],
      "source": [
        "# 导入时间模块\n",
        "import time\n",
        "\n",
        "# 定义一个测试函数\n",
        "def my_function():\n",
        "    # 暂停执行0.05秒\n",
        "    time.sleep(0.05)\n",
        "    return\n",
        "\n",
        "# 使用 IPython 的 magic 命令测量函数执行时间\n",
        "%timeit my_function()"
      ]
    },
    {
      "cell_type": "code",
      "execution_count": 48,
      "metadata": {},
      "outputs": [
        {
          "ename": "AttributeError",
          "evalue": "module 'numpy' has no attribute 'int'.\n`np.int` was a deprecated alias for the builtin `int`. To avoid this error in existing code, use `int` by itself. Doing this will not modify any behavior and is safe. When replacing `np.int`, you may wish to use e.g. `np.int64` or `np.int32` to specify the precision. If you wish to review your current use, check the release note link for additional information.\nThe aliases was originally deprecated in NumPy 1.20; for more details and guidance see the original release note at:\n    https://numpy.org/devdocs/release/1.20.0-notes.html#deprecations",
          "output_type": "error",
          "traceback": [
            "\u001b[0;31m---------------------------------------------------------------------------\u001b[0m",
            "\u001b[0;31mAttributeError\u001b[0m                            Traceback (most recent call last)",
            "Cell \u001b[0;32mIn[48], line 26\u001b[0m\n\u001b[1;32m     22\u001b[0m     \u001b[38;5;28;01mreturn\u001b[39;00m false_positives \u001b[38;5;241m/\u001b[39m n_experiments\n\u001b[1;32m     24\u001b[0m \u001b[38;5;66;03m# 研究数据量大小与假阳性率的关系\u001b[39;00m\n\u001b[1;32m     25\u001b[0m \u001b[38;5;66;03m# 生成6个指数递增的数据量大小\u001b[39;00m\n\u001b[0;32m---> 26\u001b[0m data_size \u001b[38;5;241m=\u001b[39m np\u001b[38;5;241m.\u001b[39mlogspace(\u001b[38;5;241m1\u001b[39m, \u001b[38;5;241m6\u001b[39m, \u001b[38;5;241m6\u001b[39m, dtype\u001b[38;5;241m=\u001b[39m\u001b[43mnp\u001b[49m\u001b[38;5;241;43m.\u001b[39;49m\u001b[43mint\u001b[49m)\n\u001b[1;32m     27\u001b[0m \u001b[38;5;66;03m# 对每个数据量运行实验并计算假阳性率\u001b[39;00m\n\u001b[1;32m     28\u001b[0m fp_rate_datapoints \u001b[38;5;241m=\u001b[39m np\u001b[38;5;241m.\u001b[39mfromiter((run_many_experiments(n_datapoints\u001b[38;5;241m=\u001b[39md, threshold\u001b[38;5;241m=\u001b[39m\u001b[38;5;241m0.5\u001b[39m) \u001b[38;5;28;01mfor\u001b[39;00m d \u001b[38;5;129;01min\u001b[39;00m data_size), dtype\u001b[38;5;241m=\u001b[39mnp\u001b[38;5;241m.\u001b[39mfloat32)\n",
            "File \u001b[0;32m~/miniconda3/envs/quant_finance/lib/python3.12/site-packages/numpy/__init__.py:324\u001b[0m, in \u001b[0;36m__getattr__\u001b[0;34m(attr)\u001b[0m\n\u001b[1;32m    319\u001b[0m     warnings\u001b[38;5;241m.\u001b[39mwarn(\n\u001b[1;32m    320\u001b[0m         \u001b[38;5;124mf\u001b[39m\u001b[38;5;124m\"\u001b[39m\u001b[38;5;124mIn the future `np.\u001b[39m\u001b[38;5;132;01m{\u001b[39;00mattr\u001b[38;5;132;01m}\u001b[39;00m\u001b[38;5;124m` will be defined as the \u001b[39m\u001b[38;5;124m\"\u001b[39m\n\u001b[1;32m    321\u001b[0m         \u001b[38;5;124m\"\u001b[39m\u001b[38;5;124mcorresponding NumPy scalar.\u001b[39m\u001b[38;5;124m\"\u001b[39m, \u001b[38;5;167;01mFutureWarning\u001b[39;00m, stacklevel\u001b[38;5;241m=\u001b[39m\u001b[38;5;241m2\u001b[39m)\n\u001b[1;32m    323\u001b[0m \u001b[38;5;28;01mif\u001b[39;00m attr \u001b[38;5;129;01min\u001b[39;00m __former_attrs__:\n\u001b[0;32m--> 324\u001b[0m     \u001b[38;5;28;01mraise\u001b[39;00m \u001b[38;5;167;01mAttributeError\u001b[39;00m(__former_attrs__[attr])\n\u001b[1;32m    326\u001b[0m \u001b[38;5;28;01mif\u001b[39;00m attr \u001b[38;5;241m==\u001b[39m \u001b[38;5;124m'\u001b[39m\u001b[38;5;124mtesting\u001b[39m\u001b[38;5;124m'\u001b[39m:\n\u001b[1;32m    327\u001b[0m     \u001b[38;5;28;01mimport\u001b[39;00m \u001b[38;5;21;01mnumpy\u001b[39;00m\u001b[38;5;21;01m.\u001b[39;00m\u001b[38;5;21;01mtesting\u001b[39;00m \u001b[38;5;28;01mas\u001b[39;00m \u001b[38;5;21;01mtesting\u001b[39;00m\n",
            "\u001b[0;31mAttributeError\u001b[0m: module 'numpy' has no attribute 'int'.\n`np.int` was a deprecated alias for the builtin `int`. To avoid this error in existing code, use `int` by itself. Doing this will not modify any behavior and is safe. When replacing `np.int`, you may wish to use e.g. `np.int64` or `np.int32` to specify the precision. If you wish to review your current use, check the release note link for additional information.\nThe aliases was originally deprecated in NumPy 1.20; for more details and guidance see the original release note at:\n    https://numpy.org/devdocs/release/1.20.0-notes.html#deprecations"
          ]
        }
      ],
      "source": [
        "# 运行单次实验,检查随机数据的相关性是否超过阈值\n",
        "def run_experiment(n_datapoints=20, threshold=0.8):\n",
        "    # 生成两组随机数据\n",
        "    x_random = np.random.random(n_datapoints)\n",
        "    y_random = np.random.random(n_datapoints)\n",
        "    # 计算两组数据的相关系数\n",
        "    corr = np.corrcoef(x_random, y_random)[0,1]\n",
        "    # 返回相关系数是否超过阈值\n",
        "    return corr > threshold\n",
        "\n",
        "\n",
        "# 运行多次实验并计算假阳性率\n",
        "def run_many_experiments(n_experiments=1000, n_datapoints=20, threshold=0.8):\n",
        "    false_positives = 0\n",
        "\n",
        "    # 循环运行实验\n",
        "    for _ in range(n_experiments):\n",
        "        # 如果发现高相关性(实际上是假阳性),计数加1\n",
        "        if run_experiment(n_datapoints=n_datapoints, threshold=threshold):\n",
        "            false_positives += 1\n",
        "    # 返回假阳性率\n",
        "    return false_positives / n_experiments\n",
        "\n",
        "# 研究数据量大小与假阳性率的关系\n",
        "# 生成6个指数递增的数据量大小\n",
        "data_size = np.logspace(1, 6, 6, dtype=np.int)\n",
        "# 对每个数据量运行实验并计算假阳性率\n",
        "fp_rate_datapoints = np.fromiter((run_many_experiments(n_datapoints=d, threshold=0.5) for d in data_size), dtype=np.float32)\n",
        "\n",
        "# 绘制数据量与假阳性率的关系图\n",
        "plt.plot(data_size, fp_rate_datapoints)"
      ]
    },
    {
      "cell_type": "markdown",
      "metadata": {},
      "source": [
        "*For solutions, see `solutions/false_positives.py`*\n",
        "\n",
        "*有关解决方案，请参见 `solutions/false_positives.py`*\n"
      ]
    }
  ],
  "metadata": {
    "kernelspec": {
      "display_name": "Python 3",
      "language": "python",
      "name": "python3"
    },
    "language_info": {
      "codemirror_mode": {
        "name": "ipython",
        "version": 3
      },
      "file_extension": ".py",
      "mimetype": "text/x-python",
      "name": "python",
      "nbconvert_exporter": "python",
      "pygments_lexer": "ipython3",
      "version": "3.12.3"
    }
  },
  "nbformat": 4,
  "nbformat_minor": 2
}
