{
  "cells": [
    {
      "cell_type": "markdown",
      "metadata": {},
      "source": [
        "# Introduction to Quantitative Finance\n",
        "\n",
        "Copyright (c) 2019 Python Charmers Pty Ltd, Australia, <https://pythoncharmers.com>. All rights reserved.\n",
        "\n",
        "<img src=\"img/python_charmers_logo.png\" width=\"300\" alt=\"Python Charmers Logo\">\n",
        "\n",
        "Published under the Creative Commons Attribution-NonCommercial 4.0 International (CC BY-NC 4.0) license. See `LICENSE.md` for details.\n",
        "\n",
        "Sponsored by Tibra Global Services, <https://tibra.com>\n",
        "\n",
        "<img src=\"img/tibra_logo.png\" width=\"300\" alt=\"Tibra Logo\">\n",
        "\n",
        "\n",
        "## Module 1.1: Distributions and Random Processes\n",
        "\n",
        "### 1.1.4: Normality Tests\n",
        "\n",
        "If you are analysing data on the assumption it is normally distributed, you should test that assumption first. Properties of normal distributions do not necessarily apply to data that has a different underlying distribution. As an example, an ANOVA test assumes normality in your data, and the results of an ANOVA are not valid if the data comes from some other source.\n",
        "\n",
        "如果你在分析数据时假设它是正态分布的，你应该首先测试这个假设。正态分布的性质不一定适用于具有不同基础分布的数据。例如，ANOVA 检验假设数据是正态分布的，如果数据来自其他来源，ANOVA 的结果将无效。\n",
        "\n",
        "There are a number of normality tests that provide a way for us to determine if it is likely that the data comes from a normal distribution.\n",
        "\n",
        "有许多正态性检验方法可以帮助我们确定数据是否可能来自正态分布。\n",
        "\n",
        "One method of testing for normality is to compute the skew and kurtosis of the data. A standard normal distribution has a skew of 0 and a kurtosis of 3."
      ]
    },
    {
      "cell_type": "code",
      "execution_count": 1,
      "metadata": {},
      "outputs": [],
      "source": [
        "%run setup.ipy"
      ]
    },
    {
      "cell_type": "code",
      "execution_count": 2,
      "metadata": {},
      "outputs": [],
      "source": [
        "# 从pickle文件中读取苹果公司(AAPL)的股票数据并存储到DataFrame中\n",
        "aapl = pd.read_pickle(\"data/AAPL.pkl\")"
      ]
    },
    {
      "cell_type": "code",
      "execution_count": 3,
      "metadata": {},
      "outputs": [],
      "source": [
        "# 计算每日收益变化\n",
        "aapl['Gain'] = aapl['Adj Close'].diff()\n",
        "# 删除包含空值的行\n",
        "aapl.dropna(inplace=True)"
      ]
    },
    {
      "cell_type": "code",
      "execution_count": 4,
      "metadata": {},
      "outputs": [
        {
          "data": {
            "text/plain": [
              "0.49966243998511045"
            ]
          },
          "execution_count": 4,
          "metadata": {},
          "output_type": "execute_result"
        }
      ],
      "source": [
        "# 计算苹果股票收益的偏度(skewness)，用于衡量收益分布的不对称性\n",
        "stats.skew(aapl['Gain'])"
      ]
    },
    {
      "cell_type": "code",
      "execution_count": 5,
      "metadata": {},
      "outputs": [
        {
          "data": {
            "text/plain": [
              "20.448973653158085"
            ]
          },
          "execution_count": 5,
          "metadata": {},
          "output_type": "execute_result"
        }
      ],
      "source": [
        "# 计算收益数据的峰度值（kurtosis）\n",
        "# 峰度衡量数据分布的尖峭程度，正态分布的峰度为0\n",
        "stats.kurtosis(aapl['Gain'])"
      ]
    },
    {
      "cell_type": "markdown",
      "metadata": {},
      "source": [
        "The AAPL stock price increases do not appear to have a normal distribution based on this data. Let's have a look at the histogram again:\n",
        "\n",
        "<text>\n",
        "根据这些数据，AAPL 股票价格的上涨似乎并不符合正态分布。让我们再看一下直方图：\n",
        "</text>\n"
      ]
    },
    {
      "cell_type": "code",
      "execution_count": 6,
      "metadata": {},
      "outputs": [
        {
          "data": {
            "text/html": [
              "\n",
              "<style>\n",
              "  #altair-viz-ee3e3105d987402e83f8caeae3d0ec43.vega-embed {\n",
              "    width: 100%;\n",
              "    display: flex;\n",
              "  }\n",
              "\n",
              "  #altair-viz-ee3e3105d987402e83f8caeae3d0ec43.vega-embed details,\n",
              "  #altair-viz-ee3e3105d987402e83f8caeae3d0ec43.vega-embed details summary {\n",
              "    position: relative;\n",
              "  }\n",
              "</style>\n",
              "<div id=\"altair-viz-ee3e3105d987402e83f8caeae3d0ec43\"></div>\n",
              "<script type=\"text/javascript\">\n",
              "  var VEGA_DEBUG = (typeof VEGA_DEBUG == \"undefined\") ? {} : VEGA_DEBUG;\n",
              "  (function(spec, embedOpt){\n",
              "    let outputDiv = document.currentScript.previousElementSibling;\n",
              "    if (outputDiv.id !== \"altair-viz-ee3e3105d987402e83f8caeae3d0ec43\") {\n",
              "      outputDiv = document.getElementById(\"altair-viz-ee3e3105d987402e83f8caeae3d0ec43\");\n",
              "    }\n",
              "\n",
              "    const paths = {\n",
              "      \"vega\": \"https://cdn.jsdelivr.net/npm/vega@5?noext\",\n",
              "      \"vega-lib\": \"https://cdn.jsdelivr.net/npm/vega-lib?noext\",\n",
              "      \"vega-lite\": \"https://cdn.jsdelivr.net/npm/vega-lite@5.20.1?noext\",\n",
              "      \"vega-embed\": \"https://cdn.jsdelivr.net/npm/vega-embed@6?noext\",\n",
              "    };\n",
              "\n",
              "    function maybeLoadScript(lib, version) {\n",
              "      var key = `${lib.replace(\"-\", \"\")}_version`;\n",
              "      return (VEGA_DEBUG[key] == version) ?\n",
              "        Promise.resolve(paths[lib]) :\n",
              "        new Promise(function(resolve, reject) {\n",
              "          var s = document.createElement('script');\n",
              "          document.getElementsByTagName(\"head\")[0].appendChild(s);\n",
              "          s.async = true;\n",
              "          s.onload = () => {\n",
              "            VEGA_DEBUG[key] = version;\n",
              "            return resolve(paths[lib]);\n",
              "          };\n",
              "          s.onerror = () => reject(`Error loading script: ${paths[lib]}`);\n",
              "          s.src = paths[lib];\n",
              "        });\n",
              "    }\n",
              "\n",
              "    function showError(err) {\n",
              "      outputDiv.innerHTML = `<div class=\"error\" style=\"color:red;\">${err}</div>`;\n",
              "      throw err;\n",
              "    }\n",
              "\n",
              "    function displayChart(vegaEmbed) {\n",
              "      vegaEmbed(outputDiv, spec, embedOpt)\n",
              "        .catch(err => showError(`Javascript Error: ${err.message}<br>This usually means there's a typo in your chart specification. See the javascript console for the full traceback.`));\n",
              "    }\n",
              "\n",
              "    if(typeof define === \"function\" && define.amd) {\n",
              "      requirejs.config({paths});\n",
              "      let deps = [\"vega-embed\"];\n",
              "      require(deps, displayChart, err => showError(`Error loading script: ${err.message}`));\n",
              "    } else {\n",
              "      maybeLoadScript(\"vega\", \"5\")\n",
              "        .then(() => maybeLoadScript(\"vega-lite\", \"5.20.1\"))\n",
              "        .then(() => maybeLoadScript(\"vega-embed\", \"6\"))\n",
              "        .catch(showError)\n",
              "        .then(() => displayChart(vegaEmbed));\n",
              "    }\n",
              "  })({\"config\": {\"view\": {\"continuousWidth\": 300, \"continuousHeight\": 300}}, \"data\": {\"url\": \"altair-temp-data/-a15e0c852c688c184c092ce35aa8fc14.json\", \"format\": {\"type\": \"json\"}}, \"mark\": {\"type\": \"bar\"}, \"encoding\": {\"x\": {\"bin\": {\"maxbins\": 100}, \"field\": \"Gain\", \"type\": \"quantitative\"}, \"y\": {\"aggregate\": \"count\", \"type\": \"quantitative\"}}, \"$schema\": \"https://vega.github.io/schema/vega-lite/v5.20.1.json\"}, {\"mode\": \"vega-lite\"});\n",
              "</script>"
            ],
            "text/plain": [
              "alt.Chart(...)"
            ]
          },
          "execution_count": 6,
          "metadata": {},
          "output_type": "execute_result"
        }
      ],
      "source": [
        "# 创建一个柱状图来展示股票收益的分布\n",
        "# X轴是收益值(Gain)，使用最多100个区间进行分组\n",
        "# Y轴是每个区间的计数\n",
        "alt.Chart(aapl).mark_bar().encode(\n",
        "        alt.X(\"Gain\", bin=alt.Bin(maxbins=100)),\n",
        "        y='count()',\n",
        "    )"
      ]
    },
    {
      "cell_type": "markdown",
      "metadata": {},
      "source": [
        "A high Kurtosis is obtained from very \"sharp\" peaks such as this one. The skew is not that high, but is positive, indicating a right-leaning distribution.\n",
        "\n",
        "需要翻译的文本:\n",
        "<text>\n",
        "A high Kurtosis is obtained from very \"sharp\" peaks such as this one. The skew is not that high, but is positive, indicating a right-leaning distribution.\n",
        "</text>\n",
        "\n",
        "翻译结果:\n",
        "<text>\n",
        "高峰度是由非常“尖锐”的峰值（如此例所示）获得的。偏度并不那么高，但为正，表明分布向右倾斜。\n",
        "</text>\n",
        "\n",
        "More objective tests are available in the `scipy.stats` package. For instance, the Shapiro-Wilk test is commonly used and is a good test for small to medium datasets, with up to a few thousand data points.\n",
        "\n",
        "<text>\n",
        "在 `scipy.stats` 包中提供了更客观的测试。例如，Shapiro-Wilk 测试是常用的，并且对于中小型数据集（最多几千个数据点）是一个很好的测试。\n",
        "</text>\n"
      ]
    },
    {
      "cell_type": "code",
      "execution_count": 7,
      "metadata": {},
      "outputs": [],
      "source": [
        "# 使用 Shapiro-Wilk 测试检验 AAPL 股票收益是否服从正态分布\n",
        "statistic, p = stats.shapiro(aapl['Gain'])"
      ]
    },
    {
      "cell_type": "code",
      "execution_count": 8,
      "metadata": {},
      "outputs": [
        {
          "data": {
            "text/plain": [
              "1.9754031136943266e-56"
            ]
          },
          "execution_count": 8,
          "metadata": {},
          "output_type": "execute_result"
        }
      ],
      "source": [
        "# 比较 p 值和可接受的显著性水平(alpha)来判断是否可以拒绝原假设\n",
        "p"
      ]
    },
    {
      "cell_type": "code",
      "execution_count": 9,
      "metadata": {},
      "outputs": [
        {
          "name": "stdout",
          "output_type": "stream",
          "text": [
            "The data does not look like it was drawn from a normal distribution\n"
          ]
        }
      ],
      "source": [
        "# 判断数据是否符合正态分布\n",
        "# 如果p值大于0.05，表示数据符合正态分布\n",
        "# 如果p值小于等于0.05，表示数据不符合正态分布\n",
        "if p > 0.05:\n",
        "    print(\"The data looks like it was drawn from a normal distribution\")\n",
        "else:\n",
        "    print(\"The data does not look like it was drawn from a normal distribution\")"
      ]
    },
    {
      "cell_type": "markdown",
      "metadata": {},
      "source": [
        "### What is a p-value?\n",
        "\n",
        "The p-value above is a commonly used term to describe the probability of your test being true.\n",
        "\n",
        "As it is a probability, it has a value between 0 and 1. Values near 0 indicate that your test is \"not likely to be true\" and values near 1 indicate that your test is likely to be true. Often, we apply a threshold, and if our p value is greater than that threshold, we accept the outcome as \"likely enough, and we continue as if it were true\", that is, we accept the outcome of the test as a \"positive\".\n",
        "\n",
        "由于它是一个概率，它的值介于0和1之间。接近0的值表明你的测试“不太可能是真的”，而接近1的值表明你的测试很可能是真的。通常，我们会应用一个阈值，如果我们的p值大于该阈值，我们就接受结果为“足够可能，并继续假设它是真的”，也就是说，我们将测试的结果接受为“阳性”。\n",
        "\n",
        "It is very common to use a threshold of 0.05 when performing a test. That is, if our test has a greater than 95% chance of being true, we accept it as such. While this is an adequate rule of thumb, it is not a one-size-fits-all solution to the problem of choosing a p value threshold.\n",
        "\n",
        "在进行测试时，通常使用0.05作为阈值。也就是说，如果我们的测试有超过95%的概率为真，我们就接受它。虽然这是一个合适的经验法则，但它并不是选择p值阈值的通用解决方案。\n",
        "\n",
        "Where this is normally seen in classical statistics is with a Null, and Alternative hypothesis. We will delve into these deeper later, but as this is used above, the null hypothesis is our \"nothing is surprising\" hypothesis, and the alternative is \"there is something interesting here\". For the Shapiro-Wilk used above, the hypothesis are:\n",
        "\n",
        "<text>\n",
        "在经典统计学中，这通常出现在零假设和备择假设中。我们稍后会深入探讨这些概念，但正如上面所提到的，零假设是我们的“没有什么令人惊讶的”假设，而备择假设是“这里有一些有趣的东西”。对于上面使用的Shapiro-Wilk检验，假设如下：\n",
        "</text>\n",
        "\n",
        "* $H_0$ (the Null hypothesis): The data is drawn from a normal distribution\n",
        "* $H_A$ (the Alternative hypothesis): The data was not drawn from a normal distribution\n",
        "\n",
        "Here we have mutually exclusive tests. If we get a value of $a$ for our Null hypothesis, then the probability of our Alternative being true is $1-a$. Statisticians are a pessimistic bunch, so require a very high threshold before we reject the Null hypothesis. This is akin to requiring a very high amount of evidence to reject it. Therefore, to reject the Null hypothesis, to indicate something else is going on here, we require the p value to be less than 0.05, i.e. for there to be a greater than 95% chance the Alternative hypothesis is true.\n",
        "\n",
        "This might seem like a high standard to meet, but humans often see patterns in data that are not there. We use statistics to test these patterns and ensure we don't fall afoul of this over confident pattern matching.\n",
        "\n",
        "这似乎是一个很高的标准，但人类经常在数据中看到并不存在的模式。我们使用统计方法来测试这些模式，确保我们不会因为过度自信的模式匹配而犯错。\n",
        "\n",
        "Before you decide to run a new statistical test, you should see first what the p value would tell you. Often the language is \"accept the null hypothesis\" or \"fail to accept the null hypothesis\". This will tell you how to use the test.\n",
        "\n",
        "<text>\n",
        "在决定运行新的统计测试之前，你应该首先看看 p 值会告诉你什么。通常使用的语言是“接受原假设”或“未能接受原假设”。这将告诉你如何使用该测试。\n",
        "</text>\n"
      ]
    },
    {
      "cell_type": "markdown",
      "metadata": {},
      "source": [
        "We could see from the Kurtosis that this dataset above wasn't normal. Let's look at a different set of data.\n",
        "\n",
        "我们可以从峰度看出，上述数据集并不符合正态分布。让我们看看另一组数据。\n"
      ]
    },
    {
      "cell_type": "code",
      "execution_count": 10,
      "metadata": {},
      "outputs": [],
      "source": [
        "# 创建一个包含100个身高数据的NumPy数组\n",
        "heights = np.array([\n",
        "    205.61624376, 155.80577135, 202.09636984, 159.19312848,\n",
        "    160.0263383 , 147.44200373, 160.96891569, 160.76304892,\n",
        "    167.59165377, 164.31571823, 151.11269914, 176.43856129,\n",
        "    176.88435091, 138.04177187, 183.87507305, 162.81488426,\n",
        "    167.96767641, 144.68437342, 180.88771461, 179.18997091,\n",
        "    189.81672505, 163.68662119, 175.70135072, 167.32793289,\n",
        "    163.72509862, 207.93257342, 177.41722601, 167.28154916,\n",
        "    170.26294662, 187.01142671, 178.3108478 , 168.8711774 ,\n",
        "    202.77222671, 138.55043572, 187.10284379, 155.13494037,\n",
        "    175.24219374, 188.54739561, 191.42024196, 174.34537673,\n",
        "    158.36285104, 183.17014557, 166.36310929, 185.3415384 ,\n",
        "    163.87673308, 173.70401469, 168.78499868, 167.39762991,\n",
        "    166.89193943, 191.04035344, 148.02108024, 140.82772936,\n",
        "    168.85378921, 142.13536543, 189.77084606, 173.7849811 ,\n",
        "    157.61303804, 171.62493617, 173.30529631, 162.92083214,\n",
        "    169.52974326, 142.01039665, 176.01691215, 170.32439763,\n",
        "    172.64616031, 158.35076247, 185.96332979, 176.6176222 ,\n",
        "    204.68516079, 161.43591954, 172.42384543, 179.36900257,\n",
        "    170.01353653, 194.40269002, 139.96802012, 156.47281846,\n",
        "    210.21895193, 153.30508193, 157.10282665, 200.07040619,\n",
        "    174.69616438, 168.97403285, 188.9396949 , 156.19358617,\n",
        "    179.56494356, 175.04014032, 164.1384659 , 167.90219562,\n",
        "    184.80752625, 143.56580744, 169.80537836, 186.5894398 ,\n",
        "    166.39251657, 165.65510886, 195.49137372, 152.21650272,\n",
        "    163.14001055, 170.27382512, 147.63901378, 190.32910286])"
      ]
    },
    {
      "cell_type": "code",
      "execution_count": 11,
      "metadata": {},
      "outputs": [],
      "source": [
        "# 使用 Shapiro-Wilk 测试检验身高数据是否服从正态分布\n",
        "statistic, p = stats.shapiro(heights)"
      ]
    },
    {
      "cell_type": "code",
      "execution_count": 12,
      "metadata": {},
      "outputs": [
        {
          "name": "stdout",
          "output_type": "stream",
          "text": [
            "The data looks like it was drawn from a normal distribution\n",
            "p=0.278\n"
          ]
        }
      ],
      "source": [
        "# 如果 p 值大于 0.05 (显著性水平)\n",
        "if p > 0.05:\n",
        "    # 打印数据符合正态分布的结论\n",
        "    print(\"The data looks like it was drawn from a normal distribution\")\n",
        "    # 打印 p 值，保留 3 位小数\n",
        "    print(\"p={:.3f}\".format(p))\n",
        "else:\n",
        "    # 打印数据不符合正态分布的结论\n",
        "    print(\"The data does not look like it was drawn from a normal distribution\")"
      ]
    },
    {
      "cell_type": "markdown",
      "metadata": {},
      "source": [
        "#### Exercise\n",
        "\n",
        "Two other commonly used tests for normality are available in `scipy.stats`. They are `stats.normaltest` and `stats.kstest`. Review the help and references for these functions, and run them on the `heights` data. What are the strengths and weaknesses of each test?"
      ]
    },
    {
      "cell_type": "code",
      "execution_count": 13,
      "metadata": {},
      "outputs": [
        {
          "name": "stdout",
          "output_type": "stream",
          "text": [
            "0.6994130645220737 0.0\n",
            "From Stack overflow, the Kolmogorov-Smirnov is for a completely specified distribution, while the Shapiro-Wilk is for normality, with unspecified mean and variance.\n"
          ]
        }
      ],
      "source": [
        "# 对身高数据进行正态性检验\n",
        "statistic_chi, p_c = stats.normaltest(heights) # 使用卡方检验进行正态性检验\n",
        "statistic_k, p_k = stats.kstest(heights,cdf = 'norm') # 使用KS检验进行正态性检验\n",
        "print(str(p_c), str(p_k))\n",
        "\n",
        "# 打印KS检验和Shapiro-Wilk检验的区别说明\n",
        "print(\"From Stack overflow, the Kolmogorov-Smirnov is for a completely specified distribution, while the Shapiro-Wilk is for normality, with unspecified mean and variance.\")"
      ]
    },
    {
      "cell_type": "markdown",
      "metadata": {},
      "source": [
        "*For solutions, see `solutions/scipy_normal_tests.py`*"
      ]
    },
    {
      "cell_type": "markdown",
      "metadata": {},
      "source": [
        "### Statsmodels\n",
        "\n",
        "We will now perform a normality test using the `statsmodels` package. This package allows for higher level statistics than the `scipy` module we have been using. We will be using `statsmodels` for much of the ordinary least squares computation in future modules.\n",
        "\n",
        "<text>\n",
        "我们现在将使用 `statsmodels` 包进行正态性检验。这个包提供了比我们一直在使用的 `scipy` 模块更高级的统计功能。在未来的模块中，我们将使用 `statsmodels` 进行大量的普通最小二乘法计算。\n",
        "</text>\n"
      ]
    },
    {
      "cell_type": "code",
      "execution_count": 14,
      "metadata": {},
      "outputs": [],
      "source": [
        "# 导入statsmodels库的API模块，用于进行统计建模和分析\n",
        "\n",
        "import statsmodels.api as sm"
      ]
    },
    {
      "cell_type": "code",
      "execution_count": 15,
      "metadata": {},
      "outputs": [],
      "source": [
        "# 使用statsmodels库的kstest_normal函数对heights数据进行Kolmogorov-Smirnov正态性检验\n",
        "statistic, p_value = sm.stats.diagnostic.kstest_normal(heights)"
      ]
    },
    {
      "cell_type": "code",
      "execution_count": 16,
      "metadata": {},
      "outputs": [
        {
          "name": "stdout",
          "output_type": "stream",
          "text": [
            "The data looks like it was drawn from a normal distribution\n",
            "p=0.395\n"
          ]
        }
      ],
      "source": [
        "# 根据 p 值判断数据是否符合正态分布\n",
        "if p_value > 0.05:  # 如果 p 值大于显著性水平 0.05\n",
        "    print(\"The data looks like it was drawn from a normal distribution\")  # 打印数据符合正态分布\n",
        "    print(\"p={:.3f}\".format(p_value))  # 打印 p 值，保留 3 位小数\n",
        "else:  # 如果 p 值小于等于 0.05\n",
        "    print(\"The data does not look like it was drawn from a normal distribution\")  # 打印数据不符合正态分布"
      ]
    },
    {
      "cell_type": "markdown",
      "metadata": {},
      "source": [
        "#### Exercise\n",
        "\n",
        "Review the documentation for `statsmodels` at https://www.statsmodels.org and run the Jarque-Bera test for normality on this data."
      ]
    },
    {
      "cell_type": "code",
      "execution_count": 17,
      "metadata": {},
      "outputs": [
        {
          "name": "stdout",
          "output_type": "stream",
          "text": [
            "0.6714923453511482\n"
          ]
        }
      ],
      "source": [
        "# 导入statsmodels库中的统计工具模块\n",
        "from statsmodels.stats import stattools\n",
        "\n",
        "# 对heights数据进行Jarque-Bera正态性检验\n",
        "# jbstat: JB统计量\n",
        "# pvalue: 检验的p值\n",
        "# skew: 偏度\n",
        "# kurtosis: 峰度\n",
        "jbstat, pvalue, skew, kurtosis = stattools.jarque_bera(heights)\n",
        "print(pvalue)"
      ]
    },
    {
      "cell_type": "markdown",
      "metadata": {},
      "source": [
        "*For solutions, see `solutions/jarque_bera.py`*"
      ]
    },
    {
      "cell_type": "markdown",
      "metadata": {},
      "source": [
        "### Handling conflicts\n",
        "\n",
        "There are many different normality tests. If you get the same result for all the tests (i.e. multiple tests suggest normal data), then you can be reasonably sure the data does come from a normal distribution.\n",
        "\n",
        "有许多不同的正态性检验。如果所有检验都得到相同的结果（即多个检验表明数据是正态的），那么你可以合理地确定数据确实来自正态分布。\n",
        "\n",
        "If you get conflicting result, the results are not quite so clear. In a conflicting case, it would be unlikely that the results will be wildly different. Instead, you are likely to get a few slightly \"above the line\" and a few slightly \"below the line\". Depending on the use case, you can interpret a single \"is normal\" result as being good enough. Much of the later analysis you can do will be fine for \"normal-like\" data, rather than strictly normal data.\n",
        "\n",
        "如果你得到的结果相互冲突，那么结果就不那么明确了。在冲突的情况下，结果不太可能会有很大的差异。相反，你可能会得到一些稍微“高于线”和一些稍微“低于线”的结果。根据使用情况，你可以将单个“是正态”的结果解释为足够好。你后续进行的许多分析对于“类似正态”的数据来说都是可行的，而不需要严格的正态数据。\n",
        "\n",
        "If you do have a very sensitive application that requires a great degree in confidence in your normality test, research further the assumptions behind different normality tests and see which are most applicable to your application. The SciPy and Statsmodels documentation contain references for each of the normality tests.\n",
        "\n",
        "A major property is the number of samples in your dataset. Some tests work better with more samples, and some work better with fewer. We will investigate this in the last exercise for this module."
      ]
    },
    {
      "cell_type": "markdown",
      "metadata": {},
      "source": [
        "#### Exercise\n",
        "\n",
        "We are going to investigate the relationship that sample size has with the results of a normality test. We want to test the likelihood a normality test will reject the normality hypothesis for a dataset that *actually is generated from a normal distribution*, as the sample size increases.\n",
        "\n",
        "<text>\n",
        "我们将研究样本量与正态性检验结果之间的关系。我们想要测试随着样本量的增加，正态性检验拒绝*实际上来自正态分布*的数据集的正态性假设的可能性。\n",
        "</text>\n",
        "\n",
        "Write a script that:\n",
        "\n",
        "1. Creates a normal distribution\n",
        "2. Randomly samples N data points from that distribution\n",
        "3. Checks for normality against four different normality tests\n",
        "4. Repeats steps 1-3 a large number of times, and with varying N\n",
        "5. Plot the likelihood each test fails for a given sample size.\n",
        "\n",
        "Below is a snippet of code that runs 20 tests against one sample of data, and determines if the test determines it is normal or not. For an alpha value of 0.05, you would expect about 1 of the tests to fail on average.\n",
        "\n",
        "<text>\n",
        "以下是一段代码片段，它对一个数据样本运行了20次测试，并确定测试是否认为数据是正态分布的。对于0.05的alpha值，你预计平均会有大约1次测试失败。\n",
        "</text>\n"
      ]
    },
    {
      "cell_type": "code",
      "execution_count": 18,
      "metadata": {},
      "outputs": [],
      "source": [
        "# 定义一个函数来测试数据的正态性\n",
        "def normality_script(sample_size, test_type, repetitions = 100):\n",
        "    # 创建一个标准正态分布对象\n",
        "    distribution = stats.norm()\n",
        "    # 从该分布中生成随机样本\n",
        "    data = distribution.rvs(sample_size)\n",
        "    \n",
        "    # 初始化计数器\n",
        "    passed = 0\n",
        "    failed = 0\n",
        "    # 重复执行指定次数的测试\n",
        "    for i in range(repetitions):\n",
        "        # 每次迭代都生成新的正态分布数据\n",
        "        distribution = stats.norm()\n",
        "        data = distribution.rvs(sample_size)\n",
        "    \n",
        "        # 根据指定的测试类型执行相应的正态性检验\n",
        "        if test_type == \"sw\":\n",
        "            # Shapiro-Wilk测试\n",
        "            statistic, p = stats.shapiro(data)\n",
        "        elif test_type == \"cs\":\n",
        "            # Chi-Square测试\n",
        "            statistic, p = stats.normaltest(data)\n",
        "        elif test_type == \"ks\":\n",
        "            # Kolmogorov-Smirnov测试\n",
        "            statistic, p = stats.kstest(data, cdf = 'norm')\n",
        "        elif test_type == \"jb\":\n",
        "            # Jarque-Bera测试\n",
        "            statistic, p, skew, kurtosis = stattools.jarque_bera(data)\n",
        "        \n",
        "        # 根据p值判断测试是否通过（α = 0.05）\n",
        "        if p > 0.05:\n",
        "            passed += 1\n",
        "        else:\n",
        "            failed += 1\n",
        "        \n",
        "    # 返回失败率\n",
        "    return failed/(passed+failed)"
      ]
    },
    {
      "cell_type": "code",
      "execution_count": 19,
      "metadata": {},
      "outputs": [
        {
          "name": "stderr",
          "output_type": "stream",
          "text": [
            "/home/michael/miniconda3/envs/quant_finance/lib/python3.12/site-packages/scipy/stats/_axis_nan_policy.py:418: UserWarning: `kurtosistest` p-value may be inaccurate with fewer than 20 observations; only n=10 observations were given.\n",
            "  return hypotest_fun_in(*args, **kwds)\n"
          ]
        },
        {
          "data": {
            "text/html": [
              "\n",
              "<style>\n",
              "  #altair-viz-f41fa25437fd4882a19f5781953796e0.vega-embed {\n",
              "    width: 100%;\n",
              "    display: flex;\n",
              "  }\n",
              "\n",
              "  #altair-viz-f41fa25437fd4882a19f5781953796e0.vega-embed details,\n",
              "  #altair-viz-f41fa25437fd4882a19f5781953796e0.vega-embed details summary {\n",
              "    position: relative;\n",
              "  }\n",
              "</style>\n",
              "<div id=\"altair-viz-f41fa25437fd4882a19f5781953796e0\"></div>\n",
              "<script type=\"text/javascript\">\n",
              "  var VEGA_DEBUG = (typeof VEGA_DEBUG == \"undefined\") ? {} : VEGA_DEBUG;\n",
              "  (function(spec, embedOpt){\n",
              "    let outputDiv = document.currentScript.previousElementSibling;\n",
              "    if (outputDiv.id !== \"altair-viz-f41fa25437fd4882a19f5781953796e0\") {\n",
              "      outputDiv = document.getElementById(\"altair-viz-f41fa25437fd4882a19f5781953796e0\");\n",
              "    }\n",
              "\n",
              "    const paths = {\n",
              "      \"vega\": \"https://cdn.jsdelivr.net/npm/vega@5?noext\",\n",
              "      \"vega-lib\": \"https://cdn.jsdelivr.net/npm/vega-lib?noext\",\n",
              "      \"vega-lite\": \"https://cdn.jsdelivr.net/npm/vega-lite@5.20.1?noext\",\n",
              "      \"vega-embed\": \"https://cdn.jsdelivr.net/npm/vega-embed@6?noext\",\n",
              "    };\n",
              "\n",
              "    function maybeLoadScript(lib, version) {\n",
              "      var key = `${lib.replace(\"-\", \"\")}_version`;\n",
              "      return (VEGA_DEBUG[key] == version) ?\n",
              "        Promise.resolve(paths[lib]) :\n",
              "        new Promise(function(resolve, reject) {\n",
              "          var s = document.createElement('script');\n",
              "          document.getElementsByTagName(\"head\")[0].appendChild(s);\n",
              "          s.async = true;\n",
              "          s.onload = () => {\n",
              "            VEGA_DEBUG[key] = version;\n",
              "            return resolve(paths[lib]);\n",
              "          };\n",
              "          s.onerror = () => reject(`Error loading script: ${paths[lib]}`);\n",
              "          s.src = paths[lib];\n",
              "        });\n",
              "    }\n",
              "\n",
              "    function showError(err) {\n",
              "      outputDiv.innerHTML = `<div class=\"error\" style=\"color:red;\">${err}</div>`;\n",
              "      throw err;\n",
              "    }\n",
              "\n",
              "    function displayChart(vegaEmbed) {\n",
              "      vegaEmbed(outputDiv, spec, embedOpt)\n",
              "        .catch(err => showError(`Javascript Error: ${err.message}<br>This usually means there's a typo in your chart specification. See the javascript console for the full traceback.`));\n",
              "    }\n",
              "\n",
              "    if(typeof define === \"function\" && define.amd) {\n",
              "      requirejs.config({paths});\n",
              "      let deps = [\"vega-embed\"];\n",
              "      require(deps, displayChart, err => showError(`Error loading script: ${err.message}`));\n",
              "    } else {\n",
              "      maybeLoadScript(\"vega\", \"5\")\n",
              "        .then(() => maybeLoadScript(\"vega-lite\", \"5.20.1\"))\n",
              "        .then(() => maybeLoadScript(\"vega-embed\", \"6\"))\n",
              "        .catch(showError)\n",
              "        .then(() => displayChart(vegaEmbed));\n",
              "    }\n",
              "  })({\"config\": {\"view\": {\"continuousWidth\": 300, \"continuousHeight\": 300}}, \"data\": {\"url\": \"altair-temp-data/-aff0e74842cc0076c08687369dc9ed75.json\", \"format\": {\"type\": \"json\"}}, \"mark\": {\"type\": \"line\"}, \"encoding\": {\"color\": {\"field\": \"Test\", \"type\": \"nominal\"}, \"x\": {\"field\": \"Sample\", \"type\": \"quantitative\"}, \"y\": {\"field\": \"Failed\", \"type\": \"quantitative\"}}, \"$schema\": \"https://vega.github.io/schema/vega-lite/v5.20.1.json\"}, {\"mode\": \"vega-lite\"});\n",
              "</script>"
            ],
            "text/plain": [
              "alt.Chart(...)"
            ]
          },
          "execution_count": 19,
          "metadata": {},
          "output_type": "execute_result"
        }
      ],
      "source": [
        "# 导入所需的库\n",
        "import pandas as pd\n",
        "from statsmodels.stats import stattools\n",
        "from scipy import stats\n",
        "import altair as alt\n",
        "import numpy as np\n",
        "\n",
        "# 定义不同的样本大小\n",
        "sample_sizes = [10, 30, 50, 100, 1000, 5000]\n",
        "#sample_sizes = np.linspace(10, max_sample_size, 20, dtype=np.int)\n",
        "\n",
        "# 定义要测试的正态性检验方法\n",
        "# sw: Shapiro-Wilk test\n",
        "# cs: Chi-Square test\n",
        "# ks: Kolmogorov-Smirnov test\n",
        "# jb: Jarque-Bera test\n",
        "test_types = [\"sw\", \"cs\", \"ks\", \"jb\"]\n",
        "data = []\n",
        "\n",
        "# 对每个样本大小和每种检验方法进行测试\n",
        "for size in sample_sizes:\n",
        "    for test in test_types:\n",
        "        # 获取在当前样本大小和检验方法下的失败率\n",
        "        p_fail = normality_script(size, test)\n",
        "        # 创建包含测试类型、样本大小和失败率的行\n",
        "        row = [test,size,p_fail]\n",
        "        data.append(row)\n",
        "        \n",
        "# 将结果转换为DataFrame\n",
        "df = pd.DataFrame(data, columns=['Test', 'Sample', 'Failed'])\n",
        "\n",
        "# 使用Altair创建折线图\n",
        "# x轴表示样本大小\n",
        "# y轴表示失败率\n",
        "# 不同的检验方法用不同的颜色表示\n",
        "alt.Chart(df).mark_line().encode(\n",
        "    x='Sample',\n",
        "    y='Failed',\n",
        "    color = 'Test'\n",
        ")"
      ]
    },
    {
      "cell_type": "code",
      "execution_count": 20,
      "metadata": {},
      "outputs": [
        {
          "name": "stdout",
          "output_type": "stream",
          "text": [
            "19 passed and 1 failed\n"
          ]
        }
      ],
      "source": [
        "# 设置样本大小为30\n",
        "sample_size = 30\n",
        "# 初始化通过和失败的计数器\n",
        "passed = 0\n",
        "failed = 0\n",
        "# 进行20次测试\n",
        "for i in range(20):\n",
        "    # 创建一个标准正态分布对象\n",
        "    distribution = stats.norm()\n",
        "    # 从该分布中生成sample_size个随机样本\n",
        "    data = distribution.rvs(sample_size)\n",
        "    # 使用chi-square正态性检验来测试数据\n",
        "    stat, p = stats.normaltest(data)\n",
        "    # 如果p值大于0.05，说明数据符合正态分布\n",
        "    if p > 0.05:\n",
        "        passed += 1\n",
        "    else:\n",
        "        failed += 1\n",
        "# 打印通过和失败的测试次数\n",
        "print(\"{} passed and {} failed\".format(passed, failed))"
      ]
    },
    {
      "cell_type": "markdown",
      "metadata": {},
      "source": [
        "*For solutions see `solutions/many_normal_tests.py`*"
      ]
    }
  ],
  "metadata": {
    "kernelspec": {
      "display_name": "Python 3",
      "language": "python",
      "name": "python3"
    },
    "language_info": {
      "codemirror_mode": {
        "name": "ipython",
        "version": 3
      },
      "file_extension": ".py",
      "mimetype": "text/x-python",
      "name": "python",
      "nbconvert_exporter": "python",
      "pygments_lexer": "ipython3",
      "version": "3.12.3"
    }
  },
  "nbformat": 4,
  "nbformat_minor": 2
}
