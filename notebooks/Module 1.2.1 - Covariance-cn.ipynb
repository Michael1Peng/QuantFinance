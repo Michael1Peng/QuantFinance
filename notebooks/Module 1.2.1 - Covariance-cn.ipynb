{
  "cells": [
    {
      "cell_type": "markdown",
      "metadata": {},
      "source": [
        "# Introduction to Quantitative Finance\n",
        "\n",
        "# 量化金融导论\n",
        "\n",
        "Copyright (c) 2019 Python Charmers Pty Ltd, Australia, <https://pythoncharmers.com>. All rights reserved.\n",
        "\n",
        "版权所有 (c) 2019 Python Charmers Pty Ltd, 澳大利亚, <https://pythoncharmers.com>。保留所有权利。\n",
        "\n",
        "<img src=\"img/python_charmers_logo.png\" width=\"300\" alt=\"Python Charmers Logo\">\n",
        "\n",
        "Published under the Creative Commons Attribution-NonCommercial 4.0 International (CC BY-NC 4.0) license. See `LICENSE.md` for details.\n",
        "\n",
        "根据知识共享署名-非商业性使用 4.0 国际 (CC BY-NC 4.0) 许可发布。详情请参阅 `LICENSE.md`。\n",
        "\n",
        "Sponsored by Tibra Global Services, <https://tibra.com>\n",
        "\n",
        "由 Tibra Global Services 赞助，<https://tibra.com>\n",
        "\n",
        "<img src=\"img/tibra_logo.png\" width=\"300\" alt=\"Tibra Logo\">\n",
        "\n",
        "\n",
        "## Module 1.2: Covariance and Correlation\n",
        "\n",
        "## 模块 1.2: 协方差与相关性\n",
        "\n",
        "### 1.2.1 Covariance\n",
        "\n",
        "The Covariance is a measure of how much two variables \"move together\". A positive covariance between two variables, say $X$ and $Y$, indicates that when $X$ increases, $Y$ increases. Further, if $X$ decreases, $Y$ decreases also. A *negative* covariance indicates that if $X$ increases, $Y$ decreases, and vice versa.\n",
        "\n",
        "协方差是衡量两个变量“一起变动”程度的指标。两个变量（例如 $X$ 和 $Y$）之间的正协方差表示当 $X$ 增加时，$Y$ 也会增加。此外，如果 $X$ 减少，$Y$ 也会减少。*负*协方差则表示如果 $X$ 增加，$Y$ 会减少，反之亦然。\n",
        "\n",
        "More technically, rather than say \"decreases\", the concept is more formally described as \"with positive covariance, if $X$ is greater than its mean, then $Y$ will likely be greater than its mean also\".\n",
        "\n",
        "更准确地说，与其说“减少”，这个概念更正式地描述为“在正协方差的情况下，如果$X$大于其均值，那么$Y$也可能大于其均值”。\n",
        "\n",
        "To investigate this further, let's take a quick detour through the concept of an **Expected value**.\n",
        "\n",
        "为了进一步研究这一点，让我们快速绕道了解一下**期望值**的概念。\n"
      ]
    },
    {
      "cell_type": "code",
      "execution_count": 1,
      "metadata": {},
      "outputs": [],
      "source": [
        "%run setup.ipy"
      ]
    },
    {
      "cell_type": "markdown",
      "metadata": {},
      "source": [
        "### Expected Value\n",
        "\n",
        "The expected value of a variable, say $X$, is the centre point for its data, and is usually the **mean** of the data.\n",
        "\n",
        "一个变量的期望值，比如 $X$，是其数据的中心点，通常是数据的**均值**。\n"
      ]
    },
    {
      "cell_type": "code",
      "execution_count": 2,
      "metadata": {},
      "outputs": [],
      "source": [
        "# 创建一个包含20次骰子投掷结果的列表\n",
        "X = [2, 3, 2, 1, 3, 5, 1, 1, 3, 1, 4, 5, 5, 2, 5, 6, 3, 5, 3, 6]  # Dice rolls"
      ]
    },
    {
      "cell_type": "code",
      "execution_count": 3,
      "metadata": {},
      "outputs": [],
      "source": [
        "# 计算样本期望值 - 通过将所有骰子点数之和除以总投掷次数\n",
        "sample_expected_value = float(sum(X)) / float(len(X))  # Alternatively, np.mean(X)"
      ]
    },
    {
      "cell_type": "code",
      "execution_count": 4,
      "metadata": {},
      "outputs": [
        {
          "data": {
            "text/plain": [
              "3.3"
            ]
          },
          "execution_count": 4,
          "metadata": {},
          "output_type": "execute_result"
        }
      ],
      "source": [
        "# 计算样本期望值(前面已经计算过，这里是获取结果)\n",
        "\n",
        "sample_expected_value"
      ]
    },
    {
      "cell_type": "markdown",
      "metadata": {},
      "source": [
        "It is important to note that in the above, we computed the *sample mean*, which is an approximation of the population mean. In \"Expected value\" terms, we have the *true expected value*, indicated by $E[X]$ and alternatively the sample mean, usually indicated by $\\bar{X}$. We won't be dwelling too much on this differentiation at the moment, but will return to the concept in a later module.\n",
        "\n",
        "需要注意的是，在上述内容中，我们计算的是*样本均值*，它是总体均值的近似值。在“期望值”的术语中，我们有*真实期望值*，用$E[X]$表示，另外还有样本均值，通常用$\\bar{X}$表示。我们目前不会过多讨论这种区别，但会在后续模块中再次回到这个概念。\n",
        "\n",
        "The [Law of large numbers](https://en.wikipedia.org/wiki/Law_of_large_numbers) states that if you perform an experiment a large number of times, the average of the results of those experiments will approximate the expected value. Further, and with more experiments, the average of results will tend to be closer to the true expected value. In our example above, if we roll the dice *many* more times, our expected value will approximate the true value (of 3.5).\n",
        "\n",
        "[大数定律](https://en.wikipedia.org/wiki/Law_of_large_numbers)指出，如果你多次进行实验，这些实验结果的平均值将接近期望值。此外，随着实验次数的增加，结果的平均值将趋向于更接近真实的期望值。在我们上面的例子中，如果我们掷骰子*更多*次，我们的期望值将接近真实值（即3.5）。\n",
        "\n",
        "\n",
        "In `statsmodels`, we can use a Description object to compute the mean. This provides more statistics than we need at the moment, but we will use the other features later on. NumPy also has a `np.mean` function if you need just that one value.\n",
        "\n",
        "在 `statsmodels` 中，我们可以使用 Description 对象来计算均值。虽然这提供了比我们目前所需更多的统计信息，但我们稍后会使用其他功能。如果你只需要计算均值，NumPy 也有一个 `np.mean` 函数。\n"
      ]
    },
    {
      "cell_type": "code",
      "execution_count": 5,
      "metadata": {},
      "outputs": [],
      "source": [
        "# 导入statsmodels统计分析库,使用别名sm\n",
        "import statsmodels.api as sm"
      ]
    },
    {
      "cell_type": "code",
      "execution_count": 7,
      "metadata": {},
      "outputs": [],
      "source": [
        "# 使用 statsmodels 创建描述性统计对象，用于计算骰子点数数据 X 的统计指标\n",
        "\n",
        "d = sm.stats.DescrStatsW(X)"
      ]
    },
    {
      "cell_type": "code",
      "execution_count": 8,
      "metadata": {},
      "outputs": [
        {
          "data": {
            "text/plain": [
              "3.3"
            ]
          },
          "execution_count": 8,
          "metadata": {},
          "output_type": "execute_result"
        }
      ],
      "source": [
        "# 使用 statsmodels 的 DescrStatsW 对象计算样本均值\n",
        "\n",
        "d.mean"
      ]
    },
    {
      "cell_type": "markdown",
      "metadata": {},
      "source": [
        "Another way to consider this is as a series of probabilities against the value. Our expected frequency for each value in this sample is simply the number of times we have seen each:\n",
        "\n",
        "另一种考虑这个问题的方法是将它视为一系列与值对应的概率。在这个样本中，每个值的预期频率就是我们看到每个值的次数：\n"
      ]
    },
    {
      "cell_type": "code",
      "execution_count": 9,
      "metadata": {},
      "outputs": [
        {
          "data": {
            "text/plain": [
              "[(1, 4), (2, 3), (3, 5), (4, 1), (5, 5), (6, 2)]"
            ]
          },
          "execution_count": 9,
          "metadata": {},
          "output_type": "execute_result"
        }
      ],
      "source": [
        "# 导入Counter类用于计数\n",
        "from collections import Counter\n",
        "# 统计X中每个数字出现的次数\n",
        "counts = Counter(X)\n",
        "# 对计数结果进行排序并返回，每个元素是一个元组，第一个值是骰子点数，第二个值是该点数出现的次数\n",
        "sorted(counts.items()) # First value in each pair is the dice roll, the second is how many times we saw it"
      ]
    },
    {
      "cell_type": "markdown",
      "metadata": {},
      "source": [
        "Dividing the frequency through by the total, we obtain the estimated probability of each dice roll value:\n",
        "\n",
        "将频率除以总数，我们得到每个骰子点数的估计概率：\n"
      ]
    },
    {
      "cell_type": "code",
      "execution_count": 10,
      "metadata": {},
      "outputs": [
        {
          "name": "stdout",
          "output_type": "stream",
          "text": [
            "1 0.2\n",
            "2 0.15\n",
            "3 0.25\n",
            "4 0.05\n",
            "5 0.25\n",
            "6 0.1\n"
          ]
        }
      ],
      "source": [
        "# 遍历骰子的每个面值(1到6)\n",
        "for value in range(1, 7):  # Note: doesn't include endpoint (7)\n",
        "    # 计算每个面值出现的概率(该面值出现次数/总投掷次数)\n",
        "    p = float(counts[value]) / len(X)\n",
        "    # 打印面值及其对应的概率\n",
        "    print(value, p)"
      ]
    },
    {
      "cell_type": "markdown",
      "metadata": {},
      "source": [
        "Multiplying each of these by the dice roll, we get the expected value again:\n",
        "\n",
        "将每个结果乘以骰子的点数，我们再次得到期望值：\n"
      ]
    },
    {
      "cell_type": "code",
      "execution_count": 11,
      "metadata": {},
      "outputs": [],
      "source": [
        "# 初始化总和为0\n",
        "current_sum = 0\n",
        "\n",
        "for value in range(1, 7):  # Note: doesn't include endpoint (7)\n",
        "    # 计算每个点数出现的概率(该点数出现次数/总投掷次数)\n",
        "    p = float(counts[value]) / len(X)\n",
        "    # 将每个点数与其概率的乘积累加,计算样本期望值\n",
        "    current_sum += (p * value)"
      ]
    },
    {
      "cell_type": "code",
      "execution_count": 12,
      "metadata": {},
      "outputs": [
        {
          "data": {
            "text/plain": [
              "3.3000000000000003"
            ]
          },
          "execution_count": 12,
          "metadata": {},
          "output_type": "execute_result"
        }
      ],
      "source": [
        "这段代码只是一个变量引用，它会输出之前计算的 current_sum 的值。current_sum 是通过循环计算得到的骰子点数的加权平均值（期望值），其中权重是每个点数出现的概率。"
      ]
    },
    {
      "cell_type": "markdown",
      "metadata": {},
      "source": [
        "As noted above, this value is an estimation of the true expected value (and it is wrong by 0.2 from the true value). If we know the underlying distribution, we can compute the true expected value using the underlying distribution. In this case, we know each possible dice roll has a likelihood of $\\frac{1}{6}$ of appearing, therefore we can compute the expected value:\n",
        "\n",
        "如上所述，这个值是对真实期望值的估计（并且它与真实值相差0.2）。如果我们知道底层分布，我们可以使用底层分布计算真实的期望值。在这种情况下，我们知道每个可能的骰子点数出现的概率为$\\frac{1}{6}$，因此我们可以计算期望值：\n"
      ]
    },
    {
      "cell_type": "code",
      "execution_count": 13,
      "metadata": {},
      "outputs": [],
      "source": [
        "# 计算理论期望值\n",
        "expected_value = 0\n",
        "\n",
        "# 遍历骰子的6个面(1-6)\n",
        "for value in range(1, 7):\n",
        "    # 每个面的概率是1/6，将概率乘以面值并累加\n",
        "    expected_value += float(value) * (1/6)"
      ]
    },
    {
      "cell_type": "code",
      "execution_count": 14,
      "metadata": {},
      "outputs": [
        {
          "data": {
            "text/plain": [
              "3.5"
            ]
          },
          "execution_count": 14,
          "metadata": {},
          "output_type": "execute_result"
        }
      ],
      "source": [
        "返回预期值(3.5)，这是一个标准六面骰子的理论期望值，通过前面的循环计算得出"
      ]
    },
    {
      "cell_type": "markdown",
      "metadata": {},
      "source": [
        "Note that, as in the above, the expected value does not have to be a possible outcome.\n",
        "\n",
        "需要注意的是，如上所述，期望值不一定是一个可能的结果。\n"
      ]
    },
    {
      "cell_type": "markdown",
      "metadata": {},
      "source": [
        "For a continuous value, the expected value is:\n",
        "\n",
        "对于连续值，期望值是：\n",
        "\n",
        "$E[X] = \\int_{-\\infty}^\\infty x f(x) dx$\n",
        "\n",
        "where $f(x)$ is the probability density function of the random variable. Often this is much harder to compute. If the data comes from a known distribution, the equation for computing the expected value may have already been worked out. If not, another option is to just use the sample expected value for a very large sample, but do note that this is an approximation.\n",
        "\n",
        "其中 $f(x)$ 是随机变量的概率密度函数。通常这更难计算。如果数据来自已知分布，计算期望值的方程可能已经推导出来。如果没有，另一个选择是对非常大的样本使用样本期望值，但请注意这是一个近似值。\n"
      ]
    },
    {
      "cell_type": "markdown",
      "metadata": {},
      "source": [
        "#### Exercise\n",
        "\n",
        "#### 练习\n",
        "\n",
        "A continuous uniform distribution has a minimum value ($a$) and a maximum value ($b$), and has an equal chance of any value between $a$ and $b$ occurring.\n",
        "\n",
        "连续均匀分布有一个最小值（$a$）和一个最大值（$b$），并且在 $a$ 和 $b$ 之间的任何值出现的概率相等。\n",
        "\n",
        "1. Create a plot showing a continuous uniform distribution. We covered this distribution in Module 1.1.2.\n",
        "\n",
        "1. 创建一个显示连续均匀分布的图表。我们在模块 1.1.2 中介绍了这个分布。\n",
        "1. What is the Expected value for a continuous uniform distribution? Think about this intuitively first, and then solve more formally using the above equation for computing the expected value.\n",
        "\n",
        "1. 连续均匀分布的期望值是多少？首先从直观上思考，然后使用上述计算期望值的方程进行更正式的求解。\n"
      ]
    },
    {
      "cell_type": "code",
      "execution_count": 15,
      "metadata": {},
      "outputs": [
        {
          "name": "stdout",
          "output_type": "stream",
          "text": [
            "E[x] = (a + b) / 2\n"
          ]
        },
        {
          "data": {
            "image/png": "[encoded data removed]",
            "text/plain": [
              "<Figure size 640x480 with 1 Axes>"
            ]
          },
          "metadata": {},
          "output_type": "display_data"
        }
      ],
      "source": [
        "# 绘制均匀分布的概率密度函数\n",
        "a = 0  # 定义均匀分布的下界\n",
        "b = 20  # 定义均匀分布的上界\n",
        "x = np.linspace(a,b , 200)  # 在[a,b]区间内生成200个等间距的点\n",
        "y = [1/(b-a)] * 200  # 计算均匀分布的概率密度值(常数值1/(b-a))\n",
        "plt.plot(x, y)  # 绘制均匀分布的概率密度函数图\n",
        "\n",
        "# 打印均匀分布的期望值计算公式\n",
        "print(\"E[x] = (a + b) / 2\")"
      ]
    },
    {
      "cell_type": "markdown",
      "metadata": {},
      "source": [
        "*For solutions, see `solutions/uniform.py`*\n",
        "\n",
        "*有关解决方案，请参见 `solutions/uniform.py`*\n"
      ]
    },
    {
      "cell_type": "markdown",
      "metadata": {},
      "source": [
        "### Computing Covariance\n",
        "\n",
        "### 计算协方差\n",
        "\n",
        "The Covariance between two variables, $X$ and $Y$, is denoted as $cov(X,Y)$ and can be computed using the Expected Values of $X$ and $Y$.\n",
        "\n",
        "两个变量 $X$ 和 $Y$ 之间的协方差表示为 $cov(X,Y)$，并且可以使用 $X$ 和 $Y$ 的期望值来计算。\n",
        "\n",
        "$cov(X,Y) = E[(X-E[X])(Y-E[Y])]$\n",
        "\n",
        "This reduces to the form:\n",
        "\n",
        "这简化为以下形式：\n",
        "\n",
        "$cov(X,Y) = E[XY] - E[X]E[Y]$\n",
        "\n",
        "(To do the reduction, note that $E[E[X]] = E[X]$)\n",
        "\n",
        "In this form, it is easily computable. If you have sample data instead of the real underlying distribution, you can replace $E[X]$ with the value $\\bar{X}$, $E[Y]$ with value $\\bar{Y}$, and $E[XY]$ with the value $\\bar{XY}$. This obtains an estimate for the covariance.\n",
        "\n",
        "在这种形式下，它很容易计算。如果你有样本数据而不是真实的底层分布，你可以用 $\\bar{X}$ 替换 $E[X]$，用 $\\bar{Y}$ 替换 $E[Y]$，用 $\\bar{XY}$ 替换 $E[XY]$。这样就可以得到协方差的估计值。\n"
      ]
    },
    {
      "cell_type": "markdown",
      "metadata": {},
      "source": [
        "Using the NumPy library, we can compute (an estimate of) the covariance using the `np.cov` function:\n",
        "\n",
        "使用 NumPy 库，我们可以通过 `np.cov` 函数计算（估计的）协方差：\n"
      ]
    },
    {
      "cell_type": "code",
      "execution_count": 19,
      "metadata": {},
      "outputs": [
        {
          "data": {
            "text/plain": [
              "[<matplotlib.lines.Line2D at 0x155f87e9090>]"
            ]
          },
          "execution_count": 19,
          "metadata": {},
          "output_type": "execute_result"
        },
        {
          "data": {
            "image/png": "[encoded data removed]",
            "text/plain": [
              "<Figure size 640x480 with 1 Axes>"
            ]
          },
          "metadata": {},
          "output_type": "display_data"
        }
      ],
      "source": [
        "# 生成从-10到10的100个等间距数字作为X坐标\n",
        "X = np.linspace(-10, 10, 100)\n",
        "# 生成Y坐标:随机数加上从0到1的线性递增序列,使数据呈现上升趋势\n",
        "Y = np.random.random(100) + np.linspace(0, 1, 100)\n",
        "# 使用散点图绘制X和Y的关系\n",
        "plt.plot(X, Y, 'o')"
      ]
    },
    {
      "cell_type": "code",
      "execution_count": 20,
      "metadata": {},
      "outputs": [
        {
          "data": {
            "text/plain": [
              "array([[34.35023637,  1.57903687],\n",
              "       [ 1.57903687,  0.15457948]])"
            ]
          },
          "execution_count": 20,
          "metadata": {},
          "output_type": "execute_result"
        }
      ],
      "source": [
        "# 计算 X 和 Y 的协方差矩阵\n",
        "C = np.cov(X, Y)\n",
        "C"
      ]
    },
    {
      "cell_type": "markdown",
      "metadata": {},
      "source": [
        "Wait, that's not one value! That is a covariance matrix, which includes the variance values on the diagonal. In this case, `C[0][0]` is the same as `np.var(X)`, because $cov(X, X) = var(X)$ (and similarly for $Y$):\n",
        "\n",
        "等等，那不是一个值！那是一个协方差矩阵，它包含了对角线上的方差值。在这种情况下，`C[0][0]` 与 `np.var(X)` 相同，因为 $cov(X, X) = var(X)$（对于 $Y$ 也是如此）：\n"
      ]
    },
    {
      "cell_type": "code",
      "execution_count": 21,
      "metadata": {},
      "outputs": [
        {
          "data": {
            "text/plain": [
              "(34.00673400673401, 0.15303368026857941)"
            ]
          },
          "execution_count": 21,
          "metadata": {},
          "output_type": "execute_result"
        }
      ],
      "source": [
        "# 分别计算 X 和 Y 的方差\n",
        "\n",
        "np.var(X), np.var(Y)"
      ]
    },
    {
      "cell_type": "markdown",
      "metadata": {},
      "source": [
        "Further, we can see from the results that $cov(X,Y) = cov(Y, X)$. You can confirm this by swapping $X$ and $Y$ in the covariance equation above.\n",
        "\n",
        "此外，我们可以从结果中看出 $cov(X,Y) = cov(Y, X)$。你可以通过在上面的协方差方程中交换 $X$ 和 $Y$ 来确认这一点。\n"
      ]
    },
    {
      "cell_type": "markdown",
      "metadata": {},
      "source": [
        "#### Exercise\n",
        "\n",
        "#### 练习\n",
        "\n",
        "1. Create two sets of numbers that have a *negative correlation*\n",
        "\n",
        "1. 创建两组具有*负相关*的数字\n",
        "2. Create two sets of numbers that have approximately a *zero correlation*\n",
        "\n",
        "2. 创建两组具有近似*零相关性*的数字\n"
      ]
    },
    {
      "cell_type": "code",
      "execution_count": 22,
      "metadata": {},
      "outputs": [
        {
          "name": "stdout",
          "output_type": "stream",
          "text": [
            "-1.0\n",
            "-0.05307460221383235\n"
          ]
        }
      ],
      "source": [
        "# (1)\n",
        "# 生成100个随机数作为x值\n",
        "x = np.random.random(100)\n",
        "# y值为1减去x，创建完全负相关的数据\n",
        "y = 1 - x\n",
        "# 计算x和y之间的皮尔逊相关系数和p值\n",
        "correlation, p_value = stats.pearsonr(x, y)\n",
        "print(correlation)\n",
        "\n",
        "# (2)\n",
        "# 生成100个随机x值\n",
        "x = np.random.random(100) #+ np.linspace(0, 1, 100)\n",
        "# 生成100个随机y值，与x值完全无关\n",
        "y = np.random.random(100)\n",
        "\n",
        "# 计算两组随机数之间的皮尔逊相关系数和p值\n",
        "correlation, p_value = stats.pearsonr(x, y)\n",
        "print(correlation)"
      ]
    },
    {
      "cell_type": "markdown",
      "metadata": {},
      "source": [
        "*For solutions, see `solutions/correlations.py`*\n",
        "\n",
        "*有关解决方案，请参见 `solutions/correlations.py`*\n"
      ]
    },
    {
      "cell_type": "markdown",
      "metadata": {},
      "source": [
        "### Dimensionality Analysis\n",
        "\n",
        "### 维度分析\n",
        "\n",
        "In data, numbers are rarely in isolation - they normally have units associated with them. For instance, here are a bunch of heights and weights of 30 people:\n",
        "\n",
        "在数据中，数字很少是孤立的——它们通常与单位相关联。例如，以下是30个人的身高和体重：\n"
      ]
    },
    {
      "cell_type": "code",
      "execution_count": 23,
      "metadata": {},
      "outputs": [],
      "source": [
        "# 创建一个包含30个人身高数据(单位:厘米)的NumPy数组\n",
        "heights = np.array([178.64530591, 173.06618977, 155.22558268, 186.8983648 ,\n",
        "       149.16650972, 164.3049925 , 156.8397536 , 166.07190208,\n",
        "       174.11183283, 155.54411733, 152.61490567, 182.89611452,\n",
        "       145.79498225, 169.50606044, 157.94949789, 170.43628341,\n",
        "       175.95694371, 178.09153374, 178.51960883, 173.56347301,\n",
        "       158.79606688, 168.593175  , 159.88907252, 174.0085056 ,\n",
        "       172.05981633, 175.79140631, 165.6368616 , 191.2270476 ,\n",
        "       179.92045118, 153.1153195 ])"
      ]
    },
    {
      "cell_type": "code",
      "execution_count": 24,
      "metadata": {},
      "outputs": [],
      "source": [
        "# 创建一个包含30个人体重数据(单位:kg)的NumPy数组\n",
        "weights = np.array([ 88.39616195,  63.77670541,  82.1551606 , 102.81391498,\n",
        "        54.11862754,  73.19813772,  87.89767135,  77.42374335,\n",
        "        68.65163289,  81.00977302,  76.8384397 , 119.6155542 ,\n",
        "        92.78823634,  73.24696289,  72.12448243,  87.41055872,\n",
        "        88.22139197, 102.50923756,  83.48268745,  82.69144239,\n",
        "        72.76970268,  96.6186149 ,  81.97160878,  85.20213248,\n",
        "        95.62580765,  91.80510994,  67.09249674,  86.42500849,\n",
        "        83.76262709,  71.82791366])"
      ]
    },
    {
      "cell_type": "markdown",
      "metadata": {},
      "source": [
        "The covariance of these is strong (taller people tend to weigh more):\n",
        "\n",
        "这些变量的协方差很强（较高的人往往体重更重）：\n"
      ]
    },
    {
      "cell_type": "code",
      "execution_count": 25,
      "metadata": {},
      "outputs": [
        {
          "data": {
            "text/plain": [
              "73.26405232380192"
            ]
          },
          "execution_count": 25,
          "metadata": {},
          "output_type": "execute_result"
        }
      ],
      "source": [
        "# 计算身高和体重的协方差 - 返回协方差矩阵中的[0,1]元素,表示两个变量之间的协方差值\n",
        "np.cov(heights, weights)[0][1]"
      ]
    },
    {
      "cell_type": "markdown",
      "metadata": {},
      "source": [
        "That's a positive value, and we could compare this against a similar covariance, *only if the units match*. That is, our heights are in centimetres, and our weights are in kilograms, so our covariance has a **unit of cmkg**. We can only compare other covariances with the same unit.\n",
        "\n",
        "这是一个正值，我们可以将其与类似的协方差进行比较，*前提是单位匹配*。也就是说，我们的身高是以厘米为单位，体重是以千克为单位，因此我们的协方差具有**cmkg的单位**。我们只能比较具有相同单位的其他协方差。\n",
        "\n",
        "Further, the unit cmkg has little meaning to most people and therefore the actual value of the covariance is hard to reason about. For contrast, take the standard deviation of the heights:\n",
        "\n",
        "此外，单位 cmkg 对大多数人来说意义不大，因此协方差的实际值很难理解。相比之下，取高度的标准差：\n"
      ]
    },
    {
      "cell_type": "code",
      "execution_count": 26,
      "metadata": {},
      "outputs": [
        {
          "data": {
            "text/plain": [
              "11.384729794575746"
            ]
          },
          "execution_count": 26,
          "metadata": {},
          "output_type": "execute_result"
        }
      ],
      "source": [
        "# 计算身高数据的标准差（单位：厘米）\n",
        "np.std(heights)  # Remembering that np.var(heights) will be in cm squared!"
      ]
    },
    {
      "cell_type": "markdown",
      "metadata": {},
      "source": [
        "We can intuitively get an idea that lots of people will have heights \"about 11cm from the mean\", and one can easily picture that a good portion of the population lie within this 11cm radius around the mean, i.e. the boundary:\n",
        "\n",
        "我们可以直观地了解到，很多人会拥有“距离平均值约11厘米”的身高，并且可以很容易地想象到，很大一部分人口的身高都落在这个以平均值为中心的11厘米范围内，即边界：\n"
      ]
    },
    {
      "cell_type": "code",
      "execution_count": 27,
      "metadata": {},
      "outputs": [
        {
          "data": {
            "text/plain": [
              "(156.75665944575758, 179.52611903490907)"
            ]
          },
          "execution_count": 27,
          "metadata": {},
          "output_type": "execute_result"
        }
      ],
      "source": [
        "# 计算身高的均值减去标准差和均值加上标准差，这两个值构成了大约68%的数据分布区间\n",
        "(np.mean(heights) - np.std(heights)), (np.mean(heights) + np.std(heights))"
      ]
    },
    {
      "cell_type": "markdown",
      "metadata": {},
      "source": [
        "However, we can not get a similar intuitive grasp on what it means to have a covariance of 73.2 cmkg, and it might actually be misleading to try and relate that to other known concepts.\n",
        "\n",
        "然而，我们无法直观地理解协方差为73.2 cmkg意味着什么，试图将其与其他已知概念联系起来可能会产生误导。\n",
        "\n",
        "It is for this reason that we usually use the correlation, which addresses this dimensionality problem. We will investigate the correlation in the next module.\n",
        "\n",
        "正是出于这个原因，我们通常使用相关性来解决这个维度问题。我们将在下一个模块中探讨相关性。\n"
      ]
    }
  ],
  "metadata": {
    "kernelspec": {
      "display_name": "Python 3",
      "language": "python",
      "name": "python3"
    },
    "language_info": {
      "codemirror_mode": {
        "name": "ipython",
        "version": 3
      },
      "file_extension": ".py",
      "mimetype": "text/x-python",
      "name": "python",
      "nbconvert_exporter": "python",
      "pygments_lexer": "ipython3",
      "version": "3.11.0"
    }
  },
  "nbformat": 4,
  "nbformat_minor": 2
}
