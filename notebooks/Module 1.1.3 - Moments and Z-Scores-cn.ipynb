{
  "cells": [
    {
      "cell_type": "markdown",
      "metadata": {},
      "source": [
        "# Introduction to Quantitative Finance\n",
        "\n",
        "Copyright (c) 2019 Python Charmers Pty Ltd, Australia, <https://pythoncharmers.com>. All rights reserved.\n",
        "\n",
        "<img src=\"img/python_charmers_logo.png\" width=\"300\" alt=\"Python Charmers Logo\">\n",
        "\n",
        "Published under the Creative Commons Attribution-NonCommercial 4.0 International (CC BY-NC 4.0) license. See `LICENSE.md` for details.\n",
        "\n",
        "Sponsored by Tibra Global Services, <https://tibra.com>\n",
        "\n",
        "<img src=\"img/tibra_logo.png\" width=\"300\" alt=\"Tibra Logo\">\n",
        "\n",
        "\n",
        "## Module 1.1: Distributions and Random Processes\n",
        "\n",
        "### 1.1.3: Moments\n",
        "\n",
        "Moments describe distributions. We'll focus on the normal (and normal-ish) distributions for now, but will look at other distributions later.\n",
        "\n",
        "<text>\n",
        "矩描述了分布。我们目前将专注于正态（或近似正态）分布，但稍后会研究其他分布。\n",
        "</text>\n",
        "\n",
        "A normal distribution is fully described by the first two moments, which are the mean and the variance. Reviewing the help for the `stats.norm` function, we can see these are the only two parameters we can input (see the docstring of the function)."
      ]
    },
    {
      "cell_type": "code",
      "execution_count": 21,
      "metadata": {},
      "outputs": [],
      "source": [
        "# 运行初始化脚本setup.ipy\n",
        "%run setup.ipy"
      ]
    },
    {
      "cell_type": "markdown",
      "metadata": {},
      "source": [
        "<div class=\"alert alert-success\">\n",
        "    Note: it's worth opening up setup.ipy and seeing what's in there. This file will be run at the start of most of our notebooks.\n",
        "</div>"
      ]
    },
    {
      "cell_type": "code",
      "execution_count": 22,
      "metadata": {},
      "outputs": [
        {
          "name": "stdout",
          "output_type": "stream",
          "text": [
            "\u001b[0;31mSignature:\u001b[0m       \u001b[0mstats\u001b[0m\u001b[0;34m.\u001b[0m\u001b[0mnorm\u001b[0m\u001b[0;34m(\u001b[0m\u001b[0;34m*\u001b[0m\u001b[0margs\u001b[0m\u001b[0;34m,\u001b[0m \u001b[0;34m**\u001b[0m\u001b[0mkwds\u001b[0m\u001b[0;34m)\u001b[0m\u001b[0;34m\u001b[0m\u001b[0;34m\u001b[0m\u001b[0m\n",
            "\u001b[0;31mType:\u001b[0m            norm_gen\n",
            "\u001b[0;31mString form:\u001b[0m     <scipy.stats._continuous_distns.norm_gen object at 0x7f47f6bc4e60>\n",
            "\u001b[0;31mFile:\u001b[0m            ~/miniconda3/envs/quant_finance/lib/python3.12/site-packages/scipy/stats/_continuous_distns.py\n",
            "\u001b[0;31mDocstring:\u001b[0m      \n",
            "A normal continuous random variable.\n",
            "\n",
            "The location (``loc``) keyword specifies the mean.\n",
            "The scale (``scale``) keyword specifies the standard deviation.\n",
            "\n",
            "As an instance of the `rv_continuous` class, `norm` object inherits from it\n",
            "a collection of generic methods (see below for the full list),\n",
            "and completes them with details specific for this particular distribution.\n",
            "\n",
            "Methods\n",
            "-------\n",
            "rvs(loc=0, scale=1, size=1, random_state=None)\n",
            "    Random variates.\n",
            "pdf(x, loc=0, scale=1)\n",
            "    Probability density function.\n",
            "logpdf(x, loc=0, scale=1)\n",
            "    Log of the probability density function.\n",
            "cdf(x, loc=0, scale=1)\n",
            "    Cumulative distribution function.\n",
            "logcdf(x, loc=0, scale=1)\n",
            "    Log of the cumulative distribution function.\n",
            "sf(x, loc=0, scale=1)\n",
            "    Survival function  (also defined as ``1 - cdf``, but `sf` is sometimes more accurate).\n",
            "logsf(x, loc=0, scale=1)\n",
            "    Log of the survival function.\n",
            "ppf(q, loc=0, scale=1)\n",
            "    Percent point function (inverse of ``cdf`` --- percentiles).\n",
            "isf(q, loc=0, scale=1)\n",
            "    Inverse survival function (inverse of ``sf``).\n",
            "moment(order, loc=0, scale=1)\n",
            "    Non-central moment of the specified order.\n",
            "stats(loc=0, scale=1, moments='mv')\n",
            "    Mean('m'), variance('v'), skew('s'), and/or kurtosis('k').\n",
            "entropy(loc=0, scale=1)\n",
            "    (Differential) entropy of the RV.\n",
            "fit(data)\n",
            "    Parameter estimates for generic data.\n",
            "    See `scipy.stats.rv_continuous.fit <https://docs.scipy.org/doc/scipy/reference/generated/scipy.stats.rv_continuous.fit.html#scipy.stats.rv_continuous.fit>`__ for detailed documentation of the\n",
            "    keyword arguments.\n",
            "expect(func, args=(), loc=0, scale=1, lb=None, ub=None, conditional=False, **kwds)\n",
            "    Expected value of a function (of one argument) with respect to the distribution.\n",
            "median(loc=0, scale=1)\n",
            "    Median of the distribution.\n",
            "mean(loc=0, scale=1)\n",
            "    Mean of the distribution.\n",
            "var(loc=0, scale=1)\n",
            "    Variance of the distribution.\n",
            "std(loc=0, scale=1)\n",
            "    Standard deviation of the distribution.\n",
            "interval(confidence, loc=0, scale=1)\n",
            "    Confidence interval with equal areas around the median.\n",
            "\n",
            "Notes\n",
            "-----\n",
            "The probability density function for `norm` is:\n",
            "\n",
            ".. math::\n",
            "\n",
            "    f(x) = \\frac{\\exp(-x^2/2)}{\\sqrt{2\\pi}}\n",
            "\n",
            "for a real number :math:`x`.\n",
            "\n",
            "The probability density above is defined in the \"standardized\" form. To shift\n",
            "and/or scale the distribution use the ``loc`` and ``scale`` parameters.\n",
            "Specifically, ``norm.pdf(x, loc, scale)`` is identically\n",
            "equivalent to ``norm.pdf(y) / scale`` with\n",
            "``y = (x - loc) / scale``. Note that shifting the location of a distribution\n",
            "does not make it a \"noncentral\" distribution; noncentral generalizations of\n",
            "some distributions are available in separate classes.\n",
            "\n",
            "Examples\n",
            "--------\n",
            ">>> import numpy as np\n",
            ">>> from scipy.stats import norm\n",
            ">>> import matplotlib.pyplot as plt\n",
            ">>> fig, ax = plt.subplots(1, 1)\n",
            "\n",
            "Calculate the first four moments:\n",
            "\n",
            "\n",
            ">>> mean, var, skew, kurt = norm.stats(moments='mvsk')\n",
            "\n",
            "Display the probability density function (``pdf``):\n",
            "\n",
            ">>> x = np.linspace(norm.ppf(0.01),\n",
            "...                 norm.ppf(0.99), 100)\n",
            ">>> ax.plot(x, norm.pdf(x),\n",
            "...        'r-', lw=5, alpha=0.6, label='norm pdf')\n",
            "\n",
            "Alternatively, the distribution object can be called (as a function)\n",
            "to fix the shape, location and scale parameters. This returns a \"frozen\"\n",
            "RV object holding the given parameters fixed.\n",
            "\n",
            "Freeze the distribution and display the frozen ``pdf``:\n",
            "\n",
            ">>> rv = norm()\n",
            ">>> ax.plot(x, rv.pdf(x), 'k-', lw=2, label='frozen pdf')\n",
            "\n",
            "Check accuracy of ``cdf`` and ``ppf``:\n",
            "\n",
            ">>> vals = norm.ppf([0.001, 0.5, 0.999])\n",
            ">>> np.allclose([0.001, 0.5, 0.999], norm.cdf(vals))\n",
            "True\n",
            "\n",
            "Generate random numbers:\n",
            "\n",
            ">>> r = norm.rvs(size=1000)\n",
            "\n",
            "And compare the histogram:\n",
            "\n",
            ">>> ax.hist(r, density=True, bins='auto', histtype='stepfilled', alpha=0.2)\n",
            ">>> ax.set_xlim([x[0], x[-1]])\n",
            ">>> ax.legend(loc='best', frameon=False)\n",
            ">>> plt.show()\n",
            "\u001b[0;31mClass docstring:\u001b[0m\n",
            "A normal continuous random variable.\n",
            "\n",
            "The location (``loc``) keyword specifies the mean.\n",
            "The scale (``scale``) keyword specifies the standard deviation.\n",
            "\n",
            "%(before_notes)s\n",
            "\n",
            "Notes\n",
            "-----\n",
            "The probability density function for `norm` is:\n",
            "\n",
            ".. math::\n",
            "\n",
            "    f(x) = \\frac{\\exp(-x^2/2)}{\\sqrt{2\\pi}}\n",
            "\n",
            "for a real number :math:`x`.\n",
            "\n",
            "%(after_notes)s\n",
            "\n",
            "%(example)s\n",
            "\u001b[0;31mCall docstring:\u001b[0m \n",
            "Freeze the distribution for the given arguments.\n",
            "\n",
            "Parameters\n",
            "----------\n",
            "arg1, arg2, arg3,... : array_like\n",
            "    The shape parameter(s) for the distribution.  Should include all\n",
            "    the non-optional arguments, may include ``loc`` and ``scale``.\n",
            "\n",
            "Returns\n",
            "-------\n",
            "rv_frozen : rv_frozen instance\n",
            "    The frozen distribution."
          ]
        }
      ],
      "source": [
        "# 查看 scipy.stats.norm 函数的帮助文档\n",
        "\n",
        "stats.norm?"
      ]
    },
    {
      "cell_type": "markdown",
      "metadata": {},
      "source": [
        "As noted in that description, the first moment, the mean, is referred to as the location. It specifies where the normal distribution is centred.\n",
        "\n",
        "<text>\n",
        "正如该描述中所指出的，第一矩，即均值，被称为位置。它指定了正态分布的中心位置。\n",
        "</text>\n"
      ]
    },
    {
      "cell_type": "code",
      "execution_count": 58,
      "metadata": {},
      "outputs": [
        {
          "data": {
            "text/html": [
              "\n",
              "<style>\n",
              "  #altair-viz-bdc07628a552421c892a3d12e93c9c70.vega-embed {\n",
              "    width: 100%;\n",
              "    display: flex;\n",
              "  }\n",
              "\n",
              "  #altair-viz-bdc07628a552421c892a3d12e93c9c70.vega-embed details,\n",
              "  #altair-viz-bdc07628a552421c892a3d12e93c9c70.vega-embed details summary {\n",
              "    position: relative;\n",
              "  }\n",
              "</style>\n",
              "<div id=\"altair-viz-bdc07628a552421c892a3d12e93c9c70\"></div>\n",
              "<script type=\"text/javascript\">\n",
              "  var VEGA_DEBUG = (typeof VEGA_DEBUG == \"undefined\") ? {} : VEGA_DEBUG;\n",
              "  (function(spec, embedOpt){\n",
              "    let outputDiv = document.currentScript.previousElementSibling;\n",
              "    if (outputDiv.id !== \"altair-viz-bdc07628a552421c892a3d12e93c9c70\") {\n",
              "      outputDiv = document.getElementById(\"altair-viz-bdc07628a552421c892a3d12e93c9c70\");\n",
              "    }\n",
              "\n",
              "    const paths = {\n",
              "      \"vega\": \"https://cdn.jsdelivr.net/npm/vega@5?noext\",\n",
              "      \"vega-lib\": \"https://cdn.jsdelivr.net/npm/vega-lib?noext\",\n",
              "      \"vega-lite\": \"https://cdn.jsdelivr.net/npm/vega-lite@5.20.1?noext\",\n",
              "      \"vega-embed\": \"https://cdn.jsdelivr.net/npm/vega-embed@6?noext\",\n",
              "    };\n",
              "\n",
              "    function maybeLoadScript(lib, version) {\n",
              "      var key = `${lib.replace(\"-\", \"\")}_version`;\n",
              "      return (VEGA_DEBUG[key] == version) ?\n",
              "        Promise.resolve(paths[lib]) :\n",
              "        new Promise(function(resolve, reject) {\n",
              "          var s = document.createElement('script');\n",
              "          document.getElementsByTagName(\"head\")[0].appendChild(s);\n",
              "          s.async = true;\n",
              "          s.onload = () => {\n",
              "            VEGA_DEBUG[key] = version;\n",
              "            return resolve(paths[lib]);\n",
              "          };\n",
              "          s.onerror = () => reject(`Error loading script: ${paths[lib]}`);\n",
              "          s.src = paths[lib];\n",
              "        });\n",
              "    }\n",
              "\n",
              "    function showError(err) {\n",
              "      outputDiv.innerHTML = `<div class=\"error\" style=\"color:red;\">${err}</div>`;\n",
              "      throw err;\n",
              "    }\n",
              "\n",
              "    function displayChart(vegaEmbed) {\n",
              "      vegaEmbed(outputDiv, spec, embedOpt)\n",
              "        .catch(err => showError(`Javascript Error: ${err.message}<br>This usually means there's a typo in your chart specification. See the javascript console for the full traceback.`));\n",
              "    }\n",
              "\n",
              "    if(typeof define === \"function\" && define.amd) {\n",
              "      requirejs.config({paths});\n",
              "      let deps = [\"vega-embed\"];\n",
              "      require(deps, displayChart, err => showError(`Error loading script: ${err.message}`));\n",
              "    } else {\n",
              "      maybeLoadScript(\"vega\", \"5\")\n",
              "        .then(() => maybeLoadScript(\"vega-lite\", \"5.20.1\"))\n",
              "        .then(() => maybeLoadScript(\"vega-embed\", \"6\"))\n",
              "        .catch(showError)\n",
              "        .then(() => displayChart(vegaEmbed));\n",
              "    }\n",
              "  })({\"config\": {\"view\": {\"continuousWidth\": 300, \"continuousHeight\": 300}}, \"layer\": [{\"data\": {\"url\": \"altair-temp-data/-480ff1c2b0b62babe58bc92577a7ea98.json\", \"format\": {\"type\": \"json\"}}, \"mark\": {\"type\": \"bar\"}, \"encoding\": {\"color\": {\"value\": \"red\"}, \"x\": {\"bin\": {\"maxbins\": 100}, \"field\": \"value\", \"type\": \"quantitative\"}, \"y\": {\"aggregate\": \"count\", \"type\": \"quantitative\"}}}, {\"data\": {\"url\": \"altair-temp-data/-7b733203f487fda2ba6d33f6423e9177.json\", \"format\": {\"type\": \"json\"}}, \"mark\": {\"type\": \"bar\"}, \"encoding\": {\"color\": {\"value\": \"blue\"}, \"x\": {\"bin\": {\"maxbins\": 100}, \"field\": \"value\", \"type\": \"quantitative\"}, \"y\": {\"aggregate\": \"count\", \"type\": \"quantitative\"}}}], \"$schema\": \"https://vega.github.io/schema/vega-lite/v5.20.1.json\"}, {\"mode\": \"vega-lite\"});\n",
              "</script>"
            ],
            "text/plain": [
              "alt.LayerChart(...)"
            ]
          },
          "execution_count": 58,
          "metadata": {},
          "output_type": "execute_result"
        }
      ],
      "source": [
        "# 定义一个函数，用于绘制正态分布的直方图\n",
        "def plot_histogram_normal(mean, standard_deviation, color):\n",
        "    # 创建一个正态分布对象，使用指定的均值和标准差\n",
        "    distribution = stats.norm(mean, standard_deviation)\n",
        "    # 从该分布中随机生成10000个样本，并转换为DataFrame格式\n",
        "    normal_values = pd.DataFrame({\"value\": distribution.rvs(10000)})\n",
        "\n",
        "    # 使用Altair创建直方图\n",
        "    chart = alt.Chart(normal_values).mark_bar().encode(\n",
        "        # X轴设置为数值，并将数据分成最多100个箱\n",
        "        alt.X(\"value\", bin=alt.Bin(maxbins=100)),\n",
        "        # Y轴显示每个箱的计数\n",
        "        y='count()',\n",
        "        # 设置直方图的颜色\n",
        "        color=alt.value(color)\n",
        "    )\n",
        "    return chart\n",
        "\n",
        "# 创建两个不同参数的正态分布直方图\n",
        "# 第一个直方图：均值为0，标准差为1，红色\n",
        "chart_1 = plot_histogram_normal(0, 1, \"red\")\n",
        "# 第二个直方图：均值为3，标准差为1，蓝色\n",
        "chart_2 = plot_histogram_normal(3, 5, \"blue\")\n",
        "# 将两个直方图叠加显示\n",
        "chart_1 + chart_2"
      ]
    },
    {
      "cell_type": "markdown",
      "metadata": {},
      "source": [
        "The mean is the expected value of the distribution. Given all other things equal, if we chose *n* values randomly from this distribution, the average value (mean) would be equal to the mean of the distribution. This might seem like circular knowledge, but note the values are computed in different ways:\n",
        "\n",
        "<text>\n",
        "均值是分布的期望值。在其他条件相同的情况下，如果我们从该分布中随机选择 *n* 个值，平均值（均值）将等于分布的均值。这看起来像是循环知识，但请注意这些值是以不同的方式计算的：\n",
        "</text>\n"
      ]
    },
    {
      "cell_type": "code",
      "execution_count": 24,
      "metadata": {},
      "outputs": [],
      "source": [
        "# 设置实际均值为57\n",
        "actual_mean = 57\n",
        "# 设置标准差为0到10之间的随机数\n",
        "standard_deviation = random.random() * 10\n",
        "# 设置试验次数为100000\n",
        "N_TRIALS = 100000\n",
        "\n",
        "# 创建一个均值为actual_mean，标准差为standard_deviation的正态分布\n",
        "distribution = stats.norm(actual_mean, standard_deviation)\n",
        "# 从该分布中随机采样N_TRIALS个值\n",
        "normal_values = distribution.rvs(N_TRIALS)"
      ]
    },
    {
      "cell_type": "code",
      "execution_count": null,
      "metadata": {},
      "outputs": [],
      "source": []
    },
    {
      "cell_type": "code",
      "execution_count": 25,
      "metadata": {},
      "outputs": [
        {
          "name": "stdout",
          "output_type": "stream",
          "text": [
            "The actual mean was 57, while the computed mean was 57.016\n",
            "This gives an error of 0.016\n"
          ]
        }
      ],
      "source": [
        "# 计算样本均值与实际均值之间的误差\n",
        "error = np.mean(normal_values) - actual_mean\n",
        "# 打印实际均值和计算得到的样本均值\n",
        "print(\"The actual mean was {actual_mean}, while the computed mean was {computed_mean:.3f}\".format(\n",
        "    actual_mean=actual_mean, computed_mean=np.mean(normal_values)))\n",
        "# 打印误差值\n",
        "print(\"This gives an error of {error:.3f}\".format(error=error))"
      ]
    },
    {
      "cell_type": "markdown",
      "metadata": {},
      "source": [
        "Note that the mean is not the median, although in a normal distribution, they are usually about the same (and theoretically they are the same value). The median is not a \"moment\"."
      ]
    },
    {
      "cell_type": "code",
      "execution_count": 26,
      "metadata": {},
      "outputs": [],
      "source": [
        "# 计算从正态分布中抽样的数据的中位数"
      ]
    },
    {
      "cell_type": "markdown",
      "metadata": {},
      "source": [
        "The second moment of a normal distribution is the variance, also known as the scale factor of the distribution. It is the expected value of the squared difference between a random value and the mean:\n",
        "\n",
        "<text>\n",
        "正态分布的二阶矩是方差，也称为分布的尺度因子。它是随机值与均值之间平方差的期望值：\n",
        "</text>\n",
        "\n",
        "$V=\\frac{1}{n}\\sum^n_{i=0}(X_i-\\mu)^2$\n",
        "\n",
        "Note that the square in the result makes the unit squared as well. For instance, if our measurements were in metres $m$, the variance would be in metres squared, $m^2$. As a result, it's not directly comparable to the initial value. For instance:"
      ]
    },
    {
      "cell_type": "code",
      "execution_count": 27,
      "metadata": {},
      "outputs": [
        {
          "data": {
            "text/plain": [
              "79.28029656705743"
            ]
          },
          "execution_count": 27,
          "metadata": {},
          "output_type": "execute_result"
        }
      ],
      "source": [
        "# 计算正态分布样本的方差\n",
        "V = np.var(normal_values)\n",
        "# 打印方差值\n",
        "V"
      ]
    },
    {
      "cell_type": "markdown",
      "metadata": {},
      "source": [
        "We can not directly compare this to our original units, i.e. we can not say the variance is \"about 0.5% of the mean\".\n",
        "Such a statment is meaningless as the units are different. \n",
        "For that reason, we usually use the square root of the variance, known as the standard deviation, which is in the same units as X, and is therefore comparable in such a way:\n",
        "\n",
        "<text>\n",
        "出于这个原因，我们通常使用方差的平方根，即标准差，它与 X 的单位相同，因此可以以这种方式进行比较：\n",
        "</text>\n",
        "\n",
        "$V=\\sigma^2=\\frac{1}{n}\\sum^n_{i=0}(X_i-\\mu)^2$"
      ]
    },
    {
      "cell_type": "markdown",
      "metadata": {},
      "source": [
        "It is this \"standard deviation\" that is the second input into our `stats.norm` function:"
      ]
    },
    {
      "cell_type": "code",
      "execution_count": 28,
      "metadata": {},
      "outputs": [
        {
          "data": {
            "text/html": [
              "\n",
              "<style>\n",
              "  #altair-viz-c84e30746f174dd4b584fed1963dd4f4.vega-embed {\n",
              "    width: 100%;\n",
              "    display: flex;\n",
              "  }\n",
              "\n",
              "  #altair-viz-c84e30746f174dd4b584fed1963dd4f4.vega-embed details,\n",
              "  #altair-viz-c84e30746f174dd4b584fed1963dd4f4.vega-embed details summary {\n",
              "    position: relative;\n",
              "  }\n",
              "</style>\n",
              "<div id=\"altair-viz-c84e30746f174dd4b584fed1963dd4f4\"></div>\n",
              "<script type=\"text/javascript\">\n",
              "  var VEGA_DEBUG = (typeof VEGA_DEBUG == \"undefined\") ? {} : VEGA_DEBUG;\n",
              "  (function(spec, embedOpt){\n",
              "    let outputDiv = document.currentScript.previousElementSibling;\n",
              "    if (outputDiv.id !== \"altair-viz-c84e30746f174dd4b584fed1963dd4f4\") {\n",
              "      outputDiv = document.getElementById(\"altair-viz-c84e30746f174dd4b584fed1963dd4f4\");\n",
              "    }\n",
              "\n",
              "    const paths = {\n",
              "      \"vega\": \"https://cdn.jsdelivr.net/npm/vega@5?noext\",\n",
              "      \"vega-lib\": \"https://cdn.jsdelivr.net/npm/vega-lib?noext\",\n",
              "      \"vega-lite\": \"https://cdn.jsdelivr.net/npm/vega-lite@5.20.1?noext\",\n",
              "      \"vega-embed\": \"https://cdn.jsdelivr.net/npm/vega-embed@6?noext\",\n",
              "    };\n",
              "\n",
              "    function maybeLoadScript(lib, version) {\n",
              "      var key = `${lib.replace(\"-\", \"\")}_version`;\n",
              "      return (VEGA_DEBUG[key] == version) ?\n",
              "        Promise.resolve(paths[lib]) :\n",
              "        new Promise(function(resolve, reject) {\n",
              "          var s = document.createElement('script');\n",
              "          document.getElementsByTagName(\"head\")[0].appendChild(s);\n",
              "          s.async = true;\n",
              "          s.onload = () => {\n",
              "            VEGA_DEBUG[key] = version;\n",
              "            return resolve(paths[lib]);\n",
              "          };\n",
              "          s.onerror = () => reject(`Error loading script: ${paths[lib]}`);\n",
              "          s.src = paths[lib];\n",
              "        });\n",
              "    }\n",
              "\n",
              "    function showError(err) {\n",
              "      outputDiv.innerHTML = `<div class=\"error\" style=\"color:red;\">${err}</div>`;\n",
              "      throw err;\n",
              "    }\n",
              "\n",
              "    function displayChart(vegaEmbed) {\n",
              "      vegaEmbed(outputDiv, spec, embedOpt)\n",
              "        .catch(err => showError(`Javascript Error: ${err.message}<br>This usually means there's a typo in your chart specification. See the javascript console for the full traceback.`));\n",
              "    }\n",
              "\n",
              "    if(typeof define === \"function\" && define.amd) {\n",
              "      requirejs.config({paths});\n",
              "      let deps = [\"vega-embed\"];\n",
              "      require(deps, displayChart, err => showError(`Error loading script: ${err.message}`));\n",
              "    } else {\n",
              "      maybeLoadScript(\"vega\", \"5\")\n",
              "        .then(() => maybeLoadScript(\"vega-lite\", \"5.20.1\"))\n",
              "        .then(() => maybeLoadScript(\"vega-embed\", \"6\"))\n",
              "        .catch(showError)\n",
              "        .then(() => displayChart(vegaEmbed));\n",
              "    }\n",
              "  })({\"config\": {\"view\": {\"continuousWidth\": 300, \"continuousHeight\": 300}}, \"layer\": [{\"data\": {\"url\": \"altair-temp-data/-f7b51c98bf7f3e74888bf8b480a63556.json\", \"format\": {\"type\": \"json\"}}, \"mark\": {\"type\": \"bar\"}, \"encoding\": {\"color\": {\"value\": \"green\"}, \"x\": {\"bin\": {\"maxbins\": 100}, \"field\": \"value\", \"type\": \"quantitative\"}, \"y\": {\"aggregate\": \"count\", \"type\": \"quantitative\"}}}, {\"data\": {\"url\": \"altair-temp-data/-5e67739d4133f36eedab4b575963a9bb.json\", \"format\": {\"type\": \"json\"}}, \"mark\": {\"type\": \"bar\"}, \"encoding\": {\"color\": {\"value\": \"orange\"}, \"x\": {\"bin\": {\"maxbins\": 100}, \"field\": \"value\", \"type\": \"quantitative\"}, \"y\": {\"aggregate\": \"count\", \"type\": \"quantitative\"}}}], \"$schema\": \"https://vega.github.io/schema/vega-lite/v5.20.1.json\"}, {\"mode\": \"vega-lite\"});\n",
              "</script>"
            ],
            "text/plain": [
              "alt.LayerChart(...)"
            ]
          },
          "execution_count": 28,
          "metadata": {},
          "output_type": "execute_result"
        }
      ],
      "source": [
        "# 创建两个正态分布直方图并叠加显示\n",
        "chart_3 = plot_histogram_normal(0, 1, \"green\")  # 创建均值为0、标准差为1的绿色正态分布直方图\n",
        "chart_4 = plot_histogram_normal(6, 2, \"orange\")  # 创建均值为6、标准差为2的橙色正态分布直方图\n",
        "chart_3 + chart_4  # 将两个直方图叠加显示在同一个图表中"
      ]
    },
    {
      "cell_type": "markdown",
      "metadata": {},
      "source": [
        "The larger standard deviation makes the distribution more spread out, but it is the same shape, simply \"scaled\"."
      ]
    },
    {
      "cell_type": "markdown",
      "metadata": {},
      "source": [
        "### Further Moments\n",
        "\n",
        "There are two further moments in common use. The third sequentially is called the skew.\n",
        "It can be visualised as \"pulling\" the distribution to the left (negative skew) or right (positive skew).\n",
        "\n",
        "A normal distribution is symmetrical, and has a skew of 0. This is why it does not appear in the equation or function calls to generate the normal distribution.\n",
        "\n",
        "The fourth standardised moment is the kurtosis, more commonly seen in financial data than in many other datasets. A higher value indicates \"fatter tails\" than a standard normal distribution. The kurtosis value of a normal distribution is always 3 - we consider this our baseline when interpreting the kurtosis value of other distributions."
      ]
    },
    {
      "cell_type": "code",
      "execution_count": 79,
      "metadata": {},
      "outputs": [
        {
          "data": {
            "text/plain": [
              "<scipy.stats._distn_infrastructure.rv_continuous_frozen at 0x7f47f2f4ba10>"
            ]
          },
          "execution_count": 79,
          "metadata": {},
          "output_type": "execute_result"
        }
      ],
      "source": [
        "# 使用skewnorm函数创建一个偏度为4的偏态正态分布对象\n",
        "\n",
        "stats.skewnorm(4)"
      ]
    },
    {
      "cell_type": "code",
      "execution_count": 80,
      "metadata": {},
      "outputs": [
        {
          "name": "stdout",
          "output_type": "stream",
          "text": [
            "\u001b[0;31mSignature:\u001b[0m       \u001b[0mstats\u001b[0m\u001b[0;34m.\u001b[0m\u001b[0mskewnorm\u001b[0m\u001b[0;34m(\u001b[0m\u001b[0;34m*\u001b[0m\u001b[0margs\u001b[0m\u001b[0;34m,\u001b[0m \u001b[0;34m**\u001b[0m\u001b[0mkwds\u001b[0m\u001b[0;34m)\u001b[0m\u001b[0;34m\u001b[0m\u001b[0;34m\u001b[0m\u001b[0m\n",
            "\u001b[0;31mType:\u001b[0m            skewnorm_gen\n",
            "\u001b[0;31mString form:\u001b[0m     <scipy.stats._continuous_distns.skewnorm_gen object at 0x7f47f4ff9430>\n",
            "\u001b[0;31mFile:\u001b[0m            ~/miniconda3/envs/quant_finance/lib/python3.12/site-packages/scipy/stats/_continuous_distns.py\n",
            "\u001b[0;31mDocstring:\u001b[0m      \n",
            "A skew-normal random variable.\n",
            "\n",
            "As an instance of the `rv_continuous` class, `skewnorm` object inherits from it\n",
            "a collection of generic methods (see below for the full list),\n",
            "and completes them with details specific for this particular distribution.\n",
            "\n",
            "Methods\n",
            "-------\n",
            "rvs(a, loc=0, scale=1, size=1, random_state=None)\n",
            "    Random variates.\n",
            "pdf(x, a, loc=0, scale=1)\n",
            "    Probability density function.\n",
            "logpdf(x, a, loc=0, scale=1)\n",
            "    Log of the probability density function.\n",
            "cdf(x, a, loc=0, scale=1)\n",
            "    Cumulative distribution function.\n",
            "logcdf(x, a, loc=0, scale=1)\n",
            "    Log of the cumulative distribution function.\n",
            "sf(x, a, loc=0, scale=1)\n",
            "    Survival function  (also defined as ``1 - cdf``, but `sf` is sometimes more accurate).\n",
            "logsf(x, a, loc=0, scale=1)\n",
            "    Log of the survival function.\n",
            "ppf(q, a, loc=0, scale=1)\n",
            "    Percent point function (inverse of ``cdf`` --- percentiles).\n",
            "isf(q, a, loc=0, scale=1)\n",
            "    Inverse survival function (inverse of ``sf``).\n",
            "moment(order, a, loc=0, scale=1)\n",
            "    Non-central moment of the specified order.\n",
            "stats(a, loc=0, scale=1, moments='mv')\n",
            "    Mean('m'), variance('v'), skew('s'), and/or kurtosis('k').\n",
            "entropy(a, loc=0, scale=1)\n",
            "    (Differential) entropy of the RV.\n",
            "fit(data)\n",
            "    Parameter estimates for generic data.\n",
            "    See `scipy.stats.rv_continuous.fit <https://docs.scipy.org/doc/scipy/reference/generated/scipy.stats.rv_continuous.fit.html#scipy.stats.rv_continuous.fit>`__ for detailed documentation of the\n",
            "    keyword arguments.\n",
            "expect(func, args=(a,), loc=0, scale=1, lb=None, ub=None, conditional=False, **kwds)\n",
            "    Expected value of a function (of one argument) with respect to the distribution.\n",
            "median(a, loc=0, scale=1)\n",
            "    Median of the distribution.\n",
            "mean(a, loc=0, scale=1)\n",
            "    Mean of the distribution.\n",
            "var(a, loc=0, scale=1)\n",
            "    Variance of the distribution.\n",
            "std(a, loc=0, scale=1)\n",
            "    Standard deviation of the distribution.\n",
            "interval(confidence, a, loc=0, scale=1)\n",
            "    Confidence interval with equal areas around the median.\n",
            "\n",
            "Notes\n",
            "-----\n",
            "The pdf is::\n",
            "\n",
            "    skewnorm.pdf(x, a) = 2 * norm.pdf(x) * norm.cdf(a*x)\n",
            "\n",
            "`skewnorm` takes a real number :math:`a` as a skewness parameter\n",
            "When ``a = 0`` the distribution is identical to a normal distribution\n",
            "(`norm`). `rvs` implements the method of [1]_.\n",
            "\n",
            "The probability density above is defined in the \"standardized\" form. To shift\n",
            "and/or scale the distribution use the ``loc`` and ``scale`` parameters.\n",
            "Specifically, ``skewnorm.pdf(x, a, loc, scale)`` is identically\n",
            "equivalent to ``skewnorm.pdf(y, a) / scale`` with\n",
            "``y = (x - loc) / scale``. Note that shifting the location of a distribution\n",
            "does not make it a \"noncentral\" distribution; noncentral generalizations of\n",
            "some distributions are available in separate classes.\n",
            "\n",
            "Examples\n",
            "--------\n",
            ">>> import numpy as np\n",
            ">>> from scipy.stats import skewnorm\n",
            ">>> import matplotlib.pyplot as plt\n",
            ">>> fig, ax = plt.subplots(1, 1)\n",
            "\n",
            "Calculate the first four moments:\n",
            "\n",
            ">>> a = 4\n",
            ">>> mean, var, skew, kurt = skewnorm.stats(a, moments='mvsk')\n",
            "\n",
            "Display the probability density function (``pdf``):\n",
            "\n",
            ">>> x = np.linspace(skewnorm.ppf(0.01, a),\n",
            "...                 skewnorm.ppf(0.99, a), 100)\n",
            ">>> ax.plot(x, skewnorm.pdf(x, a),\n",
            "...        'r-', lw=5, alpha=0.6, label='skewnorm pdf')\n",
            "\n",
            "Alternatively, the distribution object can be called (as a function)\n",
            "to fix the shape, location and scale parameters. This returns a \"frozen\"\n",
            "RV object holding the given parameters fixed.\n",
            "\n",
            "Freeze the distribution and display the frozen ``pdf``:\n",
            "\n",
            ">>> rv = skewnorm(a)\n",
            ">>> ax.plot(x, rv.pdf(x), 'k-', lw=2, label='frozen pdf')\n",
            "\n",
            "Check accuracy of ``cdf`` and ``ppf``:\n",
            "\n",
            ">>> vals = skewnorm.ppf([0.001, 0.5, 0.999], a)\n",
            ">>> np.allclose([0.001, 0.5, 0.999], skewnorm.cdf(vals, a))\n",
            "True\n",
            "\n",
            "Generate random numbers:\n",
            "\n",
            ">>> r = skewnorm.rvs(a, size=1000)\n",
            "\n",
            "And compare the histogram:\n",
            "\n",
            ">>> ax.hist(r, density=True, bins='auto', histtype='stepfilled', alpha=0.2)\n",
            ">>> ax.set_xlim([x[0], x[-1]])\n",
            ">>> ax.legend(loc='best', frameon=False)\n",
            ">>> plt.show()\n",
            "\n",
            "\n",
            "References\n",
            "----------\n",
            ".. [1] A. Azzalini and A. Capitanio (1999). Statistical applications of\n",
            "    the multivariate skew-normal distribution. J. Roy. Statist. Soc.,\n",
            "    B 61, 579-602. :arxiv:`0911.2093`\n",
            "\u001b[0;31mClass docstring:\u001b[0m\n",
            "A skew-normal random variable.\n",
            "\n",
            "%(before_notes)s\n",
            "\n",
            "Notes\n",
            "-----\n",
            "The pdf is::\n",
            "\n",
            "    skewnorm.pdf(x, a) = 2 * norm.pdf(x) * norm.cdf(a*x)\n",
            "\n",
            "`skewnorm` takes a real number :math:`a` as a skewness parameter\n",
            "When ``a = 0`` the distribution is identical to a normal distribution\n",
            "(`norm`). `rvs` implements the method of [1]_.\n",
            "\n",
            "%(after_notes)s\n",
            "\n",
            "%(example)s\n",
            "\n",
            "References\n",
            "----------\n",
            ".. [1] A. Azzalini and A. Capitanio (1999). Statistical applications of\n",
            "    the multivariate skew-normal distribution. J. Roy. Statist. Soc.,\n",
            "    B 61, 579-602. :arxiv:`0911.2093`\n",
            "\u001b[0;31mCall docstring:\u001b[0m \n",
            "Freeze the distribution for the given arguments.\n",
            "\n",
            "Parameters\n",
            "----------\n",
            "arg1, arg2, arg3,... : array_like\n",
            "    The shape parameter(s) for the distribution.  Should include all\n",
            "    the non-optional arguments, may include ``loc`` and ``scale``.\n",
            "\n",
            "Returns\n",
            "-------\n",
            "rv_frozen : rv_frozen instance\n",
            "    The frozen distribution."
          ]
        }
      ],
      "source": [
        "# 查看 scipy.stats 中 skewnorm 函数的帮助文档，该函数用于生成偏态正态分布\n",
        "\n",
        "stats.skewnorm?"
      ]
    },
    {
      "cell_type": "code",
      "execution_count": 81,
      "metadata": {},
      "outputs": [],
      "source": [
        "# 定义一个函数，用于绘制偏态正态分布的直方图\n",
        "def plot_histogram_normal_skewed(mean, standard_deviation, skew, color):\n",
        "    # 创建偏态正态分布对象，设置偏度、位置(均值)和尺度(标准差)参数\n",
        "    distribution = stats.skewnorm(skew, loc=mean, scale=standard_deviation)\n",
        "    # 从分布中随机生成10000个样本，并转换为DataFrame格式\n",
        "    normal_values = pd.DataFrame({\"value\": distribution.rvs(10000)})\n",
        "\n",
        "    # 使用Altair创建直方图\n",
        "    chart = alt.Chart(normal_values).mark_bar().encode(\n",
        "        # X轴设置为数值，并将数据分成最多100个箱\n",
        "        alt.X(\"value\", bin=alt.Bin(maxbins=100)),\n",
        "        # Y轴显示每个箱中的计数\n",
        "        y='count()',\n",
        "        # 设置直方图的颜色\n",
        "        color=alt.value(color)\n",
        "    )\n",
        "    return chart"
      ]
    },
    {
      "cell_type": "code",
      "execution_count": 102,
      "metadata": {},
      "outputs": [
        {
          "data": {
            "text/html": [
              "\n",
              "<style>\n",
              "  #altair-viz-393517dfc2fc4852bb0512f64d0e00e8.vega-embed {\n",
              "    width: 100%;\n",
              "    display: flex;\n",
              "  }\n",
              "\n",
              "  #altair-viz-393517dfc2fc4852bb0512f64d0e00e8.vega-embed details,\n",
              "  #altair-viz-393517dfc2fc4852bb0512f64d0e00e8.vega-embed details summary {\n",
              "    position: relative;\n",
              "  }\n",
              "</style>\n",
              "<div id=\"altair-viz-393517dfc2fc4852bb0512f64d0e00e8\"></div>\n",
              "<script type=\"text/javascript\">\n",
              "  var VEGA_DEBUG = (typeof VEGA_DEBUG == \"undefined\") ? {} : VEGA_DEBUG;\n",
              "  (function(spec, embedOpt){\n",
              "    let outputDiv = document.currentScript.previousElementSibling;\n",
              "    if (outputDiv.id !== \"altair-viz-393517dfc2fc4852bb0512f64d0e00e8\") {\n",
              "      outputDiv = document.getElementById(\"altair-viz-393517dfc2fc4852bb0512f64d0e00e8\");\n",
              "    }\n",
              "\n",
              "    const paths = {\n",
              "      \"vega\": \"https://cdn.jsdelivr.net/npm/vega@5?noext\",\n",
              "      \"vega-lib\": \"https://cdn.jsdelivr.net/npm/vega-lib?noext\",\n",
              "      \"vega-lite\": \"https://cdn.jsdelivr.net/npm/vega-lite@5.20.1?noext\",\n",
              "      \"vega-embed\": \"https://cdn.jsdelivr.net/npm/vega-embed@6?noext\",\n",
              "    };\n",
              "\n",
              "    function maybeLoadScript(lib, version) {\n",
              "      var key = `${lib.replace(\"-\", \"\")}_version`;\n",
              "      return (VEGA_DEBUG[key] == version) ?\n",
              "        Promise.resolve(paths[lib]) :\n",
              "        new Promise(function(resolve, reject) {\n",
              "          var s = document.createElement('script');\n",
              "          document.getElementsByTagName(\"head\")[0].appendChild(s);\n",
              "          s.async = true;\n",
              "          s.onload = () => {\n",
              "            VEGA_DEBUG[key] = version;\n",
              "            return resolve(paths[lib]);\n",
              "          };\n",
              "          s.onerror = () => reject(`Error loading script: ${paths[lib]}`);\n",
              "          s.src = paths[lib];\n",
              "        });\n",
              "    }\n",
              "\n",
              "    function showError(err) {\n",
              "      outputDiv.innerHTML = `<div class=\"error\" style=\"color:red;\">${err}</div>`;\n",
              "      throw err;\n",
              "    }\n",
              "\n",
              "    function displayChart(vegaEmbed) {\n",
              "      vegaEmbed(outputDiv, spec, embedOpt)\n",
              "        .catch(err => showError(`Javascript Error: ${err.message}<br>This usually means there's a typo in your chart specification. See the javascript console for the full traceback.`));\n",
              "    }\n",
              "\n",
              "    if(typeof define === \"function\" && define.amd) {\n",
              "      requirejs.config({paths});\n",
              "      let deps = [\"vega-embed\"];\n",
              "      require(deps, displayChart, err => showError(`Error loading script: ${err.message}`));\n",
              "    } else {\n",
              "      maybeLoadScript(\"vega\", \"5\")\n",
              "        .then(() => maybeLoadScript(\"vega-lite\", \"5.20.1\"))\n",
              "        .then(() => maybeLoadScript(\"vega-embed\", \"6\"))\n",
              "        .catch(showError)\n",
              "        .then(() => displayChart(vegaEmbed));\n",
              "    }\n",
              "  })({\"config\": {\"view\": {\"continuousWidth\": 300, \"continuousHeight\": 300}}, \"data\": {\"url\": \"altair-temp-data/-03ff36e777afebd5de842231496d4fe6.json\", \"format\": {\"type\": \"json\"}}, \"mark\": {\"type\": \"bar\"}, \"encoding\": {\"color\": {\"value\": \"blue\"}, \"x\": {\"bin\": {\"maxbins\": 100}, \"field\": \"value\", \"type\": \"quantitative\"}, \"y\": {\"aggregate\": \"count\", \"type\": \"quantitative\"}}, \"$schema\": \"https://vega.github.io/schema/vega-lite/v5.20.1.json\"}, {\"mode\": \"vega-lite\"});\n",
              "</script>"
            ],
            "text/plain": [
              "alt.Chart(...)"
            ]
          },
          "execution_count": 102,
          "metadata": {},
          "output_type": "execute_result"
        }
      ],
      "source": [
        "# 调用plot_histogram_normal_skewed函数绘制偏态正态分布直方图\n",
        "# 参数说明:\n",
        "# - 均值(mean) = 0\n",
        "# - 标准差(standard_deviation) = 1  \n",
        "# - 偏度(skew) = 2，表示正偏(向右偏)\n",
        "# - 颜色 = 蓝色\n",
        "plot_histogram_normal_skewed(0, 1, 2, \"blue\")"
      ]
    },
    {
      "cell_type": "markdown",
      "metadata": {},
      "source": [
        "For seeing the kurtosis in action, let's look at some data. We will load in the AAPL stock price from a h5 file:\n",
        "\n",
        "<text>\n",
        "为了观察峰度的实际效果，让我们来看一些数据。我们将从 h5 文件中加载 AAPL 股票价格：\n",
        "</text>\n"
      ]
    },
    {
      "cell_type": "code",
      "execution_count": 83,
      "metadata": {},
      "outputs": [],
      "source": [
        "# 从pickle文件中读取苹果公司(AAPL)的股票数据\n",
        "aapl = pd.read_pickle(\"data/AAPL.pkl\")"
      ]
    },
    {
      "cell_type": "code",
      "execution_count": 84,
      "metadata": {},
      "outputs": [
        {
          "data": {
            "text/html": [
              "<div>\n",
              "<style scoped>\n",
              "    .dataframe tbody tr th:only-of-type {\n",
              "        vertical-align: middle;\n",
              "    }\n",
              "\n",
              "    .dataframe tbody tr th {\n",
              "        vertical-align: top;\n",
              "    }\n",
              "\n",
              "    .dataframe thead th {\n",
              "        text-align: right;\n",
              "    }\n",
              "</style>\n",
              "<table border=\"1\" class=\"dataframe\">\n",
              "  <thead>\n",
              "    <tr style=\"text-align: right;\">\n",
              "      <th></th>\n",
              "      <th>Open</th>\n",
              "      <th>High</th>\n",
              "      <th>Low</th>\n",
              "      <th>Close</th>\n",
              "      <th>Volume</th>\n",
              "      <th>Adj Close</th>\n",
              "    </tr>\n",
              "    <tr>\n",
              "      <th>Date</th>\n",
              "      <th></th>\n",
              "      <th></th>\n",
              "      <th></th>\n",
              "      <th></th>\n",
              "      <th></th>\n",
              "      <th></th>\n",
              "    </tr>\n",
              "  </thead>\n",
              "  <tbody>\n",
              "    <tr>\n",
              "      <th>2000-01-03</th>\n",
              "      <td>104.87</td>\n",
              "      <td>112.50</td>\n",
              "      <td>101.69</td>\n",
              "      <td>111.94</td>\n",
              "      <td>19144400</td>\n",
              "      <td>27.74</td>\n",
              "    </tr>\n",
              "    <tr>\n",
              "      <th>2000-01-04</th>\n",
              "      <td>108.25</td>\n",
              "      <td>110.62</td>\n",
              "      <td>101.19</td>\n",
              "      <td>102.50</td>\n",
              "      <td>18310000</td>\n",
              "      <td>25.40</td>\n",
              "    </tr>\n",
              "    <tr>\n",
              "      <th>2000-01-05</th>\n",
              "      <td>103.75</td>\n",
              "      <td>110.56</td>\n",
              "      <td>103.00</td>\n",
              "      <td>104.00</td>\n",
              "      <td>27818000</td>\n",
              "      <td>25.77</td>\n",
              "    </tr>\n",
              "    <tr>\n",
              "      <th>2000-01-06</th>\n",
              "      <td>106.12</td>\n",
              "      <td>107.00</td>\n",
              "      <td>95.00</td>\n",
              "      <td>95.00</td>\n",
              "      <td>27443200</td>\n",
              "      <td>23.54</td>\n",
              "    </tr>\n",
              "    <tr>\n",
              "      <th>2000-01-07</th>\n",
              "      <td>96.50</td>\n",
              "      <td>101.00</td>\n",
              "      <td>95.50</td>\n",
              "      <td>99.50</td>\n",
              "      <td>16463200</td>\n",
              "      <td>24.66</td>\n",
              "    </tr>\n",
              "  </tbody>\n",
              "</table>\n",
              "</div>"
            ],
            "text/plain": [
              "              Open    High     Low   Close    Volume  Adj Close\n",
              "Date                                                           \n",
              "2000-01-03  104.87  112.50  101.69  111.94  19144400      27.74\n",
              "2000-01-04  108.25  110.62  101.19  102.50  18310000      25.40\n",
              "2000-01-05  103.75  110.56  103.00  104.00  27818000      25.77\n",
              "2000-01-06  106.12  107.00   95.00   95.00  27443200      23.54\n",
              "2000-01-07   96.50  101.00   95.50   99.50  16463200      24.66"
            ]
          },
          "execution_count": 84,
          "metadata": {},
          "output_type": "execute_result"
        }
      ],
      "source": [
        "# 显示苹果公司股票数据的前5行记录\n",
        "aapl.tail()"
      ]
    },
    {
      "cell_type": "markdown",
      "metadata": {},
      "source": [
        "#### Exercises\n",
        "\n",
        "1. Compute the increase in price for each day (Close - Open)\n",
        "2. Plot a histogram of these increases\n",
        "3. Investigate the `stats.skew` and `stats.kurtosis` functions to compute the third and fourth moment of the dataset.\n",
        "\n",
        "*For solutions, see `solutions/moments.py`*\n",
        "\n",
        "#### Extended exercise\n",
        "\n",
        "Quandl has a python module for extracting datasets. The documentation is available at https://www.quandl.com/tools/python\n",
        "\n",
        "Install this module, and review the documentation to obtain stock prices for the following four tech giants:\n",
        "* IBM\n",
        "* Google\n",
        "* Apple (more up-to-date than our dataset)\n",
        "* Amazon\n",
        "\n",
        "Compute the skew and kurtosis of each stock, and compare the results. Looking at the histograms of the stock prices, the skew and the kurtosis, what does this tell you about the usefulness of these moments?\n",
        "\n",
        "Note: Extended exercises are more open-ended than normal exercises, and may take significantly longer to complete. They also tend to be harder than other exercises. "
      ]
    },
    {
      "cell_type": "code",
      "execution_count": 108,
      "metadata": {},
      "outputs": [
        {
          "data": {
            "text/html": [
              "\n",
              "<style>\n",
              "  #altair-viz-0741d4e159a740bf82ef973a16a39c31.vega-embed {\n",
              "    width: 100%;\n",
              "    display: flex;\n",
              "  }\n",
              "\n",
              "  #altair-viz-0741d4e159a740bf82ef973a16a39c31.vega-embed details,\n",
              "  #altair-viz-0741d4e159a740bf82ef973a16a39c31.vega-embed details summary {\n",
              "    position: relative;\n",
              "  }\n",
              "</style>\n",
              "<div id=\"altair-viz-0741d4e159a740bf82ef973a16a39c31\"></div>\n",
              "<script type=\"text/javascript\">\n",
              "  var VEGA_DEBUG = (typeof VEGA_DEBUG == \"undefined\") ? {} : VEGA_DEBUG;\n",
              "  (function(spec, embedOpt){\n",
              "    let outputDiv = document.currentScript.previousElementSibling;\n",
              "    if (outputDiv.id !== \"altair-viz-0741d4e159a740bf82ef973a16a39c31\") {\n",
              "      outputDiv = document.getElementById(\"altair-viz-0741d4e159a740bf82ef973a16a39c31\");\n",
              "    }\n",
              "\n",
              "    const paths = {\n",
              "      \"vega\": \"https://cdn.jsdelivr.net/npm/vega@5?noext\",\n",
              "      \"vega-lib\": \"https://cdn.jsdelivr.net/npm/vega-lib?noext\",\n",
              "      \"vega-lite\": \"https://cdn.jsdelivr.net/npm/vega-lite@5.20.1?noext\",\n",
              "      \"vega-embed\": \"https://cdn.jsdelivr.net/npm/vega-embed@6?noext\",\n",
              "    };\n",
              "\n",
              "    function maybeLoadScript(lib, version) {\n",
              "      var key = `${lib.replace(\"-\", \"\")}_version`;\n",
              "      return (VEGA_DEBUG[key] == version) ?\n",
              "        Promise.resolve(paths[lib]) :\n",
              "        new Promise(function(resolve, reject) {\n",
              "          var s = document.createElement('script');\n",
              "          document.getElementsByTagName(\"head\")[0].appendChild(s);\n",
              "          s.async = true;\n",
              "          s.onload = () => {\n",
              "            VEGA_DEBUG[key] = version;\n",
              "            return resolve(paths[lib]);\n",
              "          };\n",
              "          s.onerror = () => reject(`Error loading script: ${paths[lib]}`);\n",
              "          s.src = paths[lib];\n",
              "        });\n",
              "    }\n",
              "\n",
              "    function showError(err) {\n",
              "      outputDiv.innerHTML = `<div class=\"error\" style=\"color:red;\">${err}</div>`;\n",
              "      throw err;\n",
              "    }\n",
              "\n",
              "    function displayChart(vegaEmbed) {\n",
              "      vegaEmbed(outputDiv, spec, embedOpt)\n",
              "        .catch(err => showError(`Javascript Error: ${err.message}<br>This usually means there's a typo in your chart specification. See the javascript console for the full traceback.`));\n",
              "    }\n",
              "\n",
              "    if(typeof define === \"function\" && define.amd) {\n",
              "      requirejs.config({paths});\n",
              "      let deps = [\"vega-embed\"];\n",
              "      require(deps, displayChart, err => showError(`Error loading script: ${err.message}`));\n",
              "    } else {\n",
              "      maybeLoadScript(\"vega\", \"5\")\n",
              "        .then(() => maybeLoadScript(\"vega-lite\", \"5.20.1\"))\n",
              "        .then(() => maybeLoadScript(\"vega-embed\", \"6\"))\n",
              "        .catch(showError)\n",
              "        .then(() => displayChart(vegaEmbed));\n",
              "    }\n",
              "  })({\"config\": {\"view\": {\"continuousWidth\": 300, \"continuousHeight\": 300}}, \"data\": {\"url\": \"altair-temp-data/-0f9d9d0f64c15cfe6280d445f64a85ec.json\", \"format\": {\"type\": \"json\"}}, \"mark\": {\"type\": \"bar\", \"color\": \"blue\", \"opacity\": 0.5}, \"encoding\": {\"x\": {\"bin\": {\"maxbins\": 50}, \"field\": \"Gain\", \"title\": \"\\u4ef7\\u683c\\u53d8\\u5316\\uff08\\u7f8e\\u5143\\uff09\", \"type\": \"quantitative\"}, \"y\": {\"aggregate\": \"count\", \"title\": \"\\u9891\\u7387\", \"type\": \"quantitative\"}}, \"height\": 400, \"title\": \"\\u6bcf\\u65e5\\u4ef7\\u683c\\u53d8\\u5316\\u5206\\u5e03\", \"width\": 600, \"$schema\": \"https://vega.github.io/schema/vega-lite/v5.20.1.json\"}, {\"mode\": \"vega-lite\"});\n",
              "</script>"
            ],
            "text/plain": [
              "alt.Chart(...)"
            ]
          },
          "metadata": {},
          "output_type": "display_data"
        },
        {
          "name": "stdout",
          "output_type": "stream",
          "text": [
            "The skew is -0.3589561655618472\n",
            "The kurtosis is 12.862787458978701\n"
          ]
        }
      ],
      "source": [
        "# Exercise 1\n",
        "aapl['Gain'] = aapl['Close'] - aapl['Open']\n",
        "\n",
        "# 增强版直方图\n",
        "chart = alt.Chart(aapl).mark_bar(\n",
        "    opacity=0.5,  # 设置透明度\n",
        "    color='blue'  # 设置颜色\n",
        ").encode(\n",
        "    alt.X(\"Gain\", \n",
        "          bin=alt.Bin(maxbins=50),\n",
        "          title=\"价格变化（美元）\"  # X轴标题\n",
        "    ),\n",
        "    alt.Y('count()',\n",
        "          title=\"频率\"  # Y轴标题\n",
        "    )\n",
        ").properties(\n",
        "    title=\"每日价格变化分布\",  # 图表标题\n",
        "    width=600,  # 图表宽度\n",
        "    height=400  # 图表高度\n",
        ")\n",
        "\n",
        "chart.display()\n",
        "\n",
        "# Exercise 3\n",
        "skew = stats.skew(aapl['Gain'])\n",
        "print(\"The skew is {}\".format(skew))\n",
        "kurtosis = stats.kurtosis(aapl['Gain'])\n",
        "print(\"The kurtosis is {}\".format(kurtosis))"
      ]
    },
    {
      "cell_type": "code",
      "execution_count": 85,
      "metadata": {},
      "outputs": [
        {
          "data": {
            "text/html": [
              "\n",
              "<style>\n",
              "  #altair-viz-5c549ede1a494c819f0e6dff46e64072.vega-embed {\n",
              "    width: 100%;\n",
              "    display: flex;\n",
              "  }\n",
              "\n",
              "  #altair-viz-5c549ede1a494c819f0e6dff46e64072.vega-embed details,\n",
              "  #altair-viz-5c549ede1a494c819f0e6dff46e64072.vega-embed details summary {\n",
              "    position: relative;\n",
              "  }\n",
              "</style>\n",
              "<div id=\"altair-viz-5c549ede1a494c819f0e6dff46e64072\"></div>\n",
              "<script type=\"text/javascript\">\n",
              "  var VEGA_DEBUG = (typeof VEGA_DEBUG == \"undefined\") ? {} : VEGA_DEBUG;\n",
              "  (function(spec, embedOpt){\n",
              "    let outputDiv = document.currentScript.previousElementSibling;\n",
              "    if (outputDiv.id !== \"altair-viz-5c549ede1a494c819f0e6dff46e64072\") {\n",
              "      outputDiv = document.getElementById(\"altair-viz-5c549ede1a494c819f0e6dff46e64072\");\n",
              "    }\n",
              "\n",
              "    const paths = {\n",
              "      \"vega\": \"https://cdn.jsdelivr.net/npm/vega@5?noext\",\n",
              "      \"vega-lib\": \"https://cdn.jsdelivr.net/npm/vega-lib?noext\",\n",
              "      \"vega-lite\": \"https://cdn.jsdelivr.net/npm/vega-lite@5.20.1?noext\",\n",
              "      \"vega-embed\": \"https://cdn.jsdelivr.net/npm/vega-embed@6?noext\",\n",
              "    };\n",
              "\n",
              "    function maybeLoadScript(lib, version) {\n",
              "      var key = `${lib.replace(\"-\", \"\")}_version`;\n",
              "      return (VEGA_DEBUG[key] == version) ?\n",
              "        Promise.resolve(paths[lib]) :\n",
              "        new Promise(function(resolve, reject) {\n",
              "          var s = document.createElement('script');\n",
              "          document.getElementsByTagName(\"head\")[0].appendChild(s);\n",
              "          s.async = true;\n",
              "          s.onload = () => {\n",
              "            VEGA_DEBUG[key] = version;\n",
              "            return resolve(paths[lib]);\n",
              "          };\n",
              "          s.onerror = () => reject(`Error loading script: ${paths[lib]}`);\n",
              "          s.src = paths[lib];\n",
              "        });\n",
              "    }\n",
              "\n",
              "    function showError(err) {\n",
              "      outputDiv.innerHTML = `<div class=\"error\" style=\"color:red;\">${err}</div>`;\n",
              "      throw err;\n",
              "    }\n",
              "\n",
              "    function displayChart(vegaEmbed) {\n",
              "      vegaEmbed(outputDiv, spec, embedOpt)\n",
              "        .catch(err => showError(`Javascript Error: ${err.message}<br>This usually means there's a typo in your chart specification. See the javascript console for the full traceback.`));\n",
              "    }\n",
              "\n",
              "    if(typeof define === \"function\" && define.amd) {\n",
              "      requirejs.config({paths});\n",
              "      let deps = [\"vega-embed\"];\n",
              "      require(deps, displayChart, err => showError(`Error loading script: ${err.message}`));\n",
              "    } else {\n",
              "      maybeLoadScript(\"vega\", \"5\")\n",
              "        .then(() => maybeLoadScript(\"vega-lite\", \"5.20.1\"))\n",
              "        .then(() => maybeLoadScript(\"vega-embed\", \"6\"))\n",
              "        .catch(showError)\n",
              "        .then(() => displayChart(vegaEmbed));\n",
              "    }\n",
              "  })({\"config\": {\"view\": {\"continuousWidth\": 300, \"continuousHeight\": 300}}, \"data\": {\"url\": \"altair-temp-data/-03f72f4d2f2757a3b8cf5a00b955a321.json\", \"format\": {\"type\": \"json\"}}, \"mark\": {\"type\": \"bar\"}, \"encoding\": {\"color\": {\"value\": \"red\"}, \"x\": {\"bin\": {\"maxbins\": 100}, \"field\": \"Price_Change\", \"type\": \"quantitative\"}, \"y\": {\"aggregate\": \"count\", \"type\": \"quantitative\"}}, \"$schema\": \"https://vega.github.io/schema/vega-lite/v5.20.1.json\"}, {\"mode\": \"vega-lite\"});\n",
              "</script>"
            ],
            "text/plain": [
              "alt.Chart(...)"
            ]
          },
          "metadata": {},
          "output_type": "display_data"
        },
        {
          "name": "stdout",
          "output_type": "stream",
          "text": [
            "Skew: -0.3589561655618472\n",
            "Kurtosis: 12.862787458978701\n"
          ]
        }
      ],
      "source": [
        "# 计算每日价格变化\n",
        "aapl['Price_Change'] = aapl['Close'] - aapl['Open']\n",
        "aapl.head()\n",
        "\n",
        "# 创建价格变化的直方图\n",
        "# 使用 Altair 绘制红色柱状图\n",
        "# bin=alt.Bin(maxbins=100) 将数据分成最多100个区间\n",
        "chart = alt.Chart(aapl).mark_bar().encode(\n",
        "        alt.X(\"Price_Change\", bin=alt.Bin(maxbins=100)),\n",
        "        y='count()',\n",
        "        color=alt.value('red'))\n",
        "chart.display()\n",
        "\n",
        "# 打印价格变化的偏度(skewness)和峰度(kurtosis)\n",
        "# 偏度衡量分布的对称性，峰度衡量分布尾部的厚度\n",
        "print(\"Skew: \" + str(stats.skew(aapl['Price_Change'])))\n",
        "print(\"Kurtosis: \" + str(stats.kurtosis(aapl['Price_Change'])))"
      ]
    },
    {
      "cell_type": "markdown",
      "metadata": {},
      "source": [
        "*For solutions, see `solutions/moments.py`*"
      ]
    },
    {
      "cell_type": "markdown",
      "metadata": {},
      "source": [
        "### Z-scores\n",
        "\n",
        "A \"z-score\" is a common normalisation method used for data. It removes the scale of the data, and instead considers the size of the data in terms of the standard deviation. It is a transformation of the data from one scale to another, using the mean and standard deviation:"
      ]
    },
    {
      "cell_type": "code",
      "execution_count": 86,
      "metadata": {},
      "outputs": [],
      "source": [
        "# 创建一个包含7个数值的numpy数组\n",
        "original_data = np.array([10, 20, 5, 105, 30, 17, 19], dtype=np.float32)\n",
        "# 计算数组的平均值\n",
        "m = np.mean(original_data)\n",
        "# 计算数组的标准差\n",
        "s = np.std(original_data)"
      ]
    },
    {
      "cell_type": "markdown",
      "metadata": {},
      "source": [
        "The transformation is to subtract the mean, and divide by the standard deviation:"
      ]
    },
    {
      "cell_type": "code",
      "execution_count": 87,
      "metadata": {},
      "outputs": [],
      "source": [
        "# 计算Z分数：将原始数据标准化，通过减去均值并除以标准差，得到每个数据点偏离平均值的标准差倍数\n",
        "zscores = (original_data - m) / s"
      ]
    },
    {
      "cell_type": "code",
      "execution_count": 88,
      "metadata": {},
      "outputs": [
        {
          "data": {
            "text/plain": [
              "array([-0.612737  , -0.29735765, -0.77042663,  2.3833666 ,  0.01802167,\n",
              "       -0.39197144, -0.3288956 ], dtype=float32)"
            ]
          },
          "execution_count": 88,
          "metadata": {},
          "output_type": "execute_result"
        }
      ],
      "source": [
        "# 打印标准化后的数据(z-scores)，即原始数据减去均值后除以标准差，用于衡量每个数据点偏离平均值的程度\n",
        "zscores"
      ]
    },
    {
      "cell_type": "markdown",
      "metadata": {},
      "source": [
        "The values of the z-scores are normalised, allowing us to compare data from different scales - for instance, comparing the stock prices between AAPL and MSFT for a period of one month, where direct comparisons are initially hard. \n",
        "\n",
        "<text>\n",
        "z-score 的值经过标准化处理，使得我们能够比较不同尺度的数据——例如，比较 AAPL 和 MSFT 在一个月内的股票价格，而直接比较最初是困难的。\n",
        "</text>\n",
        "\n",
        "Let's load some data from Quandl. To do that, create a file called `my_secrets.py` and create a value called `QUANDL_API_KEY` and set that equal to your API key from Quandl. You can obtain one by signing up at https://www.quandl.com/tools/api and then viewing your profile page at https://www.quandl.com/account/profile\n",
        "\n",
        "You can copy the file `my_secrets_template.py` to create this file for you. Just copy the file and fill out the data. Ensure this file is in the same directory as your notebooks."
      ]
    },
    {
      "cell_type": "code",
      "execution_count": 89,
      "metadata": {},
      "outputs": [
        {
          "name": "stdout",
          "output_type": "stream",
          "text": [
            "Overwriting my_secrets.py\n"
          ]
        }
      ],
      "source": [
        "%%writefile my_secrets.py\n",
        "\n",
        "# 存储 Quandl API 密钥的变量\n",
        "QUANDL_API_KEY = \"ue4SAPctpsjD3UJYZ2o1\""
      ]
    },
    {
      "cell_type": "code",
      "execution_count": 90,
      "metadata": {},
      "outputs": [],
      "source": [
        "# 导入 Quandl 库，用于获取金融数据\n",
        "import quandl\n",
        "# 导入包含 API 密钥的本地配置文件\n",
        "import my_secrets\n",
        "# 设置 Quandl API 密钥，用于认证访问 Quandl 数据服务\n",
        "quandl.ApiConfig.api_key = my_secrets.QUANDL_API_KEY"
      ]
    },
    {
      "cell_type": "code",
      "execution_count": 91,
      "metadata": {},
      "outputs": [],
      "source": [
        "# 从Quandl获取MSFT和AAPL的股票数据\n",
        "data = quandl.get_table('WIKI/PRICES', ticker = ['MSFT', 'AAPL'], # 指定获取微软和苹果的股票数据\n",
        "                        qopts = { 'columns': ['ticker', 'date', 'adj_close'] }, # 只选择股票代码、日期和经调整收盘价这三列\n",
        "                        date = { 'gte': '2017-01-01', 'lte': '2024-01-01' }, # 设置日期范围从2017年到2019年\n",
        "                        paginate=True) # 启用分页获取数据，用于处理大量数据"
      ]
    },
    {
      "cell_type": "code",
      "execution_count": 92,
      "metadata": {},
      "outputs": [
        {
          "data": {
            "text/plain": [
              "pandas.core.frame.DataFrame"
            ]
          },
          "execution_count": 92,
          "metadata": {},
          "output_type": "execute_result"
        }
      ],
      "source": [
        "# 随机抽样显示数据中的5行\n",
        "data.sample(5)\n",
        "# 查看数据对象的类型\n",
        "type(data)"
      ]
    },
    {
      "cell_type": "markdown",
      "metadata": {},
      "source": [
        "If we compare the means, we see that AAPL has a higher adjusted close value.\n",
        "\n",
        "<text>\n",
        "如果我们比较均值，我们会发现 AAPL 的调整后收盘价更高。\n",
        "</text>\n"
      ]
    },
    {
      "cell_type": "code",
      "execution_count": 93,
      "metadata": {},
      "outputs": [
        {
          "data": {
            "text/plain": [
              "ticker\n",
              "AAPL    154.137248\n",
              "MSFT     75.098922\n",
              "Name: adj_close, dtype: float64"
            ]
          },
          "execution_count": 93,
          "metadata": {},
          "output_type": "execute_result"
        }
      ],
      "source": [
        "# 按股票代码分组计算每支股票的平均调整收盘价\n",
        "\n",
        "data.groupby(\"ticker\")['adj_close'].mean()"
      ]
    },
    {
      "cell_type": "markdown",
      "metadata": {},
      "source": [
        "However, we might be more interested to see whether movements swing wildly, or are stable with regard to the current price."
      ]
    },
    {
      "cell_type": "code",
      "execution_count": 94,
      "metadata": {},
      "outputs": [
        {
          "data": {
            "text/html": [
              "\n",
              "<style>\n",
              "  #altair-viz-cac654eac13c426e9216d8a87cd2287e.vega-embed {\n",
              "    width: 100%;\n",
              "    display: flex;\n",
              "  }\n",
              "\n",
              "  #altair-viz-cac654eac13c426e9216d8a87cd2287e.vega-embed details,\n",
              "  #altair-viz-cac654eac13c426e9216d8a87cd2287e.vega-embed details summary {\n",
              "    position: relative;\n",
              "  }\n",
              "</style>\n",
              "<div id=\"altair-viz-cac654eac13c426e9216d8a87cd2287e\"></div>\n",
              "<script type=\"text/javascript\">\n",
              "  var VEGA_DEBUG = (typeof VEGA_DEBUG == \"undefined\") ? {} : VEGA_DEBUG;\n",
              "  (function(spec, embedOpt){\n",
              "    let outputDiv = document.currentScript.previousElementSibling;\n",
              "    if (outputDiv.id !== \"altair-viz-cac654eac13c426e9216d8a87cd2287e\") {\n",
              "      outputDiv = document.getElementById(\"altair-viz-cac654eac13c426e9216d8a87cd2287e\");\n",
              "    }\n",
              "\n",
              "    const paths = {\n",
              "      \"vega\": \"https://cdn.jsdelivr.net/npm/vega@5?noext\",\n",
              "      \"vega-lib\": \"https://cdn.jsdelivr.net/npm/vega-lib?noext\",\n",
              "      \"vega-lite\": \"https://cdn.jsdelivr.net/npm/vega-lite@5.20.1?noext\",\n",
              "      \"vega-embed\": \"https://cdn.jsdelivr.net/npm/vega-embed@6?noext\",\n",
              "    };\n",
              "\n",
              "    function maybeLoadScript(lib, version) {\n",
              "      var key = `${lib.replace(\"-\", \"\")}_version`;\n",
              "      return (VEGA_DEBUG[key] == version) ?\n",
              "        Promise.resolve(paths[lib]) :\n",
              "        new Promise(function(resolve, reject) {\n",
              "          var s = document.createElement('script');\n",
              "          document.getElementsByTagName(\"head\")[0].appendChild(s);\n",
              "          s.async = true;\n",
              "          s.onload = () => {\n",
              "            VEGA_DEBUG[key] = version;\n",
              "            return resolve(paths[lib]);\n",
              "          };\n",
              "          s.onerror = () => reject(`Error loading script: ${paths[lib]}`);\n",
              "          s.src = paths[lib];\n",
              "        });\n",
              "    }\n",
              "\n",
              "    function showError(err) {\n",
              "      outputDiv.innerHTML = `<div class=\"error\" style=\"color:red;\">${err}</div>`;\n",
              "      throw err;\n",
              "    }\n",
              "\n",
              "    function displayChart(vegaEmbed) {\n",
              "      vegaEmbed(outputDiv, spec, embedOpt)\n",
              "        .catch(err => showError(`Javascript Error: ${err.message}<br>This usually means there's a typo in your chart specification. See the javascript console for the full traceback.`));\n",
              "    }\n",
              "\n",
              "    if(typeof define === \"function\" && define.amd) {\n",
              "      requirejs.config({paths});\n",
              "      let deps = [\"vega-embed\"];\n",
              "      require(deps, displayChart, err => showError(`Error loading script: ${err.message}`));\n",
              "    } else {\n",
              "      maybeLoadScript(\"vega\", \"5\")\n",
              "        .then(() => maybeLoadScript(\"vega-lite\", \"5.20.1\"))\n",
              "        .then(() => maybeLoadScript(\"vega-embed\", \"6\"))\n",
              "        .catch(showError)\n",
              "        .then(() => displayChart(vegaEmbed));\n",
              "    }\n",
              "  })({\"config\": {\"view\": {\"continuousWidth\": 300, \"continuousHeight\": 300}}, \"data\": {\"url\": \"altair-temp-data/-fd78c9a13cc30ac9eabc6ffb801f8405.json\", \"format\": {\"type\": \"json\"}}, \"mark\": {\"type\": \"bar\", \"opacity\": 0.4}, \"encoding\": {\"color\": {\"field\": \"ticker\", \"type\": \"nominal\"}, \"x\": {\"bin\": {\"maxbins\": 30}, \"field\": \"adj_close\", \"type\": \"quantitative\"}, \"y\": {\"aggregate\": \"count\", \"stack\": null, \"type\": \"quantitative\"}}, \"$schema\": \"https://vega.github.io/schema/vega-lite/v5.20.1.json\"}, {\"mode\": \"vega-lite\"});\n",
              "</script>"
            ],
            "text/plain": [
              "alt.Chart(...)"
            ]
          },
          "execution_count": 94,
          "metadata": {},
          "output_type": "execute_result"
        }
      ],
      "source": [
        "# 使用Altair创建股票收盘价分布的柱状图\n",
        "alt.Chart(data).mark_bar(opacity=0.4).encode(\n",
        "    # X轴：设置为调整后的收盘价(adj_close)，并将数据分成最多30个区间\n",
        "    x=alt.X(\"adj_close\", bin=alt.Bin(maxbins=30)),\n",
        "    # Y轴：统计每个区间的数量，stack=None表示不堆叠不同股票的数据\n",
        "    y=alt.Y('count()', stack=None),\n",
        "    # column='ticker',  # 注释掉的代码：原本用于按股票代码分列显示\n",
        "    # 使用不同颜色区分不同的股票代码\n",
        "    color='ticker',\n",
        ")"
      ]
    },
    {
      "cell_type": "markdown",
      "metadata": {},
      "source": [
        "To truly compare these distributions, we need to convert them to z-scores first, which gives us more information about the relative stock price movements:\n",
        "\n",
        "<text>\n",
        "要真正比较这些分布，我们首先需要将它们转换为 z 分数，这为我们提供了有关股票价格相对变动的更多信息：\n",
        "</text>\n"
      ]
    },
    {
      "cell_type": "code",
      "execution_count": 95,
      "metadata": {},
      "outputs": [
        {
          "data": {
            "text/plain": [
              "Index(['ticker', 'date', 'adj_close'], dtype='object')"
            ]
          },
          "execution_count": 95,
          "metadata": {},
          "output_type": "execute_result"
        }
      ],
      "source": [
        "# 显示数据框的所有列名\n",
        "\n",
        "data.columns"
      ]
    },
    {
      "cell_type": "code",
      "execution_count": 96,
      "metadata": {},
      "outputs": [
        {
          "data": {
            "text/html": [
              "<div>\n",
              "<style scoped>\n",
              "    .dataframe tbody tr th:only-of-type {\n",
              "        vertical-align: middle;\n",
              "    }\n",
              "\n",
              "    .dataframe tbody tr th {\n",
              "        vertical-align: top;\n",
              "    }\n",
              "\n",
              "    .dataframe thead th {\n",
              "        text-align: right;\n",
              "    }\n",
              "</style>\n",
              "<table border=\"1\" class=\"dataframe\">\n",
              "  <thead>\n",
              "    <tr style=\"text-align: right;\">\n",
              "      <th>ticker</th>\n",
              "      <th>AAPL</th>\n",
              "      <th>MSFT</th>\n",
              "    </tr>\n",
              "    <tr>\n",
              "      <th>date</th>\n",
              "      <th></th>\n",
              "      <th></th>\n",
              "    </tr>\n",
              "  </thead>\n",
              "  <tbody>\n",
              "    <tr>\n",
              "      <th>2017-01-03</th>\n",
              "      <td>-2.399152</td>\n",
              "      <td>-1.330589</td>\n",
              "    </tr>\n",
              "    <tr>\n",
              "      <th>2017-01-04</th>\n",
              "      <td>-2.406966</td>\n",
              "      <td>-1.356847</td>\n",
              "    </tr>\n",
              "    <tr>\n",
              "      <th>2017-01-05</th>\n",
              "      <td>-2.371503</td>\n",
              "      <td>-1.356847</td>\n",
              "    </tr>\n",
              "    <tr>\n",
              "      <th>2017-01-06</th>\n",
              "      <td>-2.293364</td>\n",
              "      <td>-1.306206</td>\n",
              "    </tr>\n",
              "    <tr>\n",
              "      <th>2017-01-09</th>\n",
              "      <td>-2.228449</td>\n",
              "      <td>-1.324962</td>\n",
              "    </tr>\n",
              "  </tbody>\n",
              "</table>\n",
              "</div>"
            ],
            "text/plain": [
              "ticker          AAPL      MSFT\n",
              "date                          \n",
              "2017-01-03 -2.399152 -1.330589\n",
              "2017-01-04 -2.406966 -1.356847\n",
              "2017-01-05 -2.371503 -1.356847\n",
              "2017-01-06 -2.293364 -1.306206\n",
              "2017-01-09 -2.228449 -1.324962"
            ]
          },
          "execution_count": 96,
          "metadata": {},
          "output_type": "execute_result"
        }
      ],
      "source": [
        "# 将数据透视为以日期为索引、股票代码为列的价格矩阵\n",
        "prices = data.pivot(columns=\"ticker\", index=\"date\", values='adj_close')\n",
        "# 计算每支股票的Z分数：(价格-均价)/标准差\n",
        "z_scores = (prices - prices.mean())/prices.std()\n",
        "# 显示前5行Z分数数据\n",
        "z_scores.head()"
      ]
    },
    {
      "cell_type": "code",
      "execution_count": 97,
      "metadata": {},
      "outputs": [
        {
          "data": {
            "text/html": [
              "\n",
              "<style>\n",
              "  #altair-viz-322d82e045744f0489f9830e154709fc.vega-embed {\n",
              "    width: 100%;\n",
              "    display: flex;\n",
              "  }\n",
              "\n",
              "  #altair-viz-322d82e045744f0489f9830e154709fc.vega-embed details,\n",
              "  #altair-viz-322d82e045744f0489f9830e154709fc.vega-embed details summary {\n",
              "    position: relative;\n",
              "  }\n",
              "</style>\n",
              "<div id=\"altair-viz-322d82e045744f0489f9830e154709fc\"></div>\n",
              "<script type=\"text/javascript\">\n",
              "  var VEGA_DEBUG = (typeof VEGA_DEBUG == \"undefined\") ? {} : VEGA_DEBUG;\n",
              "  (function(spec, embedOpt){\n",
              "    let outputDiv = document.currentScript.previousElementSibling;\n",
              "    if (outputDiv.id !== \"altair-viz-322d82e045744f0489f9830e154709fc\") {\n",
              "      outputDiv = document.getElementById(\"altair-viz-322d82e045744f0489f9830e154709fc\");\n",
              "    }\n",
              "\n",
              "    const paths = {\n",
              "      \"vega\": \"https://cdn.jsdelivr.net/npm/vega@5?noext\",\n",
              "      \"vega-lib\": \"https://cdn.jsdelivr.net/npm/vega-lib?noext\",\n",
              "      \"vega-lite\": \"https://cdn.jsdelivr.net/npm/vega-lite@5.20.1?noext\",\n",
              "      \"vega-embed\": \"https://cdn.jsdelivr.net/npm/vega-embed@6?noext\",\n",
              "    };\n",
              "\n",
              "    function maybeLoadScript(lib, version) {\n",
              "      var key = `${lib.replace(\"-\", \"\")}_version`;\n",
              "      return (VEGA_DEBUG[key] == version) ?\n",
              "        Promise.resolve(paths[lib]) :\n",
              "        new Promise(function(resolve, reject) {\n",
              "          var s = document.createElement('script');\n",
              "          document.getElementsByTagName(\"head\")[0].appendChild(s);\n",
              "          s.async = true;\n",
              "          s.onload = () => {\n",
              "            VEGA_DEBUG[key] = version;\n",
              "            return resolve(paths[lib]);\n",
              "          };\n",
              "          s.onerror = () => reject(`Error loading script: ${paths[lib]}`);\n",
              "          s.src = paths[lib];\n",
              "        });\n",
              "    }\n",
              "\n",
              "    function showError(err) {\n",
              "      outputDiv.innerHTML = `<div class=\"error\" style=\"color:red;\">${err}</div>`;\n",
              "      throw err;\n",
              "    }\n",
              "\n",
              "    function displayChart(vegaEmbed) {\n",
              "      vegaEmbed(outputDiv, spec, embedOpt)\n",
              "        .catch(err => showError(`Javascript Error: ${err.message}<br>This usually means there's a typo in your chart specification. See the javascript console for the full traceback.`));\n",
              "    }\n",
              "\n",
              "    if(typeof define === \"function\" && define.amd) {\n",
              "      requirejs.config({paths});\n",
              "      let deps = [\"vega-embed\"];\n",
              "      require(deps, displayChart, err => showError(`Error loading script: ${err.message}`));\n",
              "    } else {\n",
              "      maybeLoadScript(\"vega\", \"5\")\n",
              "        .then(() => maybeLoadScript(\"vega-lite\", \"5.20.1\"))\n",
              "        .then(() => maybeLoadScript(\"vega-embed\", \"6\"))\n",
              "        .catch(showError)\n",
              "        .then(() => displayChart(vegaEmbed));\n",
              "    }\n",
              "  })({\"config\": {\"view\": {\"continuousWidth\": 300, \"continuousHeight\": 300}}, \"data\": {\"url\": \"altair-temp-data/-3683cfbaceb8d98cf9de017cbbb36596.json\", \"format\": {\"type\": \"json\"}}, \"mark\": {\"type\": \"bar\", \"opacity\": 0.4}, \"encoding\": {\"color\": {\"field\": \"ticker\", \"type\": \"nominal\"}, \"x\": {\"bin\": {\"maxbins\": 30}, \"field\": \"z_score_adj_close\", \"type\": \"quantitative\"}, \"y\": {\"aggregate\": \"count\", \"stack\": null, \"type\": \"quantitative\"}}, \"$schema\": \"https://vega.github.io/schema/vega-lite/v5.20.1.json\"}, {\"mode\": \"vega-lite\"});\n",
              "</script>"
            ],
            "text/plain": [
              "alt.Chart(...)"
            ]
          },
          "execution_count": 97,
          "metadata": {},
          "output_type": "execute_result"
        }
      ],
      "source": [
        "# 创建一个柱状图来展示标准化后的股票收盘价分布\n",
        "alt.Chart(z_scores.melt(value_name=\"z_score_adj_close\")).mark_bar(opacity=0.4).encode(\n",
        "    # X轴：标准化后的收盘价，分成最多30个区间\n",
        "    x=alt.X(\"z_score_adj_close\", bin=alt.Bin(maxbins=30)),\n",
        "    # Y轴：每个区间的计数，不堆叠显示\n",
        "    y=alt.Y('count()', stack=None),\n",
        "    # column='ticker',  # 注释掉的列分组\n",
        "    # 使用不同颜色区分不同的股票代码\n",
        "    color='ticker',\n",
        ")"
      ]
    },
    {
      "cell_type": "markdown",
      "metadata": {},
      "source": [
        "We can now compare the distributions, visually and directly against each other. This specific analysis doesn't tell us much, but we can use z-scores to compare distributions of data from different scales, as we saw above.\n",
        "\n",
        "<text>\n",
        "我们现在可以直观地直接比较这些分布。这种特定的分析并没有告诉我们太多信息，但正如我们上面所看到的，我们可以使用 z 分数来比较来自不同尺度的数据分布。\n",
        "</text>\n"
      ]
    },
    {
      "cell_type": "markdown",
      "metadata": {},
      "source": [
        "#### Exercise\n",
        "\n",
        "Perform the same analysis, but using the increase in adjusted closing price in a given day, rather than the absolute value."
      ]
    },
    {
      "cell_type": "code",
      "execution_count": 98,
      "metadata": {},
      "outputs": [
        {
          "name": "stderr",
          "output_type": "stream",
          "text": [
            "/tmp/ipykernel_135996/4210873990.py:2: FutureWarning: The default fill_method='pad' in DataFrame.pct_change is deprecated and will be removed in a future version. Either fill in any non-leading NA values prior to calling pct_change or specify 'fill_method=None' to not fill NA values.\n",
            "  returns = prices.pct_change().iloc[1:,:]\n"
          ]
        },
        {
          "data": {
            "text/html": [
              "\n",
              "<style>\n",
              "  #altair-viz-3680e7a031744c01bcf99a467e45c5ba.vega-embed {\n",
              "    width: 100%;\n",
              "    display: flex;\n",
              "  }\n",
              "\n",
              "  #altair-viz-3680e7a031744c01bcf99a467e45c5ba.vega-embed details,\n",
              "  #altair-viz-3680e7a031744c01bcf99a467e45c5ba.vega-embed details summary {\n",
              "    position: relative;\n",
              "  }\n",
              "</style>\n",
              "<div id=\"altair-viz-3680e7a031744c01bcf99a467e45c5ba\"></div>\n",
              "<script type=\"text/javascript\">\n",
              "  var VEGA_DEBUG = (typeof VEGA_DEBUG == \"undefined\") ? {} : VEGA_DEBUG;\n",
              "  (function(spec, embedOpt){\n",
              "    let outputDiv = document.currentScript.previousElementSibling;\n",
              "    if (outputDiv.id !== \"altair-viz-3680e7a031744c01bcf99a467e45c5ba\") {\n",
              "      outputDiv = document.getElementById(\"altair-viz-3680e7a031744c01bcf99a467e45c5ba\");\n",
              "    }\n",
              "\n",
              "    const paths = {\n",
              "      \"vega\": \"https://cdn.jsdelivr.net/npm/vega@5?noext\",\n",
              "      \"vega-lib\": \"https://cdn.jsdelivr.net/npm/vega-lib?noext\",\n",
              "      \"vega-lite\": \"https://cdn.jsdelivr.net/npm/vega-lite@5.20.1?noext\",\n",
              "      \"vega-embed\": \"https://cdn.jsdelivr.net/npm/vega-embed@6?noext\",\n",
              "    };\n",
              "\n",
              "    function maybeLoadScript(lib, version) {\n",
              "      var key = `${lib.replace(\"-\", \"\")}_version`;\n",
              "      return (VEGA_DEBUG[key] == version) ?\n",
              "        Promise.resolve(paths[lib]) :\n",
              "        new Promise(function(resolve, reject) {\n",
              "          var s = document.createElement('script');\n",
              "          document.getElementsByTagName(\"head\")[0].appendChild(s);\n",
              "          s.async = true;\n",
              "          s.onload = () => {\n",
              "            VEGA_DEBUG[key] = version;\n",
              "            return resolve(paths[lib]);\n",
              "          };\n",
              "          s.onerror = () => reject(`Error loading script: ${paths[lib]}`);\n",
              "          s.src = paths[lib];\n",
              "        });\n",
              "    }\n",
              "\n",
              "    function showError(err) {\n",
              "      outputDiv.innerHTML = `<div class=\"error\" style=\"color:red;\">${err}</div>`;\n",
              "      throw err;\n",
              "    }\n",
              "\n",
              "    function displayChart(vegaEmbed) {\n",
              "      vegaEmbed(outputDiv, spec, embedOpt)\n",
              "        .catch(err => showError(`Javascript Error: ${err.message}<br>This usually means there's a typo in your chart specification. See the javascript console for the full traceback.`));\n",
              "    }\n",
              "\n",
              "    if(typeof define === \"function\" && define.amd) {\n",
              "      requirejs.config({paths});\n",
              "      let deps = [\"vega-embed\"];\n",
              "      require(deps, displayChart, err => showError(`Error loading script: ${err.message}`));\n",
              "    } else {\n",
              "      maybeLoadScript(\"vega\", \"5\")\n",
              "        .then(() => maybeLoadScript(\"vega-lite\", \"5.20.1\"))\n",
              "        .then(() => maybeLoadScript(\"vega-embed\", \"6\"))\n",
              "        .catch(showError)\n",
              "        .then(() => displayChart(vegaEmbed));\n",
              "    }\n",
              "  })({\"config\": {\"view\": {\"continuousWidth\": 300, \"continuousHeight\": 300}}, \"data\": {\"url\": \"altair-temp-data/-d8901c0bf170f2aaf9671bfd4cce556b.json\", \"format\": {\"type\": \"json\"}}, \"mark\": {\"type\": \"bar\", \"opacity\": 0.4}, \"encoding\": {\"color\": {\"field\": \"ticker\", \"type\": \"nominal\"}, \"x\": {\"bin\": {\"maxbins\": 30}, \"field\": \"z_score_returns\", \"type\": \"quantitative\"}, \"y\": {\"aggregate\": \"count\", \"stack\": null, \"type\": \"quantitative\"}}, \"$schema\": \"https://vega.github.io/schema/vega-lite/v5.20.1.json\"}, {\"mode\": \"vega-lite\"});\n",
              "</script>"
            ],
            "text/plain": [
              "alt.Chart(...)"
            ]
          },
          "execution_count": 98,
          "metadata": {},
          "output_type": "execute_result"
        }
      ],
      "source": [
        "# 计算每日收益率\n",
        "returns = prices.pct_change().iloc[1:,:]\n",
        "# 对收益率进行标准化处理，计算z分数\n",
        "z_rets = (returns - returns.mean())/returns.std()\n",
        "\n",
        "# 创建柱状图可视化标准化后的收益率分布\n",
        "# 使用altair绘制直方图，设置透明度为0.4\n",
        "alt.Chart(z_rets.melt(value_name=\"z_score_returns\")).mark_bar(opacity=0.4).encode(\n",
        "    # X轴显示标准化收益率，最多分30个箱\n",
        "    x=alt.X(\"z_score_returns\", bin=alt.Bin(maxbins=30)),\n",
        "    # Y轴显示每个箱的计数，不堆叠\n",
        "    y=alt.Y('count()', stack=None),\n",
        "    # column='ticker',  # 注释掉的列分组\n",
        "    # 根据股票代码设置不同颜色\n",
        "    color='ticker',\n",
        ")"
      ]
    },
    {
      "cell_type": "markdown",
      "metadata": {},
      "source": [
        "*For solutions, see `solutions/adjusted_increases.py`*"
      ]
    }
  ],
  "metadata": {
    "kernelspec": {
      "display_name": "Python 3",
      "language": "python",
      "name": "python3"
    },
    "language_info": {
      "codemirror_mode": {
        "name": "ipython",
        "version": 3
      },
      "file_extension": ".py",
      "mimetype": "text/x-python",
      "name": "python",
      "nbconvert_exporter": "python",
      "pygments_lexer": "ipython3",
      "version": "3.12.3"
    }
  },
  "nbformat": 4,
  "nbformat_minor": 2
}
